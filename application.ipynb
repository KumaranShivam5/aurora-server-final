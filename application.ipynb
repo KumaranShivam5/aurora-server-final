{
 "cells": [
  {
   "cell_type": "markdown",
   "metadata": {},
   "source": [
    "# Application On all sources"
   ]
  },
  {
   "cell_type": "markdown",
   "metadata": {},
   "source": [
    "## Imports"
   ]
  },
  {
   "cell_type": "code",
   "execution_count": 6,
   "metadata": {},
   "outputs": [],
   "source": [
    "%load_ext autoreload\n",
    "%autoreload 2\n",
    "import numpy as np \n",
    "from matplotlib import pyplot as plt \n",
    "import pandas as pd \n",
    "import seaborn as sns\n",
    "import joblib\n"
   ]
  },
  {
   "cell_type": "code",
   "execution_count": 7,
   "metadata": {},
   "outputs": [],
   "source": [
    "from utilities import make_model"
   ]
  },
  {
   "cell_type": "markdown",
   "metadata": {},
   "source": [
    "## Load"
   ]
  },
  {
   "cell_type": "markdown",
   "metadata": {},
   "source": [
    "### Load Model"
   ]
  },
  {
   "cell_type": "code",
   "execution_count": 11,
   "metadata": {},
   "outputs": [
    {
     "data": {
      "text/plain": [
       "LGBMClassifier(class_weight={'AGN': 1.2524978967563674,\n",
       "                             'CV': 25.745323836808723,\n",
       "                             'HMXB': 2.0562192560551287,\n",
       "                             'LMXB': 43.41041115489145,\n",
       "                             'PULSAR': 208.24450024014098,\n",
       "                             'STAR': 1.2132045326966958,\n",
       "                             'ULX': 12.87770640060345,\n",
       "                             'YSO': 1.5988527422270495},\n",
       "               force_col_wise=True, is_unbalance=True, metric=['auc_mu'],\n",
       "               num_class=8, objective='multiclass', random_state=42,\n",
       "               sparse=True, verbosity=0)"
      ]
     },
     "execution_count": 11,
     "metadata": {},
     "output_type": "execute_result"
    }
   ],
   "source": [
    "model = joblib.load('models/lightGBM-final.pkl')\n",
    "#model\n",
    "clf = model.clf\n",
    "clf "
   ]
  }
 ],
 "metadata": {
  "interpreter": {
   "hash": "31f2aee4e71d21fbe5cf8b01ff0e069b9275f58929596ceb00d14d90e3e16cd6"
  },
  "kernelspec": {
   "display_name": "Python 3.6.9 64-bit",
   "language": "python",
   "name": "python3"
  },
  "language_info": {
   "codemirror_mode": {
    "name": "ipython",
    "version": 3
   },
   "file_extension": ".py",
   "mimetype": "text/x-python",
   "name": "python",
   "nbconvert_exporter": "python",
   "pygments_lexer": "ipython3",
   "version": "3.6.9"
  },
  "orig_nbformat": 4
 },
 "nbformat": 4,
 "nbformat_minor": 2
}
