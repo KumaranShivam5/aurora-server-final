{
 "cells": [
  {
   "cell_type": "markdown",
   "metadata": {},
   "source": [
    "# Import Libraries"
   ]
  },
  {
   "cell_type": "code",
   "execution_count": 1,
   "metadata": {},
   "outputs": [],
   "source": [
    "import pandas as pd \n",
    "from matplotlib import pyplot as plt \n",
    "import numpy as np \n",
    "import seaborn as sns \n",
    "import lightgbm as lgb \n",
    "%load_ext autoreload\n",
    "%autoreload 2"
   ]
  },
  {
   "cell_type": "code",
   "execution_count": 2,
   "metadata": {},
   "outputs": [
    {
     "name": "stdout",
     "output_type": "stream",
     "text": [
      "offset:  \t0.000|9.999\n",
      "singinficance:  0.870|267.938\n",
      "offset:  \t0.000|2.010\n",
      "singinficance:  3.000|267.938\n"
     ]
    }
   ],
   "source": [
    "from choices import param_dict \n",
    "from utilities import deets"
   ]
  },
  {
   "cell_type": "markdown",
   "metadata": {},
   "source": [
    "# Load data"
   ]
  },
  {
   "cell_type": "code",
   "execution_count": 3,
   "metadata": {},
   "outputs": [
    {
     "name": "stdout",
     "output_type": "stream",
     "text": [
      "_____________________________________________________\n",
      "------------------------------\n",
      "Number of Objects : 7703\n",
      "Number of Columns : 73\n",
      "------------------------------\n"
     ]
    },
    {
     "data": {
      "text/plain": [
       "STAR      2790\n",
       "AGN       2395\n",
       "YSO       1149\n",
       "HMXB       748\n",
       "ULX        211\n",
       "CV         166\n",
       "LMXB       143\n",
       "PULSAR     101\n",
       "Name: class, dtype: int64"
      ]
     },
     "metadata": {},
     "output_type": "display_data"
    },
    {
     "name": "stdout",
     "output_type": "stream",
     "text": [
      "_____________________________________________________\n",
      "_____________________________________________________\n",
      "------------------------------\n",
      "Number of Objects : 7703\n",
      "Number of Columns : 41\n",
      "_____________________________________________________\n",
      "_____________________________________________________\n",
      "------------------------------\n",
      "Number of Objects : 39893\n",
      "Number of Columns : 41\n",
      "_____________________________________________________\n"
     ]
    }
   ],
   "source": [
    "x = pd.read_csv('compiled_data_v3/x_phot_minmax.csv' , index_col='name')\n",
    "x_col = x.columns.to_list()\n",
    "i = pd.read_csv('compiled_data_v3/id_frame.csv' , index_col='name')\n",
    "df = pd.merge(i,x , left_index =True , right_index =True )\n",
    "df = df[df['offset']<1.01]\n",
    "feat_to_drop = np.unique(param_dict['hardness'] + param_dict['IRAC']+[\n",
    "    '0p5_2csc' , '2-10 keV (XMM)' , '1_2_csc' , '0p5_8_csc'\n",
    "]+['var_inter_hard_prob_hs', 'ks_intra_prob_b', 'var_inter_hard_sigma_hm', 'var_inter_hard_prob_ms', 'var_inter_hard_prob_hm',])\n",
    "\n",
    "\n",
    "classes = ['AGN' ,'STAR' ,'YSO' ,'HMXB' , 'LMXB' , 'ULX' ,'CV' , 'PULSAR']\n",
    "df = df[df['class'].isin(classes)]\n",
    "#from sklearn.preprocessing import LabelEncoder\n",
    "#y_int = LabelEncoder().fit_transform(df['class'])\n",
    "deets(df,1)\n",
    "u = pd.read_csv('compiled_data_v3/x_phot_minmax-unid-var-src.csv' , index_col='name')\n",
    "u = u.drop(columns=feat_to_drop)\n",
    "x = df[x_col]\n",
    "x = x.drop(columns=feat_to_drop)\n",
    "y = df['class']\n",
    "deets(x)\n",
    "deets(u)"
   ]
  },
  {
   "cell_type": "markdown",
   "metadata": {},
   "source": [
    "# Classification"
   ]
  },
  {
   "cell_type": "code",
   "execution_count": 4,
   "metadata": {},
   "outputs": [],
   "source": [
    "from sklearn.model_selection import train_test_split\n",
    "x_train,x_test , y_train , y_test = train_test_split(x,y , test_size = 0.2 , stratify=y)"
   ]
  },
  {
   "cell_type": "markdown",
   "metadata": {},
   "source": [
    "### Using Sklearn API"
   ]
  },
  {
   "cell_type": "code",
   "execution_count": 5,
   "metadata": {},
   "outputs": [
    {
     "data": {
      "text/plain": [
       "{'STAR': 1.3179470606104418,\n",
       " 'AGN': 1.3793432990559484,\n",
       " 'YSO': 1.9552370229762268,\n",
       " 'HMXB': 2.8022839541992157,\n",
       " 'ULX': 38.32697077567007,\n",
       " 'CV': 102.83057251027365,\n",
       " 'LMXB': 222.57478508947435,\n",
       " 'PULSAR': 2013.0523019776572}"
      ]
     },
     "execution_count": 5,
     "metadata": {},
     "output_type": "execute_result"
    }
   ],
   "source": [
    "l = len(y_train)\n",
    "cl_weight = {}\n",
    "cl_dict = y_train.value_counts().to_dict()\n",
    "for cl , val in zip(cl_dict.keys() , cl_dict.values()):\n",
    "    w = np.exp((l / val)*0.1)\n",
    "    cl_weight[cl] = w\n",
    "cl_weight"
   ]
  },
  {
   "cell_type": "code",
   "execution_count": 6,
   "metadata": {},
   "outputs": [
    {
     "name": "stdout",
     "output_type": "stream",
     "text": [
      "[LightGBM] [Warning] Unknown parameter: validation_fraction\n",
      "[LightGBM] [Warning] Found whitespace in feature_names, replace with underlines\n",
      "[LightGBM] [Warning] Unknown parameter: validation_fraction\n",
      "[LightGBM] [Warning] Auto-choosing col-wise multi-threading, the overhead of testing was 0.001257 seconds.\n",
      "You can set `force_col_wise=true` to remove the overhead.\n"
     ]
    },
    {
     "data": {
      "text/plain": [
       "LGBMClassifier(class_weight={'AGN': 1.3793432990559484,\n",
       "                             'CV': 102.83057251027365,\n",
       "                             'HMXB': 2.8022839541992157,\n",
       "                             'LMXB': 222.57478508947435,\n",
       "                             'PULSAR': 2013.0523019776572,\n",
       "                             'STAR': 1.3179470606104418,\n",
       "                             'ULX': 38.32697077567007,\n",
       "                             'YSO': 1.9552370229762268},\n",
       "               is_unbalance=True, metric=['auc_mu'], n_estimators=10,\n",
       "               num_class=2, objective='multiclass', random_state=42,\n",
       "               sparse=True, validation_fraction=0.2, verbosity=0)"
      ]
     },
     "execution_count": 6,
     "metadata": {},
     "output_type": "execute_result"
    }
   ],
   "source": [
    "\n",
    "train_data = lgb.Dataset(x_train , label=y_train)\n",
    "test_data = lgb.Dataset(x_test , label=y_test , reference=train_data )\n",
    "clf = lgb.LGBMClassifier(n_estimators=10 ,class_weight = cl_weight , objective= 'multiclass', sparse=True , is_unbalance=True , metric=['auc_mu'] ,verbosity=0 , validation_fraction=0.2 ,random_state=42 , num_class = 2)\n",
    "clf.fit(x_train , y_train ,)\n",
    "#clf.score(x_test , y_test)"
   ]
  },
  {
   "cell_type": "code",
   "execution_count": 7,
   "metadata": {},
   "outputs": [
    {
     "data": {
      "text/html": [
       "<div>\n",
       "<style scoped>\n",
       "    .dataframe tbody tr th:only-of-type {\n",
       "        vertical-align: middle;\n",
       "    }\n",
       "\n",
       "    .dataframe tbody tr th {\n",
       "        vertical-align: top;\n",
       "    }\n",
       "\n",
       "    .dataframe thead th {\n",
       "        text-align: right;\n",
       "    }\n",
       "</style>\n",
       "<table border=\"1\" class=\"dataframe\">\n",
       "  <thead>\n",
       "    <tr style=\"text-align: right;\">\n",
       "      <th></th>\n",
       "      <th>gal_b2</th>\n",
       "      <th>gal_l2</th>\n",
       "      <th>var_inter_prob_b</th>\n",
       "      <th>var_inter_sigma_b</th>\n",
       "      <th>var_intra_prob_b</th>\n",
       "      <th>var_inter_index_b</th>\n",
       "      <th>kp_intra_prob_b</th>\n",
       "      <th>var_intra_index_b</th>\n",
       "      <th>h-csc</th>\n",
       "      <th>b-csc</th>\n",
       "      <th>...</th>\n",
       "      <th>Rp</th>\n",
       "      <th>B-R</th>\n",
       "      <th>G-J</th>\n",
       "      <th>G-W2</th>\n",
       "      <th>Bp-H</th>\n",
       "      <th>Bp-W3</th>\n",
       "      <th>Rp-K</th>\n",
       "      <th>J-H</th>\n",
       "      <th>J-W1</th>\n",
       "      <th>W1-W2</th>\n",
       "    </tr>\n",
       "    <tr>\n",
       "      <th>name</th>\n",
       "      <th></th>\n",
       "      <th></th>\n",
       "      <th></th>\n",
       "      <th></th>\n",
       "      <th></th>\n",
       "      <th></th>\n",
       "      <th></th>\n",
       "      <th></th>\n",
       "      <th></th>\n",
       "      <th></th>\n",
       "      <th></th>\n",
       "      <th></th>\n",
       "      <th></th>\n",
       "      <th></th>\n",
       "      <th></th>\n",
       "      <th></th>\n",
       "      <th></th>\n",
       "      <th></th>\n",
       "      <th></th>\n",
       "      <th></th>\n",
       "      <th></th>\n",
       "    </tr>\n",
       "  </thead>\n",
       "  <tbody>\n",
       "    <tr>\n",
       "      <th>2CXO J203423.6+405851</th>\n",
       "      <td>5.018995</td>\n",
       "      <td>2.224580</td>\n",
       "      <td>9.650197</td>\n",
       "      <td>0.001888</td>\n",
       "      <td>5.035169</td>\n",
       "      <td>7.5</td>\n",
       "      <td>6.42087</td>\n",
       "      <td>1.0</td>\n",
       "      <td>4.026663e-08</td>\n",
       "      <td>0.002495</td>\n",
       "      <td>...</td>\n",
       "      <td>NaN</td>\n",
       "      <td>NaN</td>\n",
       "      <td>NaN</td>\n",
       "      <td>NaN</td>\n",
       "      <td>NaN</td>\n",
       "      <td>NaN</td>\n",
       "      <td>NaN</td>\n",
       "      <td>4.126973</td>\n",
       "      <td>NaN</td>\n",
       "      <td>NaN</td>\n",
       "    </tr>\n",
       "    <tr>\n",
       "      <th>2CXO J053505.4-052717</th>\n",
       "      <td>3.908927</td>\n",
       "      <td>5.806955</td>\n",
       "      <td>10.000000</td>\n",
       "      <td>0.008150</td>\n",
       "      <td>10.000000</td>\n",
       "      <td>10.0</td>\n",
       "      <td>10.00000</td>\n",
       "      <td>8.0</td>\n",
       "      <td>9.106110e-10</td>\n",
       "      <td>0.002800</td>\n",
       "      <td>...</td>\n",
       "      <td>5.319602</td>\n",
       "      <td>3.416715</td>\n",
       "      <td>4.484082</td>\n",
       "      <td>NaN</td>\n",
       "      <td>3.870819</td>\n",
       "      <td>NaN</td>\n",
       "      <td>4.116914</td>\n",
       "      <td>3.933575</td>\n",
       "      <td>NaN</td>\n",
       "      <td>NaN</td>\n",
       "    </tr>\n",
       "  </tbody>\n",
       "</table>\n",
       "<p>2 rows × 41 columns</p>\n",
       "</div>"
      ],
      "text/plain": [
       "                         gal_b2    gal_l2  var_inter_prob_b  \\\n",
       "name                                                          \n",
       "2CXO J203423.6+405851  5.018995  2.224580          9.650197   \n",
       "2CXO J053505.4-052717  3.908927  5.806955         10.000000   \n",
       "\n",
       "                       var_inter_sigma_b  var_intra_prob_b  var_inter_index_b  \\\n",
       "name                                                                            \n",
       "2CXO J203423.6+405851           0.001888          5.035169                7.5   \n",
       "2CXO J053505.4-052717           0.008150         10.000000               10.0   \n",
       "\n",
       "                       kp_intra_prob_b  var_intra_index_b         h-csc  \\\n",
       "name                                                                      \n",
       "2CXO J203423.6+405851          6.42087                1.0  4.026663e-08   \n",
       "2CXO J053505.4-052717         10.00000                8.0  9.106110e-10   \n",
       "\n",
       "                          b-csc  ...        Rp       B-R       G-J  G-W2  \\\n",
       "name                             ...                                       \n",
       "2CXO J203423.6+405851  0.002495  ...       NaN       NaN       NaN   NaN   \n",
       "2CXO J053505.4-052717  0.002800  ...  5.319602  3.416715  4.484082   NaN   \n",
       "\n",
       "                           Bp-H  Bp-W3      Rp-K       J-H  J-W1  W1-W2  \n",
       "name                                                                     \n",
       "2CXO J203423.6+405851       NaN    NaN       NaN  4.126973   NaN    NaN  \n",
       "2CXO J053505.4-052717  3.870819    NaN  4.116914  3.933575   NaN    NaN  \n",
       "\n",
       "[2 rows x 41 columns]"
      ]
     },
     "execution_count": 7,
     "metadata": {},
     "output_type": "execute_result"
    }
   ],
   "source": [
    "x_test.iloc[0:2]"
   ]
  },
  {
   "cell_type": "code",
   "execution_count": 8,
   "metadata": {},
   "outputs": [
    {
     "data": {
      "text/plain": [
       "array(['YSO', 'STAR', 'AGN', ..., 'AGN', 'STAR', 'YSO'], dtype=object)"
      ]
     },
     "execution_count": 8,
     "metadata": {},
     "output_type": "execute_result"
    }
   ],
   "source": [
    "clf.predict(x_test)"
   ]
  },
  {
   "cell_type": "code",
   "execution_count": 9,
   "metadata": {},
   "outputs": [
    {
     "ename": "NameError",
     "evalue": "name 'pre' is not defined",
     "output_type": "error",
     "traceback": [
      "\u001b[0;31m---------------------------------------------------------------------------\u001b[0m",
      "\u001b[0;31mNameError\u001b[0m                                 Traceback (most recent call last)",
      "\u001b[0;32m<ipython-input-9-779b4e404a94>\u001b[0m in \u001b[0;36m<module>\u001b[0;34m\u001b[0m\n\u001b[0;32m----> 1\u001b[0;31m \u001b[0mpre\u001b[0m\u001b[0;34m\u001b[0m\u001b[0;34m\u001b[0m\u001b[0m\n\u001b[0m",
      "\u001b[0;31mNameError\u001b[0m: name 'pre' is not defined"
     ]
    }
   ],
   "source": [
    "pre"
   ]
  },
  {
   "cell_type": "code",
   "execution_count": null,
   "metadata": {},
   "outputs": [
    {
     "data": {
      "image/png": "[encoded data removed]",
      "text/plain": [
       "<Figure size 576x432 with 2 Axes>"
      ]
     },
     "metadata": {
      "needs_background": "light"
     },
     "output_type": "display_data"
    }
   ],
   "source": [
    "from sklearn.metrics import confusion_matrix\n",
    "label = np.unique(y_test)\n",
    "bst_clf = clf.best_iteration_\n",
    "cm = confusion_matrix(y_test , clf.predict(x_test) , labels = label , normalize='true')\n",
    "plt.figure(figsize=(8,6))\n",
    "sns.heatmap(cm*100 , fmt='.0f' , annot=True , xticklabels=label, yticklabels=label)\n",
    "plt.show()"
   ]
  },
  {
   "cell_type": "code",
   "execution_count": null,
   "metadata": {},
   "outputs": [],
   "source": [
    "from sklearn.ensemble import HistGradientBoostingClassifier\n"
   ]
  },
  {
   "cell_type": "markdown",
   "metadata": {},
   "source": [
    "## Cross validation"
   ]
  },
  {
   "cell_type": "code",
   "execution_count": 10,
   "metadata": {},
   "outputs": [
    {
     "data": {
      "text/plain": [
       "{'STAR': 1.264483803586971,\n",
       " 'AGN': 1.3143817307136192,\n",
       " 'YSO': 1.7681516079519681,\n",
       " 'HMXB': 2.400962179693713,\n",
       " 'ULX': 22.180882500059635,\n",
       " 'CV': 51.32204057531549,\n",
       " 'LMXB': 98.93605023682177,\n",
       " 'PULSAR': 643.0974682202723}"
      ]
     },
     "execution_count": 10,
     "metadata": {},
     "output_type": "execute_result"
    }
   ],
   "source": [
    "from utilities import simple_cv\n",
    "param = {\n",
    "    'objective': 'binaryclass',\n",
    "    'num_class':len(np.unique(y)),\n",
    "    'metric': ['auc_mu' , ] , \n",
    "    'verbosity' : 2 , \n",
    "    'deterministic' : True  , \n",
    "    'early_stopping_round' : 20 , \n",
    "    'sparse' : True , \n",
    "    'is_unbalance' : True\n",
    "    }\n",
    "l = len(y_train)\n",
    "cl_weight = {}\n",
    "cl_dict = y_train.value_counts().to_dict()\n",
    "for cl , val in zip(cl_dict.keys() , cl_dict.values()):\n",
    "    w = np.exp((l / val)*0.085)\n",
    "    cl_weight[cl] = w\n",
    "cl_weight\n"
   ]
  },
  {
   "cell_type": "code",
   "execution_count": 11,
   "metadata": {},
   "outputs": [
    {
     "name": "stdout",
     "output_type": "stream",
     "text": [
      "----------------------------------------------------------\n",
      "GOING for 1 / 20 Iteration FOLD\n",
      "___________________________________________________________\n",
      "[LightGBM] [Warning] Found whitespace in feature_names, replace with underlines\n",
      "----------------------------------------------------------\n",
      "GOING for 2 / 20 Iteration FOLD\n",
      "___________________________________________________________\n",
      "[LightGBM] [Warning] Found whitespace in feature_names, replace with underlines\n",
      "----------------------------------------------------------\n",
      "GOING for 3 / 20 Iteration FOLD\n",
      "___________________________________________________________\n",
      "[LightGBM] [Warning] Found whitespace in feature_names, replace with underlines\n",
      "----------------------------------------------------------\n",
      "GOING for 4 / 20 Iteration FOLD\n",
      "___________________________________________________________\n",
      "[LightGBM] [Warning] Found whitespace in feature_names, replace with underlines\n",
      "----------------------------------------------------------\n",
      "GOING for 5 / 20 Iteration FOLD\n",
      "___________________________________________________________\n",
      "[LightGBM] [Warning] Found whitespace in feature_names, replace with underlines\n",
      "----------------------------------------------------------\n",
      "GOING for 6 / 20 Iteration FOLD\n",
      "___________________________________________________________\n",
      "[LightGBM] [Warning] Found whitespace in feature_names, replace with underlines\n",
      "----------------------------------------------------------\n",
      "GOING for 7 / 20 Iteration FOLD\n",
      "___________________________________________________________\n",
      "[LightGBM] [Warning] Found whitespace in feature_names, replace with underlines\n",
      "----------------------------------------------------------\n",
      "GOING for 8 / 20 Iteration FOLD\n",
      "___________________________________________________________\n",
      "[LightGBM] [Warning] Found whitespace in feature_names, replace with underlines\n",
      "----------------------------------------------------------\n",
      "GOING for 9 / 20 Iteration FOLD\n",
      "___________________________________________________________\n",
      "[LightGBM] [Warning] Found whitespace in feature_names, replace with underlines\n",
      "----------------------------------------------------------\n",
      "GOING for 10 / 20 Iteration FOLD\n",
      "___________________________________________________________\n",
      "[LightGBM] [Warning] Found whitespace in feature_names, replace with underlines\n",
      "----------------------------------------------------------\n",
      "GOING for 11 / 20 Iteration FOLD\n",
      "___________________________________________________________\n",
      "[LightGBM] [Warning] Found whitespace in feature_names, replace with underlines\n",
      "----------------------------------------------------------\n",
      "GOING for 12 / 20 Iteration FOLD\n",
      "___________________________________________________________\n",
      "[LightGBM] [Warning] Found whitespace in feature_names, replace with underlines\n",
      "----------------------------------------------------------\n",
      "GOING for 13 / 20 Iteration FOLD\n",
      "___________________________________________________________\n",
      "[LightGBM] [Warning] Found whitespace in feature_names, replace with underlines\n",
      "----------------------------------------------------------\n",
      "GOING for 14 / 20 Iteration FOLD\n",
      "___________________________________________________________\n",
      "[LightGBM] [Warning] Found whitespace in feature_names, replace with underlines\n",
      "----------------------------------------------------------\n",
      "GOING for 15 / 20 Iteration FOLD\n",
      "___________________________________________________________\n",
      "[LightGBM] [Warning] Found whitespace in feature_names, replace with underlines\n",
      "----------------------------------------------------------\n",
      "GOING for 16 / 20 Iteration FOLD\n",
      "___________________________________________________________\n",
      "[LightGBM] [Warning] Found whitespace in feature_names, replace with underlines\n",
      "----------------------------------------------------------\n",
      "GOING for 17 / 20 Iteration FOLD\n",
      "___________________________________________________________\n",
      "[LightGBM] [Warning] Found whitespace in feature_names, replace with underlines\n",
      "----------------------------------------------------------\n",
      "GOING for 18 / 20 Iteration FOLD\n",
      "___________________________________________________________\n",
      "[LightGBM] [Warning] Found whitespace in feature_names, replace with underlines\n",
      "----------------------------------------------------------\n",
      "GOING for 19 / 20 Iteration FOLD\n",
      "___________________________________________________________\n",
      "[LightGBM] [Warning] Found whitespace in feature_names, replace with underlines\n",
      "----------------------------------------------------------\n",
      "GOING for 20 / 20 Iteration FOLD\n",
      "___________________________________________________________\n",
      "[LightGBM] [Warning] Found whitespace in feature_names, replace with underlines\n",
      "[LightGBM] [Warning] Found whitespace in feature_names, replace with underlines\n"
     ]
    }
   ],
   "source": [
    "clf = lgb.LGBMClassifier(n_estimators=100 ,class_weight = cl_weight , objective= 'multiclass', sparse=True , is_unbalance=True , metric=['auc_mu'] ,verbosity = 0 , random_state=42 , num_class=len(np.unique(y)) ,force_col_wise=True)\n",
    "res_arr = []\n",
    "from tqdm import tqdm\n",
    "#for i in tqdm(range(5)):\n",
    "res = simple_cv(x,y ,model=clf , k=20 , normalize_prob=0)\n",
    "#res_arr.append(res)"
   ]
  },
  {
   "cell_type": "code",
   "execution_count": 12,
   "metadata": {},
   "outputs": [
    {
     "name": "stdout",
     "output_type": "stream",
     "text": [
      "| class   |   recall_score |   precision_score |   f1_score |\n",
      "|:--------|---------------:|------------------:|-----------:|\n",
      "| AGN     |       0.974113 |          0.968452 |   0.971274 |\n",
      "| CV      |       0.554217 |          0.605263 |   0.578616 |\n",
      "| HMXB    |       0.899733 |          0.918145 |   0.908845 |\n",
      "| LMXB    |       0.818182 |          0.943548 |   0.876404 |\n",
      "| PULSAR  |       0.485149 |          0.395161 |   0.435556 |\n",
      "| STAR    |       0.955197 |          0.96036  |   0.957772 |\n",
      "| ULX     |       0.706161 |          0.696262 |   0.701176 |\n",
      "| YSO     |       0.94691  |          0.928328 |   0.937527 |\n"
     ]
    }
   ],
   "source": [
    "pd.options.display.float_format = '{:,.2f}'.format\n",
    "class_scores = res['class_scores']\n",
    "print(class_scores.to_markdown())"
   ]
  },
  {
   "cell_type": "code",
   "execution_count": 13,
   "metadata": {},
   "outputs": [
    {
     "ename": "IndexError",
     "evalue": "list index out of range",
     "output_type": "error",
     "traceback": [
      "\u001b[0;31m---------------------------------------------------------------------------\u001b[0m",
      "\u001b[0;31mIndexError\u001b[0m                                Traceback (most recent call last)",
      "\u001b[0;32m<ipython-input-13-9216aa8eff69>\u001b[0m in \u001b[0;36m<module>\u001b[0;34m\u001b[0m\n\u001b[1;32m      1\u001b[0m \u001b[0;32mfrom\u001b[0m \u001b[0mutilities\u001b[0m \u001b[0;32mimport\u001b[0m \u001b[0mtake_df_mean\u001b[0m\u001b[0;34m\u001b[0m\u001b[0;34m\u001b[0m\u001b[0m\n\u001b[0;32m----> 2\u001b[0;31m \u001b[0mres_mean\u001b[0m \u001b[0;34m,\u001b[0m \u001b[0mres_std\u001b[0m \u001b[0;34m=\u001b[0m \u001b[0mtake_df_mean\u001b[0m\u001b[0;34m(\u001b[0m\u001b[0;34m[\u001b[0m\u001b[0mel\u001b[0m\u001b[0;34m[\u001b[0m\u001b[0;34m'class_scores'\u001b[0m\u001b[0;34m]\u001b[0m \u001b[0;32mfor\u001b[0m \u001b[0mel\u001b[0m \u001b[0;32min\u001b[0m \u001b[0mres_arr\u001b[0m\u001b[0;34m]\u001b[0m\u001b[0;34m)\u001b[0m\u001b[0;34m\u001b[0m\u001b[0;34m\u001b[0m\u001b[0m\n\u001b[0m\u001b[1;32m      3\u001b[0m \u001b[0mres_mean\u001b[0m\u001b[0;34m\u001b[0m\u001b[0;34m\u001b[0m\u001b[0m\n",
      "\u001b[0;32m~/Documents/aurora-synced-local/aurora-server-final/utilities.py\u001b[0m in \u001b[0;36mtake_df_mean\u001b[0;34m(arr)\u001b[0m\n\u001b[1;32m    516\u001b[0m \u001b[0;34m\u001b[0m\u001b[0m\n\u001b[1;32m    517\u001b[0m \u001b[0;32mdef\u001b[0m \u001b[0mtake_df_mean\u001b[0m\u001b[0;34m(\u001b[0m\u001b[0marr\u001b[0m\u001b[0;34m)\u001b[0m\u001b[0;34m:\u001b[0m\u001b[0;34m\u001b[0m\u001b[0;34m\u001b[0m\u001b[0m\n\u001b[0;32m--> 518\u001b[0;31m     \u001b[0marr_ret\u001b[0m \u001b[0;34m=\u001b[0m \u001b[0mnp\u001b[0m\u001b[0;34m.\u001b[0m\u001b[0masmatrix\u001b[0m\u001b[0;34m(\u001b[0m\u001b[0marr\u001b[0m\u001b[0;34m[\u001b[0m\u001b[0;36m0\u001b[0m\u001b[0;34m]\u001b[0m\u001b[0;34m)\u001b[0m\u001b[0;34m\u001b[0m\u001b[0;34m\u001b[0m\u001b[0m\n\u001b[0m\u001b[1;32m    519\u001b[0m     \u001b[0mcol_names\u001b[0m \u001b[0;34m=\u001b[0m \u001b[0marr\u001b[0m\u001b[0;34m[\u001b[0m\u001b[0;36m0\u001b[0m\u001b[0;34m]\u001b[0m\u001b[0;34m.\u001b[0m\u001b[0mcolumns\u001b[0m\u001b[0;34m.\u001b[0m\u001b[0mto_list\u001b[0m\u001b[0;34m(\u001b[0m\u001b[0;34m)\u001b[0m\u001b[0;34m\u001b[0m\u001b[0;34m\u001b[0m\u001b[0m\n\u001b[1;32m    520\u001b[0m     \u001b[0mindex_names\u001b[0m \u001b[0;34m=\u001b[0m \u001b[0marr\u001b[0m\u001b[0;34m[\u001b[0m\u001b[0;36m0\u001b[0m\u001b[0;34m]\u001b[0m\u001b[0;34m.\u001b[0m\u001b[0mindex\u001b[0m\u001b[0;34m.\u001b[0m\u001b[0mto_list\u001b[0m\u001b[0;34m(\u001b[0m\u001b[0;34m)\u001b[0m\u001b[0;34m\u001b[0m\u001b[0;34m\u001b[0m\u001b[0m\n",
      "\u001b[0;31mIndexError\u001b[0m: list index out of range"
     ]
    }
   ],
   "source": [
    "from utilities import take_df_mean\n",
    "res_mean , res_std = take_df_mean([el['class_scores'] for el in res_arr])\n",
    "res_mean"
   ]
  },
  {
   "cell_type": "code",
   "execution_count": 14,
   "metadata": {},
   "outputs": [
    {
     "data": {
      "text/plain": [
       "{'classes': array(['AGN', 'CV', 'HMXB', 'LMXB', 'PULSAR', 'STAR', 'ULX', 'YSO'],\n",
       "       dtype=object),\n",
       " 'num_src':         pred_class\n",
       " STAR          2775\n",
       " AGN           2409\n",
       " YSO           1172\n",
       " HMXB           733\n",
       " ULX            214\n",
       " CV             152\n",
       " LMXB           124\n",
       " PULSAR         124,\n",
       " 'balanced_accuracy': 0.7924576478222015,\n",
       " 'accuracy': 0.9302869012073218,\n",
       " 'precision': 0.9313892411557398,\n",
       " 'recall': 0.9302869012073218,\n",
       " 'f1': 0.9306419128970951,\n",
       " 'class_scores':         recall_score  precision_score  f1_score\n",
       " class                                          \n",
       " AGN             0.97             0.97      0.97\n",
       " CV              0.55             0.61      0.58\n",
       " HMXB            0.90             0.92      0.91\n",
       " LMXB            0.82             0.94      0.88\n",
       " PULSAR          0.49             0.40      0.44\n",
       " STAR            0.96             0.96      0.96\n",
       " ULX             0.71             0.70      0.70\n",
       " YSO             0.95             0.93      0.94,\n",
       " 'res_table':      true_class pred_class  pred_prob\n",
       " 0          STAR       STAR       1.00\n",
       " 1           AGN        AGN       1.00\n",
       " 2           AGN        AGN       1.00\n",
       " 3          STAR       STAR       1.00\n",
       " 4           YSO        YSO       1.00\n",
       " ...         ...        ...        ...\n",
       " 7698        YSO        YSO       1.00\n",
       " 7699        AGN        AGN       1.00\n",
       " 7700       STAR       STAR       1.00\n",
       " 7701        AGN        AGN       1.00\n",
       " 7702       HMXB       HMXB       1.00\n",
       " \n",
       " [7703 rows x 3 columns],\n",
       " 'clf': LGBMClassifier(class_weight={'AGN': 1.3143817307136192, 'CV': 51.32204057531549,\n",
       "                              'HMXB': 2.400962179693713,\n",
       "                              'LMXB': 98.93605023682177,\n",
       "                              'PULSAR': 643.0974682202723,\n",
       "                              'STAR': 1.264483803586971,\n",
       "                              'ULX': 22.180882500059635,\n",
       "                              'YSO': 1.7681516079519681},\n",
       "                force_col_wise=True, is_unbalance=True, metric=['auc_mu'],\n",
       "                num_class=8, objective='multiclass', random_state=42,\n",
       "                sparse=True, verbosity=0)}"
      ]
     },
     "execution_count": 14,
     "metadata": {},
     "output_type": "execute_result"
    }
   ],
   "source": [
    "res"
   ]
  },
  {
   "cell_type": "code",
   "execution_count": null,
   "metadata": {},
   "outputs": [
    {
     "data": {
      "image/png": "[encoded data removed]",
      "text/plain": [
       "<Figure size 504x432 with 1 Axes>"
      ]
     },
     "metadata": {},
     "output_type": "display_data"
    }
   ],
   "source": [
    "from utilities import plot_cf\n",
    "plot_dict_def = {\n",
    "    'title' : False , \n",
    "    'font_scale' : 1.2 ,\n",
    "    'cbar' : False ,\n",
    "    'plot_num' : 0,\n",
    "}\n",
    "fig , ax = plt.subplots(nrows=1 , ncols=1 , figsize=(7,6))\n",
    "plot_cf([res['res_table']] , plot_dict=plot_dict_def , confidance=0. , ax=ax)\n",
    "plt.title('CF for LighgGBM,')\n",
    "plt.savefig('plots/higher_models/lgb.jpg')"
   ]
  },
  {
   "cell_type": "code",
   "execution_count": null,
   "metadata": {},
   "outputs": [
    {
     "data": {
      "text/html": [
       "<div>\n",
       "<style scoped>\n",
       "    .dataframe tbody tr th:only-of-type {\n",
       "        vertical-align: middle;\n",
       "    }\n",
       "\n",
       "    .dataframe tbody tr th {\n",
       "        vertical-align: top;\n",
       "    }\n",
       "\n",
       "    .dataframe thead th {\n",
       "        text-align: right;\n",
       "    }\n",
       "</style>\n",
       "<table border=\"1\" class=\"dataframe\">\n",
       "  <thead>\n",
       "    <tr style=\"text-align: right;\">\n",
       "      <th></th>\n",
       "      <th>true_class</th>\n",
       "      <th>pred_class</th>\n",
       "      <th>pred_prob</th>\n",
       "    </tr>\n",
       "  </thead>\n",
       "  <tbody>\n",
       "    <tr>\n",
       "      <th>0</th>\n",
       "      <td>STAR</td>\n",
       "      <td>STAR</td>\n",
       "      <td>1.00</td>\n",
       "    </tr>\n",
       "    <tr>\n",
       "      <th>1</th>\n",
       "      <td>STAR</td>\n",
       "      <td>STAR</td>\n",
       "      <td>1.00</td>\n",
       "    </tr>\n",
       "    <tr>\n",
       "      <th>2</th>\n",
       "      <td>HMXB</td>\n",
       "      <td>HMXB</td>\n",
       "      <td>0.79</td>\n",
       "    </tr>\n",
       "    <tr>\n",
       "      <th>3</th>\n",
       "      <td>AGN</td>\n",
       "      <td>AGN</td>\n",
       "      <td>0.99</td>\n",
       "    </tr>\n",
       "    <tr>\n",
       "      <th>4</th>\n",
       "      <td>YSO</td>\n",
       "      <td>YSO</td>\n",
       "      <td>1.00</td>\n",
       "    </tr>\n",
       "    <tr>\n",
       "      <th>...</th>\n",
       "      <td>...</td>\n",
       "      <td>...</td>\n",
       "      <td>...</td>\n",
       "    </tr>\n",
       "    <tr>\n",
       "      <th>7698</th>\n",
       "      <td>YSO</td>\n",
       "      <td>YSO</td>\n",
       "      <td>0.99</td>\n",
       "    </tr>\n",
       "    <tr>\n",
       "      <th>7699</th>\n",
       "      <td>AGN</td>\n",
       "      <td>AGN</td>\n",
       "      <td>1.00</td>\n",
       "    </tr>\n",
       "    <tr>\n",
       "      <th>7700</th>\n",
       "      <td>STAR</td>\n",
       "      <td>STAR</td>\n",
       "      <td>1.00</td>\n",
       "    </tr>\n",
       "    <tr>\n",
       "      <th>7701</th>\n",
       "      <td>CV</td>\n",
       "      <td>PULSAR</td>\n",
       "      <td>0.97</td>\n",
       "    </tr>\n",
       "    <tr>\n",
       "      <th>7702</th>\n",
       "      <td>AGN</td>\n",
       "      <td>AGN</td>\n",
       "      <td>0.64</td>\n",
       "    </tr>\n",
       "  </tbody>\n",
       "</table>\n",
       "<p>7703 rows × 3 columns</p>\n",
       "</div>"
      ],
      "text/plain": [
       "     true_class pred_class  pred_prob\n",
       "0          STAR       STAR       1.00\n",
       "1          STAR       STAR       1.00\n",
       "2          HMXB       HMXB       0.79\n",
       "3           AGN        AGN       0.99\n",
       "4           YSO        YSO       1.00\n",
       "...         ...        ...        ...\n",
       "7698        YSO        YSO       0.99\n",
       "7699        AGN        AGN       1.00\n",
       "7700       STAR       STAR       1.00\n",
       "7701         CV     PULSAR       0.97\n",
       "7702        AGN        AGN       0.64\n",
       "\n",
       "[7703 rows x 3 columns]"
      ]
     },
     "execution_count": 109,
     "metadata": {},
     "output_type": "execute_result"
    }
   ],
   "source": [
    "res['res_table']"
   ]
  },
  {
   "cell_type": "code",
   "execution_count": null,
   "metadata": {},
   "outputs": [
    {
     "data": {
      "image/png": "[encoded data removed]",
      "text/plain": [
       "<Figure size 432x288 with 1 Axes>"
      ]
     },
     "metadata": {},
     "output_type": "display_data"
    }
   ],
   "source": [
    "plt.hist(res['res_table']['pred_prob'] , bins=15)\n",
    "plt.title('predicted_probbility distribution')\n",
    "plt.savefig('plots/higher_models/lbg_prob.jpg')\n",
    "plt.show()"
   ]
  },
  {
   "cell_type": "markdown",
   "metadata": {},
   "source": [
    "### Prediction on New sources"
   ]
  },
  {
   "cell_type": "code",
   "execution_count": null,
   "metadata": {},
   "outputs": [
    {
     "data": {
      "text/html": [
       "<div>\n",
       "<style scoped>\n",
       "    .dataframe tbody tr th:only-of-type {\n",
       "        vertical-align: middle;\n",
       "    }\n",
       "\n",
       "    .dataframe tbody tr th {\n",
       "        vertical-align: top;\n",
       "    }\n",
       "\n",
       "    .dataframe thead th {\n",
       "        text-align: right;\n",
       "    }\n",
       "</style>\n",
       "<table border=\"1\" class=\"dataframe\">\n",
       "  <thead>\n",
       "    <tr style=\"text-align: right;\">\n",
       "      <th></th>\n",
       "      <th>class</th>\n",
       "      <th>prob</th>\n",
       "      <th>prob_margin</th>\n",
       "    </tr>\n",
       "    <tr>\n",
       "      <th>name</th>\n",
       "      <th></th>\n",
       "      <th></th>\n",
       "      <th></th>\n",
       "    </tr>\n",
       "  </thead>\n",
       "  <tbody>\n",
       "    <tr>\n",
       "      <th>2CXO J004829.5-732959</th>\n",
       "      <td>HMXB</td>\n",
       "      <td>0.94</td>\n",
       "      <td>0.89</td>\n",
       "    </tr>\n",
       "    <tr>\n",
       "      <th>2CXO J005449.0-725128</th>\n",
       "      <td>HMXB</td>\n",
       "      <td>0.94</td>\n",
       "      <td>0.91</td>\n",
       "    </tr>\n",
       "    <tr>\n",
       "      <th>2CXO J010049.1-731526</th>\n",
       "      <td>HMXB</td>\n",
       "      <td>0.75</td>\n",
       "      <td>0.52</td>\n",
       "    </tr>\n",
       "    <tr>\n",
       "      <th>2CXO J010049.8-731045</th>\n",
       "      <td>HMXB</td>\n",
       "      <td>0.66</td>\n",
       "      <td>0.34</td>\n",
       "    </tr>\n",
       "    <tr>\n",
       "      <th>2CXO J010647.7-730940</th>\n",
       "      <td>HMXB</td>\n",
       "      <td>0.54</td>\n",
       "      <td>0.11</td>\n",
       "    </tr>\n",
       "    <tr>\n",
       "      <th>...</th>\n",
       "      <td>...</td>\n",
       "      <td>...</td>\n",
       "      <td>...</td>\n",
       "    </tr>\n",
       "    <tr>\n",
       "      <th>2CXO J220433.1-495916</th>\n",
       "      <td>HMXB</td>\n",
       "      <td>0.66</td>\n",
       "      <td>0.49</td>\n",
       "    </tr>\n",
       "    <tr>\n",
       "      <th>2CXO J220508.3-495935</th>\n",
       "      <td>HMXB</td>\n",
       "      <td>0.89</td>\n",
       "      <td>0.80</td>\n",
       "    </tr>\n",
       "    <tr>\n",
       "      <th>2CXO J220544.0-495505</th>\n",
       "      <td>HMXB</td>\n",
       "      <td>0.94</td>\n",
       "      <td>0.91</td>\n",
       "    </tr>\n",
       "    <tr>\n",
       "      <th>2CXO J220555.6-500837</th>\n",
       "      <td>HMXB</td>\n",
       "      <td>0.51</td>\n",
       "      <td>0.04</td>\n",
       "    </tr>\n",
       "    <tr>\n",
       "      <th>2CXO J220603.1-500911</th>\n",
       "      <td>STAR</td>\n",
       "      <td>0.97</td>\n",
       "      <td>0.95</td>\n",
       "    </tr>\n",
       "  </tbody>\n",
       "</table>\n",
       "<p>39893 rows × 3 columns</p>\n",
       "</div>"
      ],
      "text/plain": [
       "                      class  prob  prob_margin\n",
       "name                                          \n",
       "2CXO J004829.5-732959  HMXB  0.94         0.89\n",
       "2CXO J005449.0-725128  HMXB  0.94         0.91\n",
       "2CXO J010049.1-731526  HMXB  0.75         0.52\n",
       "2CXO J010049.8-731045  HMXB  0.66         0.34\n",
       "2CXO J010647.7-730940  HMXB  0.54         0.11\n",
       "...                     ...   ...          ...\n",
       "2CXO J220433.1-495916  HMXB  0.66         0.49\n",
       "2CXO J220508.3-495935  HMXB  0.89         0.80\n",
       "2CXO J220544.0-495505  HMXB  0.94         0.91\n",
       "2CXO J220555.6-500837  HMXB  0.51         0.04\n",
       "2CXO J220603.1-500911  STAR  0.97         0.95\n",
       "\n",
       "[39893 rows x 3 columns]"
      ]
     },
     "execution_count": 111,
     "metadata": {},
     "output_type": "execute_result"
    }
   ],
   "source": [
    "from utilities import softmax , norm_prob\n",
    "clf = res['clf']\n",
    "pred_prob = (clf.predict_proba(u))\n",
    "u_df = pd.DataFrame({\n",
    "    'name' : u.index.to_list() , \n",
    "    'class' : clf.predict(u) , \n",
    "    'prob' : [np.amax(el) for el in pred_prob] ,\n",
    "    'prob_margin' : [el[-1]-el[-2] for el in np.sort(pred_prob , axis=1 ,)]\n",
    "}).set_index('name')\n",
    "u_df"
   ]
  },
  {
   "cell_type": "code",
   "execution_count": null,
   "metadata": {},
   "outputs": [
    {
     "name": "stdout",
     "output_type": "stream",
     "text": [
      "|        |   class |\n",
      "|:-------|--------:|\n",
      "| STAR   |    7745 |\n",
      "| AGN    |    7371 |\n",
      "| YSO    |    6069 |\n",
      "| HMXB   |    1675 |\n",
      "| ULX    |     760 |\n",
      "| CV     |     555 |\n",
      "| PULSAR |     419 |\n",
      "| LMXB   |     151 |\n"
     ]
    }
   ],
   "source": [
    "u_df_th = u_df[u_df['prob']>0.9]\n",
    "print(u_df_th['class'].value_counts().to_markdown())"
   ]
  },
  {
   "cell_type": "code",
   "execution_count": null,
   "metadata": {},
   "outputs": [
    {
     "data": {
      "text/html": [
       "<div>\n",
       "<style scoped>\n",
       "    .dataframe tbody tr th:only-of-type {\n",
       "        vertical-align: middle;\n",
       "    }\n",
       "\n",
       "    .dataframe tbody tr th {\n",
       "        vertical-align: top;\n",
       "    }\n",
       "\n",
       "    .dataframe thead th {\n",
       "        text-align: right;\n",
       "    }\n",
       "</style>\n",
       "<table border=\"1\" class=\"dataframe\">\n",
       "  <thead>\n",
       "    <tr style=\"text-align: right;\">\n",
       "      <th></th>\n",
       "      <th>class</th>\n",
       "      <th>prob</th>\n",
       "      <th>prob_margin</th>\n",
       "      <th>prob_AGN</th>\n",
       "      <th>prob_CV</th>\n",
       "      <th>prob_HMXB</th>\n",
       "      <th>prob_LMXB</th>\n",
       "      <th>prob_PULSAR</th>\n",
       "      <th>prob_STAR</th>\n",
       "      <th>prob_ULX</th>\n",
       "      <th>prob_YSO</th>\n",
       "    </tr>\n",
       "    <tr>\n",
       "      <th>name</th>\n",
       "      <th></th>\n",
       "      <th></th>\n",
       "      <th></th>\n",
       "      <th></th>\n",
       "      <th></th>\n",
       "      <th></th>\n",
       "      <th></th>\n",
       "      <th></th>\n",
       "      <th></th>\n",
       "      <th></th>\n",
       "      <th></th>\n",
       "    </tr>\n",
       "  </thead>\n",
       "  <tbody>\n",
       "    <tr>\n",
       "      <th>2CXO J004829.5-732959</th>\n",
       "      <td>HMXB</td>\n",
       "      <td>0.937</td>\n",
       "      <td>0.885</td>\n",
       "      <td>0.001</td>\n",
       "      <td>0.004</td>\n",
       "      <td>0.937</td>\n",
       "      <td>0.000</td>\n",
       "      <td>0.002</td>\n",
       "      <td>0.052</td>\n",
       "      <td>0.003</td>\n",
       "      <td>0.000</td>\n",
       "    </tr>\n",
       "    <tr>\n",
       "      <th>2CXO J005449.0-725128</th>\n",
       "      <td>HMXB</td>\n",
       "      <td>0.942</td>\n",
       "      <td>0.914</td>\n",
       "      <td>0.028</td>\n",
       "      <td>0.007</td>\n",
       "      <td>0.942</td>\n",
       "      <td>0.000</td>\n",
       "      <td>0.000</td>\n",
       "      <td>0.021</td>\n",
       "      <td>0.001</td>\n",
       "      <td>0.000</td>\n",
       "    </tr>\n",
       "    <tr>\n",
       "      <th>2CXO J010049.1-731526</th>\n",
       "      <td>HMXB</td>\n",
       "      <td>0.749</td>\n",
       "      <td>0.522</td>\n",
       "      <td>0.006</td>\n",
       "      <td>0.004</td>\n",
       "      <td>0.749</td>\n",
       "      <td>0.000</td>\n",
       "      <td>0.004</td>\n",
       "      <td>0.227</td>\n",
       "      <td>0.010</td>\n",
       "      <td>0.000</td>\n",
       "    </tr>\n",
       "    <tr>\n",
       "      <th>2CXO J010049.8-731045</th>\n",
       "      <td>HMXB</td>\n",
       "      <td>0.655</td>\n",
       "      <td>0.338</td>\n",
       "      <td>0.005</td>\n",
       "      <td>0.011</td>\n",
       "      <td>0.655</td>\n",
       "      <td>0.000</td>\n",
       "      <td>0.004</td>\n",
       "      <td>0.317</td>\n",
       "      <td>0.007</td>\n",
       "      <td>0.000</td>\n",
       "    </tr>\n",
       "    <tr>\n",
       "      <th>2CXO J010647.7-730940</th>\n",
       "      <td>HMXB</td>\n",
       "      <td>0.543</td>\n",
       "      <td>0.110</td>\n",
       "      <td>0.003</td>\n",
       "      <td>0.008</td>\n",
       "      <td>0.543</td>\n",
       "      <td>0.000</td>\n",
       "      <td>0.014</td>\n",
       "      <td>0.433</td>\n",
       "      <td>0.000</td>\n",
       "      <td>0.000</td>\n",
       "    </tr>\n",
       "    <tr>\n",
       "      <th>...</th>\n",
       "      <td>...</td>\n",
       "      <td>...</td>\n",
       "      <td>...</td>\n",
       "      <td>...</td>\n",
       "      <td>...</td>\n",
       "      <td>...</td>\n",
       "      <td>...</td>\n",
       "      <td>...</td>\n",
       "      <td>...</td>\n",
       "      <td>...</td>\n",
       "      <td>...</td>\n",
       "    </tr>\n",
       "    <tr>\n",
       "      <th>2CXO J220433.1-495916</th>\n",
       "      <td>HMXB</td>\n",
       "      <td>0.658</td>\n",
       "      <td>0.490</td>\n",
       "      <td>0.107</td>\n",
       "      <td>0.055</td>\n",
       "      <td>0.658</td>\n",
       "      <td>0.000</td>\n",
       "      <td>0.000</td>\n",
       "      <td>0.012</td>\n",
       "      <td>0.168</td>\n",
       "      <td>0.000</td>\n",
       "    </tr>\n",
       "    <tr>\n",
       "      <th>2CXO J220508.3-495935</th>\n",
       "      <td>HMXB</td>\n",
       "      <td>0.888</td>\n",
       "      <td>0.803</td>\n",
       "      <td>0.016</td>\n",
       "      <td>0.085</td>\n",
       "      <td>0.888</td>\n",
       "      <td>0.000</td>\n",
       "      <td>0.001</td>\n",
       "      <td>0.001</td>\n",
       "      <td>0.010</td>\n",
       "      <td>0.000</td>\n",
       "    </tr>\n",
       "    <tr>\n",
       "      <th>2CXO J220544.0-495505</th>\n",
       "      <td>HMXB</td>\n",
       "      <td>0.939</td>\n",
       "      <td>0.913</td>\n",
       "      <td>0.025</td>\n",
       "      <td>0.023</td>\n",
       "      <td>0.939</td>\n",
       "      <td>0.000</td>\n",
       "      <td>0.000</td>\n",
       "      <td>0.004</td>\n",
       "      <td>0.008</td>\n",
       "      <td>0.000</td>\n",
       "    </tr>\n",
       "    <tr>\n",
       "      <th>2CXO J220555.6-500837</th>\n",
       "      <td>HMXB</td>\n",
       "      <td>0.515</td>\n",
       "      <td>0.037</td>\n",
       "      <td>0.002</td>\n",
       "      <td>0.003</td>\n",
       "      <td>0.515</td>\n",
       "      <td>0.001</td>\n",
       "      <td>0.001</td>\n",
       "      <td>0.001</td>\n",
       "      <td>0.478</td>\n",
       "      <td>0.000</td>\n",
       "    </tr>\n",
       "    <tr>\n",
       "      <th>2CXO J220603.1-500911</th>\n",
       "      <td>STAR</td>\n",
       "      <td>0.972</td>\n",
       "      <td>0.951</td>\n",
       "      <td>0.002</td>\n",
       "      <td>0.001</td>\n",
       "      <td>0.022</td>\n",
       "      <td>0.000</td>\n",
       "      <td>0.003</td>\n",
       "      <td>0.972</td>\n",
       "      <td>0.000</td>\n",
       "      <td>0.000</td>\n",
       "    </tr>\n",
       "  </tbody>\n",
       "</table>\n",
       "<p>39893 rows × 11 columns</p>\n",
       "</div>"
      ],
      "text/plain": [
       "                      class  prob  prob_margin  prob_AGN  prob_CV  prob_HMXB  \\\n",
       "name                                                                           \n",
       "2CXO J004829.5-732959  HMXB 0.937        0.885     0.001    0.004      0.937   \n",
       "2CXO J005449.0-725128  HMXB 0.942        0.914     0.028    0.007      0.942   \n",
       "2CXO J010049.1-731526  HMXB 0.749        0.522     0.006    0.004      0.749   \n",
       "2CXO J010049.8-731045  HMXB 0.655        0.338     0.005    0.011      0.655   \n",
       "2CXO J010647.7-730940  HMXB 0.543        0.110     0.003    0.008      0.543   \n",
       "...                     ...   ...          ...       ...      ...        ...   \n",
       "2CXO J220433.1-495916  HMXB 0.658        0.490     0.107    0.055      0.658   \n",
       "2CXO J220508.3-495935  HMXB 0.888        0.803     0.016    0.085      0.888   \n",
       "2CXO J220544.0-495505  HMXB 0.939        0.913     0.025    0.023      0.939   \n",
       "2CXO J220555.6-500837  HMXB 0.515        0.037     0.002    0.003      0.515   \n",
       "2CXO J220603.1-500911  STAR 0.972        0.951     0.002    0.001      0.022   \n",
       "\n",
       "                       prob_LMXB  prob_PULSAR  prob_STAR  prob_ULX  prob_YSO  \n",
       "name                                                                          \n",
       "2CXO J004829.5-732959      0.000        0.002      0.052     0.003     0.000  \n",
       "2CXO J005449.0-725128      0.000        0.000      0.021     0.001     0.000  \n",
       "2CXO J010049.1-731526      0.000        0.004      0.227     0.010     0.000  \n",
       "2CXO J010049.8-731045      0.000        0.004      0.317     0.007     0.000  \n",
       "2CXO J010647.7-730940      0.000        0.014      0.433     0.000     0.000  \n",
       "...                          ...          ...        ...       ...       ...  \n",
       "2CXO J220433.1-495916      0.000        0.000      0.012     0.168     0.000  \n",
       "2CXO J220508.3-495935      0.000        0.001      0.001     0.010     0.000  \n",
       "2CXO J220544.0-495505      0.000        0.000      0.004     0.008     0.000  \n",
       "2CXO J220555.6-500837      0.001        0.001      0.001     0.478     0.000  \n",
       "2CXO J220603.1-500911      0.000        0.003      0.972     0.000     0.000  \n",
       "\n",
       "[39893 rows x 11 columns]"
      ]
     },
     "execution_count": 113,
     "metadata": {},
     "output_type": "execute_result"
    }
   ],
   "source": [
    "pd.options.display.float_format = '{:,.3f}'.format\n",
    "pred_prob_df = pd.DataFrame(pred_prob , columns=[f\"prob_{el}\" for el in res['clf'].classes_] ,)\n",
    "pred_prob_df.insert(0 , 'name' , u.index.to_list())\n",
    "pred_prob_df = pred_prob_df.set_index('name')\n",
    "pred_prob_df = pd.merge(u_df , pred_prob_df , left_index=True , right_index =True)\n",
    "pred_prob_df"
   ]
  },
  {
   "cell_type": "code",
   "execution_count": null,
   "metadata": {},
   "outputs": [
    {
     "data": {
      "image/png": "[encoded data removed]",
      "text/plain": [
       "<Figure size 459.27x360 with 1 Axes>"
      ]
     },
     "metadata": {},
     "output_type": "display_data"
    }
   ],
   "source": [
    "sns.displot(\n",
    "    data = u_df ,\n",
    "    kind='ecdf' ,\n",
    "    x = 'prob' ,\n",
    "    hue = 'class'\n",
    ")\n",
    "plt.savefig('plots/higher_models/lbg_unid_prob.jpg')\n",
    "plt.show()"
   ]
  }
 ],
 "metadata": {
  "interpreter": {
   "hash": "31f2aee4e71d21fbe5cf8b01ff0e069b9275f58929596ceb00d14d90e3e16cd6"
  },
  "kernelspec": {
   "display_name": "Python 3.6.9 64-bit",
   "language": "python",
   "name": "python3"
  },
  "language_info": {
   "codemirror_mode": {
    "name": "ipython",
    "version": 3
   },
   "file_extension": ".py",
   "mimetype": "text/x-python",
   "name": "python",
   "nbconvert_exporter": "python",
   "pygments_lexer": "ipython3",
   "version": "3.6.9"
  },
  "orig_nbformat": 4
 },
 "nbformat": 4,
 "nbformat_minor": 2
}
