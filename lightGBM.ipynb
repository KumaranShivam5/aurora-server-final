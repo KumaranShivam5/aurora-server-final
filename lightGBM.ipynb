{
 "cells": [
  {
   "cell_type": "markdown",
   "metadata": {},
   "source": [
    "# Import Libraries"
   ]
  },
  {
   "cell_type": "code",
   "execution_count": 2,
   "metadata": {},
   "outputs": [],
   "source": [
    "import pandas as pd \n",
    "from matplotlib import pyplot as plt \n",
    "import numpy as np \n",
    "import seaborn as sns \n",
    "import lightgbm as lgb \n",
    "%load_ext autoreload\n",
    "%autoreload 2"
   ]
  },
  {
   "cell_type": "code",
   "execution_count": 3,
   "metadata": {},
   "outputs": [
    {
     "name": "stdout",
     "output_type": "stream",
     "text": [
      "offset:  \t0.000|9.999\n",
      "singinficance:  0.870|267.938\n",
      "offset:  \t0.000|2.010\n",
      "singinficance:  3.000|267.938\n"
     ]
    }
   ],
   "source": [
    "from choices import param_dict \n",
    "from utilities import deets"
   ]
  },
  {
   "cell_type": "markdown",
   "metadata": {},
   "source": [
    "# Load data"
   ]
  },
  {
   "cell_type": "code",
   "execution_count": 82,
   "metadata": {},
   "outputs": [
    {
     "name": "stdout",
     "output_type": "stream",
     "text": [
      "_____________________________________________________\n",
      "------------------------------\n",
      "Number of Objects : 7703\n",
      "Number of Columns : 73\n",
      "------------------------------\n"
     ]
    },
    {
     "data": {
      "text/plain": [
       "STAR      2790\n",
       "AGN       2395\n",
       "YSO       1149\n",
       "HMXB       748\n",
       "ULX        211\n",
       "CV         166\n",
       "LMXB       143\n",
       "PULSAR     101\n",
       "Name: class, dtype: int64"
      ]
     },
     "metadata": {},
     "output_type": "display_data"
    },
    {
     "name": "stdout",
     "output_type": "stream",
     "text": [
      "_____________________________________________________\n"
     ]
    }
   ],
   "source": [
    "x = pd.read_csv('compiled_data_v3/x_phot_minmax.csv' , index_col='name')\n",
    "x_col = x.columns.to_list()\n",
    "i = pd.read_csv('compiled_data_v3/id_frame.csv' , index_col='name')\n",
    "df = pd.merge(i,x , left_index =True , right_index =True )\n",
    "df = df[df['offset']<1.01]\n",
    "feat_to_drop = np.unique(param_dict['hardness'] + param_dict['IRAC']+[\n",
    "    '0p5_2csc' , '2-10 keV (XMM)' , '1_2_csc' , '0p5_8_csc'\n",
    "]+['var_inter_hard_prob_hs', 'ks_intra_prob_b', 'var_inter_hard_sigma_hm', 'var_inter_hard_prob_ms', 'var_inter_hard_prob_hm',])\n",
    "\n",
    "\n",
    "classes = ['AGN' ,'STAR' ,'YSO' ,'HMXB' , 'LMXB' , 'ULX' ,'CV' , 'PULSAR']\n",
    "df = df[df['class'].isin(classes)]\n",
    "#from sklearn.preprocessing import LabelEncoder\n",
    "#y_int = LabelEncoder().fit_transform(df['class'])\n",
    "deets(df,1)\n",
    "u = pd.read_csv('compiled_data_v3/x_phot_minmax-unid-var-src.csv' , index_col='name')\n",
    "#u = u.drop(columns=feat_to_drop)\n",
    "x = df[x_col]\n",
    "#x = x.drop(columns=feat_to_drop)\n",
    "y = df['class']"
   ]
  },
  {
   "cell_type": "markdown",
   "metadata": {},
   "source": [
    "# Classification"
   ]
  },
  {
   "cell_type": "code",
   "execution_count": 84,
   "metadata": {},
   "outputs": [],
   "source": [
    "from sklearn.model_selection import train_test_split\n",
    "x_train,x_test , y_train , y_test = train_test_split(x,y , test_size = 0.2 , stratify=y)"
   ]
  },
  {
   "cell_type": "markdown",
   "metadata": {},
   "source": [
    "### Using Sklearn API"
   ]
  },
  {
   "cell_type": "code",
   "execution_count": 143,
   "metadata": {},
   "outputs": [
    {
     "data": {
      "text/plain": [
       "{'STAR': 1.3179470606104418,\n",
       " 'AGN': 1.3793432990559484,\n",
       " 'YSO': 1.9552370229762268,\n",
       " 'HMXB': 2.8022839541992157,\n",
       " 'ULX': 38.32697077567007,\n",
       " 'CV': 102.83057251027365,\n",
       " 'LMXB': 222.57478508947435,\n",
       " 'PULSAR': 2013.0523019776572}"
      ]
     },
     "execution_count": 143,
     "metadata": {},
     "output_type": "execute_result"
    }
   ],
   "source": [
    "l = len(y_train)\n",
    "cl_weight = {}\n",
    "cl_dict = y_train.value_counts().to_dict()\n",
    "for cl , val in zip(cl_dict.keys() , cl_dict.values()):\n",
    "    w = np.exp((l / val)*0.1)\n",
    "    cl_weight[cl] = w\n",
    "cl_weight"
   ]
  },
  {
   "cell_type": "code",
   "execution_count": 144,
   "metadata": {},
   "outputs": [
    {
     "name": "stdout",
     "output_type": "stream",
     "text": [
      "[LightGBM] [Warning] Unknown parameter: validation_fraction\n",
      "[LightGBM] [Warning] Found whitespace in feature_names, replace with underlines\n",
      "[LightGBM] [Warning] Unknown parameter: validation_fraction\n",
      "[LightGBM] [Warning] Auto-choosing row-wise multi-threading, the overhead of testing was 0.003547 seconds.\n",
      "You can set `force_row_wise=true` to remove the overhead.\n",
      "And if memory is not enough, you can set `force_col_wise=true`.\n"
     ]
    },
    {
     "data": {
      "text/plain": [
       "LGBMClassifier(class_weight={'AGN': 1.3793432990559484,\n",
       "                             'CV': 102.83057251027365,\n",
       "                             'HMXB': 2.8022839541992157,\n",
       "                             'LMXB': 222.57478508947435,\n",
       "                             'PULSAR': 2013.0523019776572,\n",
       "                             'STAR': 1.3179470606104418,\n",
       "                             'ULX': 38.32697077567007,\n",
       "                             'YSO': 1.9552370229762268},\n",
       "               is_unbalance=True, metric=['auc_mu'], n_estimators=10,\n",
       "               num_class=2, objective='multiclass', random_state=42,\n",
       "               sparse=True, validation_fraction=0.2, verbosity=0)"
      ]
     },
     "execution_count": 144,
     "metadata": {},
     "output_type": "execute_result"
    }
   ],
   "source": [
    "\n",
    "train_data = lgb.Dataset(x_train , label=y_train)\n",
    "test_data = lgb.Dataset(x_test , label=y_test , reference=train_data )\n",
    "clf = lgb.LGBMClassifier(n_estimators=10 ,class_weight = cl_weight , objective= 'multiclass', sparse=True , is_unbalance=True , metric=['auc_mu'] ,verbosity=0 , validation_fraction=0.2 ,random_state=42 , num_class = 2)\n",
    "clf.fit(x_train , y_train ,)\n",
    "#clf.score(x_test , y_test)"
   ]
  },
  {
   "cell_type": "code",
   "execution_count": 138,
   "metadata": {},
   "outputs": [
    {
     "data": {
      "text/html": [
       "<div>\n",
       "<style scoped>\n",
       "    .dataframe tbody tr th:only-of-type {\n",
       "        vertical-align: middle;\n",
       "    }\n",
       "\n",
       "    .dataframe tbody tr th {\n",
       "        vertical-align: top;\n",
       "    }\n",
       "\n",
       "    .dataframe thead th {\n",
       "        text-align: right;\n",
       "    }\n",
       "</style>\n",
       "<table border=\"1\" class=\"dataframe\">\n",
       "  <thead>\n",
       "    <tr style=\"text-align: right;\">\n",
       "      <th></th>\n",
       "      <th>gal_b2</th>\n",
       "      <th>gal_l2</th>\n",
       "      <th>var_inter_prob_b</th>\n",
       "      <th>var_inter_sigma_b</th>\n",
       "      <th>var_intra_prob_b</th>\n",
       "      <th>var_inter_index_b</th>\n",
       "      <th>kp_intra_prob_b</th>\n",
       "      <th>var_intra_index_b</th>\n",
       "      <th>h-csc</th>\n",
       "      <th>b-csc</th>\n",
       "      <th>...</th>\n",
       "      <th>Rp</th>\n",
       "      <th>B-R</th>\n",
       "      <th>G-J</th>\n",
       "      <th>G-W2</th>\n",
       "      <th>Bp-H</th>\n",
       "      <th>Bp-W3</th>\n",
       "      <th>Rp-K</th>\n",
       "      <th>J-H</th>\n",
       "      <th>J-W1</th>\n",
       "      <th>W1-W2</th>\n",
       "    </tr>\n",
       "    <tr>\n",
       "      <th>name</th>\n",
       "      <th></th>\n",
       "      <th></th>\n",
       "      <th></th>\n",
       "      <th></th>\n",
       "      <th></th>\n",
       "      <th></th>\n",
       "      <th></th>\n",
       "      <th></th>\n",
       "      <th></th>\n",
       "      <th></th>\n",
       "      <th></th>\n",
       "      <th></th>\n",
       "      <th></th>\n",
       "      <th></th>\n",
       "      <th></th>\n",
       "      <th></th>\n",
       "      <th></th>\n",
       "      <th></th>\n",
       "      <th></th>\n",
       "      <th></th>\n",
       "      <th></th>\n",
       "    </tr>\n",
       "  </thead>\n",
       "  <tbody>\n",
       "    <tr>\n",
       "      <th>2CXO J085127.1+114656</th>\n",
       "      <td>6.779139</td>\n",
       "      <td>5.992593</td>\n",
       "      <td>NaN</td>\n",
       "      <td>NaN</td>\n",
       "      <td>8.557175</td>\n",
       "      <td>NaN</td>\n",
       "      <td>5.346122</td>\n",
       "      <td>2.0</td>\n",
       "      <td>5.837944e-09</td>\n",
       "      <td>0.004500</td>\n",
       "      <td>...</td>\n",
       "      <td>8.694702</td>\n",
       "      <td>2.252605</td>\n",
       "      <td>NaN</td>\n",
       "      <td>NaN</td>\n",
       "      <td>NaN</td>\n",
       "      <td>NaN</td>\n",
       "      <td>NaN</td>\n",
       "      <td>NaN</td>\n",
       "      <td>NaN</td>\n",
       "      <td>NaN</td>\n",
       "    </tr>\n",
       "    <tr>\n",
       "      <th>2CXO J193938.5+213459</th>\n",
       "      <td>4.979576</td>\n",
       "      <td>1.597467</td>\n",
       "      <td>NaN</td>\n",
       "      <td>NaN</td>\n",
       "      <td>0.501841</td>\n",
       "      <td>NaN</td>\n",
       "      <td>3.609130</td>\n",
       "      <td>0.0</td>\n",
       "      <td>1.178044e-09</td>\n",
       "      <td>0.127363</td>\n",
       "      <td>...</td>\n",
       "      <td>7.461071</td>\n",
       "      <td>5.982164</td>\n",
       "      <td>NaN</td>\n",
       "      <td>NaN</td>\n",
       "      <td>NaN</td>\n",
       "      <td>NaN</td>\n",
       "      <td>NaN</td>\n",
       "      <td>NaN</td>\n",
       "      <td>NaN</td>\n",
       "      <td>NaN</td>\n",
       "    </tr>\n",
       "  </tbody>\n",
       "</table>\n",
       "<p>2 rows × 41 columns</p>\n",
       "</div>"
      ],
      "text/plain": [
       "                         gal_b2    gal_l2  var_inter_prob_b  \\\n",
       "name                                                          \n",
       "2CXO J085127.1+114656  6.779139  5.992593               NaN   \n",
       "2CXO J193938.5+213459  4.979576  1.597467               NaN   \n",
       "\n",
       "                       var_inter_sigma_b  var_intra_prob_b  var_inter_index_b  \\\n",
       "name                                                                            \n",
       "2CXO J085127.1+114656                NaN          8.557175                NaN   \n",
       "2CXO J193938.5+213459                NaN          0.501841                NaN   \n",
       "\n",
       "                       kp_intra_prob_b  var_intra_index_b         h-csc  \\\n",
       "name                                                                      \n",
       "2CXO J085127.1+114656         5.346122                2.0  5.837944e-09   \n",
       "2CXO J193938.5+213459         3.609130                0.0  1.178044e-09   \n",
       "\n",
       "                          b-csc  ...        Rp       B-R  G-J  G-W2  Bp-H  \\\n",
       "name                             ...                                        \n",
       "2CXO J085127.1+114656  0.004500  ...  8.694702  2.252605  NaN   NaN   NaN   \n",
       "2CXO J193938.5+213459  0.127363  ...  7.461071  5.982164  NaN   NaN   NaN   \n",
       "\n",
       "                       Bp-W3  Rp-K  J-H  J-W1  W1-W2  \n",
       "name                                                  \n",
       "2CXO J085127.1+114656    NaN   NaN  NaN   NaN    NaN  \n",
       "2CXO J193938.5+213459    NaN   NaN  NaN   NaN    NaN  \n",
       "\n",
       "[2 rows x 41 columns]"
      ]
     },
     "execution_count": 138,
     "metadata": {},
     "output_type": "execute_result"
    }
   ],
   "source": [
    "x_test.iloc[0:2]"
   ]
  },
  {
   "cell_type": "code",
   "execution_count": 139,
   "metadata": {},
   "outputs": [
    {
     "ename": "ValueError",
     "evalue": "y contains previously unseen labels: [ 9 63]",
     "output_type": "error",
     "traceback": [
      "\u001b[0;31m---------------------------------------------------------------------------\u001b[0m",
      "\u001b[0;31mValueError\u001b[0m                                Traceback (most recent call last)",
      "\u001b[0;32m<ipython-input-139-e8cc7e3e3ae6>\u001b[0m in \u001b[0;36m<module>\u001b[0;34m\u001b[0m\n\u001b[0;32m----> 1\u001b[0;31m \u001b[0mclf\u001b[0m\u001b[0;34m.\u001b[0m\u001b[0mpredict\u001b[0m\u001b[0;34m(\u001b[0m\u001b[0mx_test\u001b[0m\u001b[0;34m)\u001b[0m\u001b[0;34m\u001b[0m\u001b[0;34m\u001b[0m\u001b[0m\n\u001b[0m",
      "\u001b[0;32m~/.local/lib/python3.6/site-packages/lightgbm/sklearn.py\u001b[0m in \u001b[0;36mpredict\u001b[0;34m(self, X, raw_score, start_iteration, num_iteration, pred_leaf, pred_contrib, **kwargs)\u001b[0m\n\u001b[1;32m    988\u001b[0m         \u001b[0;32melse\u001b[0m\u001b[0;34m:\u001b[0m\u001b[0;34m\u001b[0m\u001b[0;34m\u001b[0m\u001b[0m\n\u001b[1;32m    989\u001b[0m             \u001b[0mclass_index\u001b[0m \u001b[0;34m=\u001b[0m \u001b[0mnp\u001b[0m\u001b[0;34m.\u001b[0m\u001b[0margmax\u001b[0m\u001b[0;34m(\u001b[0m\u001b[0mresult\u001b[0m\u001b[0;34m,\u001b[0m \u001b[0maxis\u001b[0m\u001b[0;34m=\u001b[0m\u001b[0;36m1\u001b[0m\u001b[0;34m)\u001b[0m\u001b[0;34m\u001b[0m\u001b[0;34m\u001b[0m\u001b[0m\n\u001b[0;32m--> 990\u001b[0;31m             \u001b[0;32mreturn\u001b[0m \u001b[0mself\u001b[0m\u001b[0;34m.\u001b[0m\u001b[0m_le\u001b[0m\u001b[0;34m.\u001b[0m\u001b[0minverse_transform\u001b[0m\u001b[0;34m(\u001b[0m\u001b[0mclass_index\u001b[0m\u001b[0;34m)\u001b[0m\u001b[0;34m\u001b[0m\u001b[0;34m\u001b[0m\u001b[0m\n\u001b[0m\u001b[1;32m    991\u001b[0m \u001b[0;34m\u001b[0m\u001b[0m\n\u001b[1;32m    992\u001b[0m     \u001b[0mpredict\u001b[0m\u001b[0;34m.\u001b[0m\u001b[0m__doc__\u001b[0m \u001b[0;34m=\u001b[0m \u001b[0mLGBMModel\u001b[0m\u001b[0;34m.\u001b[0m\u001b[0mpredict\u001b[0m\u001b[0;34m.\u001b[0m\u001b[0m__doc__\u001b[0m\u001b[0;34m\u001b[0m\u001b[0;34m\u001b[0m\u001b[0m\n",
      "\u001b[0;32m~/.local/lib/python3.6/site-packages/sklearn/preprocessing/_label.py\u001b[0m in \u001b[0;36minverse_transform\u001b[0;34m(self, y)\u001b[0m\n\u001b[1;32m    159\u001b[0m         \u001b[0;32mif\u001b[0m \u001b[0mlen\u001b[0m\u001b[0;34m(\u001b[0m\u001b[0mdiff\u001b[0m\u001b[0;34m)\u001b[0m\u001b[0;34m:\u001b[0m\u001b[0;34m\u001b[0m\u001b[0;34m\u001b[0m\u001b[0m\n\u001b[1;32m    160\u001b[0m             raise ValueError(\n\u001b[0;32m--> 161\u001b[0;31m                     \"y contains previously unseen labels: %s\" % str(diff))\n\u001b[0m\u001b[1;32m    162\u001b[0m         \u001b[0my\u001b[0m \u001b[0;34m=\u001b[0m \u001b[0mnp\u001b[0m\u001b[0;34m.\u001b[0m\u001b[0masarray\u001b[0m\u001b[0;34m(\u001b[0m\u001b[0my\u001b[0m\u001b[0;34m)\u001b[0m\u001b[0;34m\u001b[0m\u001b[0;34m\u001b[0m\u001b[0m\n\u001b[1;32m    163\u001b[0m         \u001b[0;32mreturn\u001b[0m \u001b[0mself\u001b[0m\u001b[0;34m.\u001b[0m\u001b[0mclasses_\u001b[0m\u001b[0;34m[\u001b[0m\u001b[0my\u001b[0m\u001b[0;34m]\u001b[0m\u001b[0;34m\u001b[0m\u001b[0;34m\u001b[0m\u001b[0m\n",
      "\u001b[0;31mValueError\u001b[0m: y contains previously unseen labels: [ 9 63]"
     ]
    }
   ],
   "source": [
    "clf.predict(x_test)"
   ]
  },
  {
   "cell_type": "code",
   "execution_count": 108,
   "metadata": {},
   "outputs": [
    {
     "data": {
      "text/plain": [
       "[array(['CV', 'PULSAR'], dtype=object),\n",
       " array(['PULSAR', 'CV'], dtype=object),\n",
       " array(['PULSAR', 'CV'], dtype=object),\n",
       " array(['PULSAR', 'CV'], dtype=object),\n",
       " array(['CV', 'PULSAR'], dtype=object),\n",
       " array(['PULSAR', 'CV'], dtype=object),\n",
       " array(['CV', 'PULSAR'], dtype=object),\n",
       " array(['PULSAR', 'CV'], dtype=object),\n",
       " array(['PULSAR', 'CV'], dtype=object),\n",
       " array(['PULSAR', 'CV'], dtype=object),\n",
       " array(['CV', 'PULSAR'], dtype=object),\n",
       " array(['PULSAR', 'CV'], dtype=object),\n",
       " array(['CV', 'PULSAR'], dtype=object),\n",
       " array(['CV', 'PULSAR'], dtype=object),\n",
       " array(['CV', 'PULSAR'], dtype=object),\n",
       " array(['PULSAR', 'CV'], dtype=object),\n",
       " array(['PULSAR', 'CV'], dtype=object),\n",
       " array(['PULSAR', 'CV'], dtype=object),\n",
       " array(['CV', 'PULSAR'], dtype=object),\n",
       " array(['PULSAR', 'CV'], dtype=object),\n",
       " array(['CV', 'PULSAR'], dtype=object),\n",
       " array(['CV', 'PULSAR'], dtype=object),\n",
       " array(['PULSAR', 'CV'], dtype=object),\n",
       " array(['PULSAR', 'CV'], dtype=object),\n",
       " array(['CV', 'PULSAR'], dtype=object),\n",
       " array(['PULSAR', 'CV'], dtype=object),\n",
       " array(['PULSAR', 'CV'], dtype=object),\n",
       " array(['CV', 'PULSAR'], dtype=object),\n",
       " array(['CV', 'PULSAR'], dtype=object),\n",
       " array(['CV', 'PULSAR'], dtype=object),\n",
       " array(['CV', 'PULSAR'], dtype=object),\n",
       " array(['PULSAR', 'CV'], dtype=object),\n",
       " array(['PULSAR', 'CV'], dtype=object),\n",
       " array(['CV', 'PULSAR'], dtype=object),\n",
       " array(['PULSAR', 'CV'], dtype=object),\n",
       " array(['CV', 'PULSAR'], dtype=object),\n",
       " array(['PULSAR', 'CV'], dtype=object),\n",
       " array(['PULSAR', 'CV'], dtype=object),\n",
       " array(['PULSAR', 'CV'], dtype=object),\n",
       " array(['PULSAR', 'CV'], dtype=object),\n",
       " array(['PULSAR', 'CV'], dtype=object),\n",
       " array(['CV', 'PULSAR'], dtype=object),\n",
       " array(['PULSAR', 'CV'], dtype=object),\n",
       " array(['PULSAR', 'CV'], dtype=object),\n",
       " array(['PULSAR', 'CV'], dtype=object),\n",
       " array(['PULSAR', 'CV'], dtype=object),\n",
       " array(['CV', 'PULSAR'], dtype=object),\n",
       " array(['PULSAR', 'CV'], dtype=object),\n",
       " array(['CV', 'PULSAR'], dtype=object),\n",
       " array(['PULSAR', 'CV'], dtype=object),\n",
       " array(['PULSAR', 'CV'], dtype=object),\n",
       " array(['PULSAR', 'CV'], dtype=object),\n",
       " array(['PULSAR', 'CV'], dtype=object),\n",
       " array(['CV', 'PULSAR'], dtype=object)]"
      ]
     },
     "execution_count": 108,
     "metadata": {},
     "output_type": "execute_result"
    }
   ],
   "source": [
    "pre"
   ]
  },
  {
   "cell_type": "code",
   "execution_count": 127,
   "metadata": {},
   "outputs": [
    {
     "data": {
      "image/png": "[encoded data removed]",
      "text/plain": [
       "<Figure size 576x432 with 2 Axes>"
      ]
     },
     "metadata": {
      "needs_background": "light"
     },
     "output_type": "display_data"
    }
   ],
   "source": [
    "from sklearn.metrics import confusion_matrix\n",
    "label = np.unique(y_test)\n",
    "bst_clf = clf.best_iteration_\n",
    "cm = confusion_matrix(y_test , clf.predict(x_test) , labels = label , normalize='true')\n",
    "plt.figure(figsize=(8,6))\n",
    "sns.heatmap(cm*100 , fmt='.0f' , annot=True , xticklabels=label, yticklabels=label)\n",
    "plt.show()"
   ]
  },
  {
   "cell_type": "markdown",
   "metadata": {},
   "source": [
    "## Cross validation"
   ]
  },
  {
   "cell_type": "code",
   "execution_count": 85,
   "metadata": {},
   "outputs": [
    {
     "data": {
      "text/plain": [
       "{'STAR': 1.3179470606104418,\n",
       " 'AGN': 1.3793432990559484,\n",
       " 'YSO': 1.9552370229762268,\n",
       " 'HMXB': 2.8022839541992157,\n",
       " 'ULX': 38.32697077567007,\n",
       " 'CV': 102.83057251027365,\n",
       " 'LMXB': 222.57478508947435,\n",
       " 'PULSAR': 2013.0523019776572}"
      ]
     },
     "execution_count": 85,
     "metadata": {},
     "output_type": "execute_result"
    }
   ],
   "source": [
    "from utilities import simple_cv\n",
    "param = {\n",
    "    'objective': 'binaryclass',\n",
    "    'num_class':len(np.unique(y)),\n",
    "    'metric': ['auc_mu' , ] , \n",
    "    'verbosity' : 2 , \n",
    "    'deterministic' : True  , \n",
    "    'early_stopping_round' : 20 , \n",
    "    'sparse' : True , \n",
    "    'is_unbalance' : True\n",
    "    }\n",
    "l = len(y_train)\n",
    "cl_weight = {}\n",
    "cl_dict = y_train.value_counts().to_dict()\n",
    "for cl , val in zip(cl_dict.keys() , cl_dict.values()):\n",
    "    w = np.exp((l / val)*0.1)\n",
    "    cl_weight[cl] = w\n",
    "cl_weight\n"
   ]
  },
  {
   "cell_type": "code",
   "execution_count": 86,
   "metadata": {},
   "outputs": [
    {
     "name": "stdout",
     "output_type": "stream",
     "text": [
      "----------------------------------------------------------\n",
      "GOING for 1 / 20 Iteration FOLD\n",
      "___________________________________________________________\n",
      "[LightGBM] [Warning] Found whitespace in feature_names, replace with underlines\n",
      "----------------------------------------------------------\n",
      "GOING for 2 / 20 Iteration FOLD\n",
      "___________________________________________________________\n",
      "[LightGBM] [Warning] Found whitespace in feature_names, replace with underlines\n",
      "----------------------------------------------------------\n",
      "GOING for 3 / 20 Iteration FOLD\n",
      "___________________________________________________________\n",
      "[LightGBM] [Warning] Found whitespace in feature_names, replace with underlines\n",
      "----------------------------------------------------------\n",
      "GOING for 4 / 20 Iteration FOLD\n",
      "___________________________________________________________\n",
      "[LightGBM] [Warning] Found whitespace in feature_names, replace with underlines\n",
      "----------------------------------------------------------\n",
      "GOING for 5 / 20 Iteration FOLD\n",
      "___________________________________________________________\n",
      "[LightGBM] [Warning] Found whitespace in feature_names, replace with underlines\n",
      "----------------------------------------------------------\n",
      "GOING for 6 / 20 Iteration FOLD\n",
      "___________________________________________________________\n",
      "[LightGBM] [Warning] Found whitespace in feature_names, replace with underlines\n",
      "----------------------------------------------------------\n",
      "GOING for 7 / 20 Iteration FOLD\n",
      "___________________________________________________________\n",
      "[LightGBM] [Warning] Found whitespace in feature_names, replace with underlines\n",
      "----------------------------------------------------------\n",
      "GOING for 8 / 20 Iteration FOLD\n",
      "___________________________________________________________\n",
      "[LightGBM] [Warning] Found whitespace in feature_names, replace with underlines\n",
      "----------------------------------------------------------\n",
      "GOING for 9 / 20 Iteration FOLD\n",
      "___________________________________________________________\n",
      "[LightGBM] [Warning] Found whitespace in feature_names, replace with underlines\n",
      "----------------------------------------------------------\n",
      "GOING for 10 / 20 Iteration FOLD\n",
      "___________________________________________________________\n",
      "[LightGBM] [Warning] Found whitespace in feature_names, replace with underlines\n",
      "----------------------------------------------------------\n",
      "GOING for 11 / 20 Iteration FOLD\n",
      "___________________________________________________________\n",
      "[LightGBM] [Warning] Found whitespace in feature_names, replace with underlines\n",
      "----------------------------------------------------------\n",
      "GOING for 12 / 20 Iteration FOLD\n",
      "___________________________________________________________\n",
      "[LightGBM] [Warning] Found whitespace in feature_names, replace with underlines\n",
      "----------------------------------------------------------\n",
      "GOING for 13 / 20 Iteration FOLD\n",
      "___________________________________________________________\n",
      "[LightGBM] [Warning] Found whitespace in feature_names, replace with underlines\n",
      "----------------------------------------------------------\n",
      "GOING for 14 / 20 Iteration FOLD\n",
      "___________________________________________________________\n",
      "[LightGBM] [Warning] Found whitespace in feature_names, replace with underlines\n",
      "----------------------------------------------------------\n",
      "GOING for 15 / 20 Iteration FOLD\n",
      "___________________________________________________________\n",
      "[LightGBM] [Warning] Found whitespace in feature_names, replace with underlines\n",
      "----------------------------------------------------------\n",
      "GOING for 16 / 20 Iteration FOLD\n",
      "___________________________________________________________\n",
      "[LightGBM] [Warning] Found whitespace in feature_names, replace with underlines\n",
      "----------------------------------------------------------\n",
      "GOING for 17 / 20 Iteration FOLD\n",
      "___________________________________________________________\n",
      "[LightGBM] [Warning] Found whitespace in feature_names, replace with underlines\n",
      "----------------------------------------------------------\n",
      "GOING for 18 / 20 Iteration FOLD\n",
      "___________________________________________________________\n",
      "[LightGBM] [Warning] Found whitespace in feature_names, replace with underlines\n",
      "----------------------------------------------------------\n",
      "GOING for 19 / 20 Iteration FOLD\n",
      "___________________________________________________________\n",
      "[LightGBM] [Warning] Found whitespace in feature_names, replace with underlines\n",
      "----------------------------------------------------------\n",
      "GOING for 20 / 20 Iteration FOLD\n",
      "___________________________________________________________\n",
      "[LightGBM] [Warning] Found whitespace in feature_names, replace with underlines\n",
      "[LightGBM] [Warning] Found whitespace in feature_names, replace with underlines\n"
     ]
    }
   ],
   "source": [
    "clf = lgb.LGBMClassifier(n_estimators=100 ,class_weight = cl_weight , objective= 'multiclassova', sparse=True , is_unbalance=True , metric=['auc_mu'] ,verbosity = 0 , random_state=42 , num_class=len(np.unique(y)) ,force_col_wise=True)\n",
    "res_arr = []\n",
    "from tqdm import tqdm\n",
    "#for i in tqdm(range(5)):\n",
    "res = simple_cv(x,y ,model=clf , k=20)\n",
    "#res_arr.append(res)"
   ]
  },
  {
   "cell_type": "code",
   "execution_count": 87,
   "metadata": {},
   "outputs": [
    {
     "data": {
      "text/html": [
       "<div>\n",
       "<style scoped>\n",
       "    .dataframe tbody tr th:only-of-type {\n",
       "        vertical-align: middle;\n",
       "    }\n",
       "\n",
       "    .dataframe tbody tr th {\n",
       "        vertical-align: top;\n",
       "    }\n",
       "\n",
       "    .dataframe thead th {\n",
       "        text-align: right;\n",
       "    }\n",
       "</style>\n",
       "<table border=\"1\" class=\"dataframe\">\n",
       "  <thead>\n",
       "    <tr style=\"text-align: right;\">\n",
       "      <th></th>\n",
       "      <th>recall_score</th>\n",
       "      <th>precision_score</th>\n",
       "      <th>f1_score</th>\n",
       "    </tr>\n",
       "    <tr>\n",
       "      <th>class</th>\n",
       "      <th></th>\n",
       "      <th></th>\n",
       "      <th></th>\n",
       "    </tr>\n",
       "  </thead>\n",
       "  <tbody>\n",
       "    <tr>\n",
       "      <th>AGN</th>\n",
       "      <td>0.955741</td>\n",
       "      <td>0.976119</td>\n",
       "      <td>0.965823</td>\n",
       "    </tr>\n",
       "    <tr>\n",
       "      <th>CV</th>\n",
       "      <td>0.596386</td>\n",
       "      <td>0.445946</td>\n",
       "      <td>0.510309</td>\n",
       "    </tr>\n",
       "    <tr>\n",
       "      <th>HMXB</th>\n",
       "      <td>0.852941</td>\n",
       "      <td>0.872777</td>\n",
       "      <td>0.862745</td>\n",
       "    </tr>\n",
       "    <tr>\n",
       "      <th>LMXB</th>\n",
       "      <td>0.804196</td>\n",
       "      <td>0.898438</td>\n",
       "      <td>0.848708</td>\n",
       "    </tr>\n",
       "    <tr>\n",
       "      <th>PULSAR</th>\n",
       "      <td>0.613861</td>\n",
       "      <td>0.296651</td>\n",
       "      <td>0.400000</td>\n",
       "    </tr>\n",
       "    <tr>\n",
       "      <th>STAR</th>\n",
       "      <td>0.931183</td>\n",
       "      <td>0.968319</td>\n",
       "      <td>0.949388</td>\n",
       "    </tr>\n",
       "    <tr>\n",
       "      <th>ULX</th>\n",
       "      <td>0.720379</td>\n",
       "      <td>0.644068</td>\n",
       "      <td>0.680089</td>\n",
       "    </tr>\n",
       "    <tr>\n",
       "      <th>YSO</th>\n",
       "      <td>0.921671</td>\n",
       "      <td>0.921671</td>\n",
       "      <td>0.921671</td>\n",
       "    </tr>\n",
       "  </tbody>\n",
       "</table>\n",
       "</div>"
      ],
      "text/plain": [
       "        recall_score  precision_score  f1_score\n",
       "class                                          \n",
       "AGN         0.955741         0.976119  0.965823\n",
       "CV          0.596386         0.445946  0.510309\n",
       "HMXB        0.852941         0.872777  0.862745\n",
       "LMXB        0.804196         0.898438  0.848708\n",
       "PULSAR      0.613861         0.296651  0.400000\n",
       "STAR        0.931183         0.968319  0.949388\n",
       "ULX         0.720379         0.644068  0.680089\n",
       "YSO         0.921671         0.921671  0.921671"
      ]
     },
     "execution_count": 87,
     "metadata": {},
     "output_type": "execute_result"
    }
   ],
   "source": [
    "res['class_scores']"
   ]
  },
  {
   "cell_type": "code",
   "execution_count": 88,
   "metadata": {},
   "outputs": [
    {
     "ename": "IndexError",
     "evalue": "list index out of range",
     "output_type": "error",
     "traceback": [
      "\u001b[0;31m---------------------------------------------------------------------------\u001b[0m",
      "\u001b[0;31mIndexError\u001b[0m                                Traceback (most recent call last)",
      "\u001b[0;32m<ipython-input-88-9216aa8eff69>\u001b[0m in \u001b[0;36m<module>\u001b[0;34m\u001b[0m\n\u001b[1;32m      1\u001b[0m \u001b[0;32mfrom\u001b[0m \u001b[0mutilities\u001b[0m \u001b[0;32mimport\u001b[0m \u001b[0mtake_df_mean\u001b[0m\u001b[0;34m\u001b[0m\u001b[0;34m\u001b[0m\u001b[0m\n\u001b[0;32m----> 2\u001b[0;31m \u001b[0mres_mean\u001b[0m \u001b[0;34m,\u001b[0m \u001b[0mres_std\u001b[0m \u001b[0;34m=\u001b[0m \u001b[0mtake_df_mean\u001b[0m\u001b[0;34m(\u001b[0m\u001b[0;34m[\u001b[0m\u001b[0mel\u001b[0m\u001b[0;34m[\u001b[0m\u001b[0;34m'class_scores'\u001b[0m\u001b[0;34m]\u001b[0m \u001b[0;32mfor\u001b[0m \u001b[0mel\u001b[0m \u001b[0;32min\u001b[0m \u001b[0mres_arr\u001b[0m\u001b[0;34m]\u001b[0m\u001b[0;34m)\u001b[0m\u001b[0;34m\u001b[0m\u001b[0;34m\u001b[0m\u001b[0m\n\u001b[0m\u001b[1;32m      3\u001b[0m \u001b[0mres_mean\u001b[0m\u001b[0;34m\u001b[0m\u001b[0;34m\u001b[0m\u001b[0m\n",
      "\u001b[0;32m~/Documents/aurora_server_synced/aurora-server-final/utilities.py\u001b[0m in \u001b[0;36mtake_df_mean\u001b[0;34m(arr)\u001b[0m\n\u001b[1;32m    510\u001b[0m \u001b[0;34m\u001b[0m\u001b[0m\n\u001b[1;32m    511\u001b[0m \u001b[0;32mdef\u001b[0m \u001b[0mtake_df_mean\u001b[0m\u001b[0;34m(\u001b[0m\u001b[0marr\u001b[0m\u001b[0;34m)\u001b[0m\u001b[0;34m:\u001b[0m\u001b[0;34m\u001b[0m\u001b[0;34m\u001b[0m\u001b[0m\n\u001b[0;32m--> 512\u001b[0;31m     \u001b[0marr_ret\u001b[0m \u001b[0;34m=\u001b[0m \u001b[0mnp\u001b[0m\u001b[0;34m.\u001b[0m\u001b[0masmatrix\u001b[0m\u001b[0;34m(\u001b[0m\u001b[0marr\u001b[0m\u001b[0;34m[\u001b[0m\u001b[0;36m0\u001b[0m\u001b[0;34m]\u001b[0m\u001b[0;34m)\u001b[0m\u001b[0;34m\u001b[0m\u001b[0;34m\u001b[0m\u001b[0m\n\u001b[0m\u001b[1;32m    513\u001b[0m     \u001b[0mcol_names\u001b[0m \u001b[0;34m=\u001b[0m \u001b[0marr\u001b[0m\u001b[0;34m[\u001b[0m\u001b[0;36m0\u001b[0m\u001b[0;34m]\u001b[0m\u001b[0;34m.\u001b[0m\u001b[0mcolumns\u001b[0m\u001b[0;34m.\u001b[0m\u001b[0mto_list\u001b[0m\u001b[0;34m(\u001b[0m\u001b[0;34m)\u001b[0m\u001b[0;34m\u001b[0m\u001b[0;34m\u001b[0m\u001b[0m\n\u001b[1;32m    514\u001b[0m     \u001b[0mindex_names\u001b[0m \u001b[0;34m=\u001b[0m \u001b[0marr\u001b[0m\u001b[0;34m[\u001b[0m\u001b[0;36m0\u001b[0m\u001b[0;34m]\u001b[0m\u001b[0;34m.\u001b[0m\u001b[0mindex\u001b[0m\u001b[0;34m.\u001b[0m\u001b[0mto_list\u001b[0m\u001b[0;34m(\u001b[0m\u001b[0;34m)\u001b[0m\u001b[0;34m\u001b[0m\u001b[0;34m\u001b[0m\u001b[0m\n",
      "\u001b[0;31mIndexError\u001b[0m: list index out of range"
     ]
    }
   ],
   "source": [
    "from utilities import take_df_mean\n",
    "res_mean , res_std = take_df_mean([el['class_scores'] for el in res_arr])\n",
    "res_mean"
   ]
  },
  {
   "cell_type": "code",
   "execution_count": 90,
   "metadata": {},
   "outputs": [
    {
     "data": {
      "image/png": "[encoded data removed]",
      "text/plain": [
       "<Figure size 504x432 with 1 Axes>"
      ]
     },
     "metadata": {},
     "output_type": "display_data"
    }
   ],
   "source": [
    "from utilities import plot_cf\n",
    "plot_dict_def = {\n",
    "    'title' : False , \n",
    "    'font_scale' : 1.2 ,\n",
    "    'cbar' : False ,\n",
    "    'plot_num' : 0,\n",
    "}\n",
    "plot_cf([res['res_table']] , plot_dict=plot_dict_def , confidance=0.)"
   ]
  },
  {
   "cell_type": "code",
   "execution_count": 91,
   "metadata": {},
   "outputs": [
    {
     "data": {
      "text/html": [
       "<div>\n",
       "<style scoped>\n",
       "    .dataframe tbody tr th:only-of-type {\n",
       "        vertical-align: middle;\n",
       "    }\n",
       "\n",
       "    .dataframe tbody tr th {\n",
       "        vertical-align: top;\n",
       "    }\n",
       "\n",
       "    .dataframe thead th {\n",
       "        text-align: right;\n",
       "    }\n",
       "</style>\n",
       "<table border=\"1\" class=\"dataframe\">\n",
       "  <thead>\n",
       "    <tr style=\"text-align: right;\">\n",
       "      <th></th>\n",
       "      <th>true_class</th>\n",
       "      <th>pred_class</th>\n",
       "      <th>pred_prob</th>\n",
       "    </tr>\n",
       "  </thead>\n",
       "  <tbody>\n",
       "    <tr>\n",
       "      <th>0</th>\n",
       "      <td>AGN</td>\n",
       "      <td>AGN</td>\n",
       "      <td>0.994232</td>\n",
       "    </tr>\n",
       "    <tr>\n",
       "      <th>1</th>\n",
       "      <td>YSO</td>\n",
       "      <td>STAR</td>\n",
       "      <td>0.703584</td>\n",
       "    </tr>\n",
       "    <tr>\n",
       "      <th>2</th>\n",
       "      <td>YSO</td>\n",
       "      <td>YSO</td>\n",
       "      <td>0.930527</td>\n",
       "    </tr>\n",
       "    <tr>\n",
       "      <th>3</th>\n",
       "      <td>CV</td>\n",
       "      <td>YSO</td>\n",
       "      <td>0.994621</td>\n",
       "    </tr>\n",
       "    <tr>\n",
       "      <th>4</th>\n",
       "      <td>ULX</td>\n",
       "      <td>ULX</td>\n",
       "      <td>0.994468</td>\n",
       "    </tr>\n",
       "    <tr>\n",
       "      <th>...</th>\n",
       "      <td>...</td>\n",
       "      <td>...</td>\n",
       "      <td>...</td>\n",
       "    </tr>\n",
       "    <tr>\n",
       "      <th>7698</th>\n",
       "      <td>AGN</td>\n",
       "      <td>AGN</td>\n",
       "      <td>0.991621</td>\n",
       "    </tr>\n",
       "    <tr>\n",
       "      <th>7699</th>\n",
       "      <td>STAR</td>\n",
       "      <td>STAR</td>\n",
       "      <td>0.996004</td>\n",
       "    </tr>\n",
       "    <tr>\n",
       "      <th>7700</th>\n",
       "      <td>PULSAR</td>\n",
       "      <td>CV</td>\n",
       "      <td>0.923956</td>\n",
       "    </tr>\n",
       "    <tr>\n",
       "      <th>7701</th>\n",
       "      <td>YSO</td>\n",
       "      <td>YSO</td>\n",
       "      <td>0.995121</td>\n",
       "    </tr>\n",
       "    <tr>\n",
       "      <th>7702</th>\n",
       "      <td>STAR</td>\n",
       "      <td>STAR</td>\n",
       "      <td>0.906049</td>\n",
       "    </tr>\n",
       "  </tbody>\n",
       "</table>\n",
       "<p>7703 rows × 3 columns</p>\n",
       "</div>"
      ],
      "text/plain": [
       "     true_class pred_class  pred_prob\n",
       "0           AGN        AGN   0.994232\n",
       "1           YSO       STAR   0.703584\n",
       "2           YSO        YSO   0.930527\n",
       "3            CV        YSO   0.994621\n",
       "4           ULX        ULX   0.994468\n",
       "...         ...        ...        ...\n",
       "7698        AGN        AGN   0.991621\n",
       "7699       STAR       STAR   0.996004\n",
       "7700     PULSAR         CV   0.923956\n",
       "7701        YSO        YSO   0.995121\n",
       "7702       STAR       STAR   0.906049\n",
       "\n",
       "[7703 rows x 3 columns]"
      ]
     },
     "execution_count": 91,
     "metadata": {},
     "output_type": "execute_result"
    }
   ],
   "source": [
    "res['res_table']"
   ]
  },
  {
   "cell_type": "code",
   "execution_count": 92,
   "metadata": {},
   "outputs": [
    {
     "data": {
      "image/png": "[encoded data removed]",
      "text/plain": [
       "<Figure size 432x288 with 1 Axes>"
      ]
     },
     "metadata": {},
     "output_type": "display_data"
    }
   ],
   "source": [
    "plt.hist(res['res_table']['pred_prob'])\n",
    "plt.show()"
   ]
  },
  {
   "cell_type": "markdown",
   "metadata": {},
   "source": [
    "### Prediction on New sources"
   ]
  },
  {
   "cell_type": "code",
   "execution_count": 128,
   "metadata": {},
   "outputs": [
    {
     "data": {
      "text/html": [
       "<div>\n",
       "<style scoped>\n",
       "    .dataframe tbody tr th:only-of-type {\n",
       "        vertical-align: middle;\n",
       "    }\n",
       "\n",
       "    .dataframe tbody tr th {\n",
       "        vertical-align: top;\n",
       "    }\n",
       "\n",
       "    .dataframe thead th {\n",
       "        text-align: right;\n",
       "    }\n",
       "</style>\n",
       "<table border=\"1\" class=\"dataframe\">\n",
       "  <thead>\n",
       "    <tr style=\"text-align: right;\">\n",
       "      <th></th>\n",
       "      <th>class</th>\n",
       "      <th>prob</th>\n",
       "      <th>prob_margin</th>\n",
       "    </tr>\n",
       "    <tr>\n",
       "      <th>name</th>\n",
       "      <th></th>\n",
       "      <th></th>\n",
       "      <th></th>\n",
       "    </tr>\n",
       "  </thead>\n",
       "  <tbody>\n",
       "    <tr>\n",
       "      <th>2CXO J004829.5-732959</th>\n",
       "      <td>CV</td>\n",
       "      <td>0.664</td>\n",
       "      <td>0.377</td>\n",
       "    </tr>\n",
       "    <tr>\n",
       "      <th>2CXO J005449.0-725128</th>\n",
       "      <td>HMXB</td>\n",
       "      <td>0.594</td>\n",
       "      <td>0.216</td>\n",
       "    </tr>\n",
       "    <tr>\n",
       "      <th>2CXO J010049.1-731526</th>\n",
       "      <td>PULSAR</td>\n",
       "      <td>0.844</td>\n",
       "      <td>0.729</td>\n",
       "    </tr>\n",
       "    <tr>\n",
       "      <th>2CXO J010049.8-731045</th>\n",
       "      <td>HMXB</td>\n",
       "      <td>0.660</td>\n",
       "      <td>0.480</td>\n",
       "    </tr>\n",
       "    <tr>\n",
       "      <th>2CXO J010647.7-730940</th>\n",
       "      <td>STAR</td>\n",
       "      <td>0.639</td>\n",
       "      <td>0.286</td>\n",
       "    </tr>\n",
       "    <tr>\n",
       "      <th>...</th>\n",
       "      <td>...</td>\n",
       "      <td>...</td>\n",
       "      <td>...</td>\n",
       "    </tr>\n",
       "    <tr>\n",
       "      <th>2CXO J220433.1-495916</th>\n",
       "      <td>PULSAR</td>\n",
       "      <td>0.639</td>\n",
       "      <td>0.369</td>\n",
       "    </tr>\n",
       "    <tr>\n",
       "      <th>2CXO J220508.3-495935</th>\n",
       "      <td>AGN</td>\n",
       "      <td>0.355</td>\n",
       "      <td>0.008</td>\n",
       "    </tr>\n",
       "    <tr>\n",
       "      <th>2CXO J220544.0-495505</th>\n",
       "      <td>STAR</td>\n",
       "      <td>0.683</td>\n",
       "      <td>0.482</td>\n",
       "    </tr>\n",
       "    <tr>\n",
       "      <th>2CXO J220555.6-500837</th>\n",
       "      <td>ULX</td>\n",
       "      <td>0.852</td>\n",
       "      <td>0.766</td>\n",
       "    </tr>\n",
       "    <tr>\n",
       "      <th>2CXO J220603.1-500911</th>\n",
       "      <td>STAR</td>\n",
       "      <td>0.993</td>\n",
       "      <td>0.988</td>\n",
       "    </tr>\n",
       "  </tbody>\n",
       "</table>\n",
       "<p>39893 rows × 3 columns</p>\n",
       "</div>"
      ],
      "text/plain": [
       "                        class  prob  prob_margin\n",
       "name                                            \n",
       "2CXO J004829.5-732959      CV 0.664        0.377\n",
       "2CXO J005449.0-725128    HMXB 0.594        0.216\n",
       "2CXO J010049.1-731526  PULSAR 0.844        0.729\n",
       "2CXO J010049.8-731045    HMXB 0.660        0.480\n",
       "2CXO J010647.7-730940    STAR 0.639        0.286\n",
       "...                       ...   ...          ...\n",
       "2CXO J220433.1-495916  PULSAR 0.639        0.369\n",
       "2CXO J220508.3-495935     AGN 0.355        0.008\n",
       "2CXO J220544.0-495505    STAR 0.683        0.482\n",
       "2CXO J220555.6-500837     ULX 0.852        0.766\n",
       "2CXO J220603.1-500911    STAR 0.993        0.988\n",
       "\n",
       "[39893 rows x 3 columns]"
      ]
     },
     "execution_count": 128,
     "metadata": {},
     "output_type": "execute_result"
    }
   ],
   "source": [
    "from utilities import softmax , norm_prob\n",
    "clf = res['clf']\n",
    "pred_prob = norm_prob(clf.predict_proba(u))\n",
    "u_df = pd.DataFrame({\n",
    "    'name' : u.index.to_list() , \n",
    "    'class' : clf.predict(u) , \n",
    "    'prob' : [np.amax(el) for el in pred_prob] ,\n",
    "    'prob_margin' : [el[-1]-el[-2] for el in np.sort(pred_prob , axis=1 ,)]\n",
    "}).set_index('name')\n",
    "u_df"
   ]
  },
  {
   "cell_type": "code",
   "execution_count": 129,
   "metadata": {},
   "outputs": [
    {
     "data": {
      "text/plain": [
       "STAR      6810\n",
       "AGN       4124\n",
       "YSO       2790\n",
       "HMXB      1601\n",
       "PULSAR    1432\n",
       "ULX       1419\n",
       "CV        1407\n",
       "LMXB       148\n",
       "Name: class, dtype: int64"
      ]
     },
     "execution_count": 129,
     "metadata": {},
     "output_type": "execute_result"
    }
   ],
   "source": [
    "u_df_th = u_df[u_df['prob']>0.9]\n",
    "u_df_th['class'].value_counts()"
   ]
  },
  {
   "cell_type": "code",
   "execution_count": 130,
   "metadata": {},
   "outputs": [
    {
     "data": {
      "text/html": [
       "<div>\n",
       "<style scoped>\n",
       "    .dataframe tbody tr th:only-of-type {\n",
       "        vertical-align: middle;\n",
       "    }\n",
       "\n",
       "    .dataframe tbody tr th {\n",
       "        vertical-align: top;\n",
       "    }\n",
       "\n",
       "    .dataframe thead th {\n",
       "        text-align: right;\n",
       "    }\n",
       "</style>\n",
       "<table border=\"1\" class=\"dataframe\">\n",
       "  <thead>\n",
       "    <tr style=\"text-align: right;\">\n",
       "      <th></th>\n",
       "      <th>class</th>\n",
       "      <th>prob</th>\n",
       "      <th>prob_margin</th>\n",
       "      <th>prob_AGN</th>\n",
       "      <th>prob_CV</th>\n",
       "      <th>prob_HMXB</th>\n",
       "      <th>prob_LMXB</th>\n",
       "      <th>prob_PULSAR</th>\n",
       "      <th>prob_STAR</th>\n",
       "      <th>prob_ULX</th>\n",
       "      <th>prob_YSO</th>\n",
       "    </tr>\n",
       "    <tr>\n",
       "      <th>name</th>\n",
       "      <th></th>\n",
       "      <th></th>\n",
       "      <th></th>\n",
       "      <th></th>\n",
       "      <th></th>\n",
       "      <th></th>\n",
       "      <th></th>\n",
       "      <th></th>\n",
       "      <th></th>\n",
       "      <th></th>\n",
       "      <th></th>\n",
       "    </tr>\n",
       "  </thead>\n",
       "  <tbody>\n",
       "    <tr>\n",
       "      <th>2CXO J004829.5-732959</th>\n",
       "      <td>CV</td>\n",
       "      <td>0.664</td>\n",
       "      <td>0.377</td>\n",
       "      <td>0.000</td>\n",
       "      <td>0.664</td>\n",
       "      <td>0.287</td>\n",
       "      <td>0.000</td>\n",
       "      <td>0.000</td>\n",
       "      <td>0.045</td>\n",
       "      <td>0.004</td>\n",
       "      <td>0.000</td>\n",
       "    </tr>\n",
       "    <tr>\n",
       "      <th>2CXO J005449.0-725128</th>\n",
       "      <td>HMXB</td>\n",
       "      <td>0.594</td>\n",
       "      <td>0.216</td>\n",
       "      <td>0.000</td>\n",
       "      <td>0.378</td>\n",
       "      <td>0.594</td>\n",
       "      <td>0.000</td>\n",
       "      <td>0.009</td>\n",
       "      <td>0.013</td>\n",
       "      <td>0.006</td>\n",
       "      <td>0.000</td>\n",
       "    </tr>\n",
       "    <tr>\n",
       "      <th>2CXO J010049.1-731526</th>\n",
       "      <td>PULSAR</td>\n",
       "      <td>0.844</td>\n",
       "      <td>0.729</td>\n",
       "      <td>0.000</td>\n",
       "      <td>0.000</td>\n",
       "      <td>0.010</td>\n",
       "      <td>0.000</td>\n",
       "      <td>0.844</td>\n",
       "      <td>0.115</td>\n",
       "      <td>0.031</td>\n",
       "      <td>0.000</td>\n",
       "    </tr>\n",
       "    <tr>\n",
       "      <th>2CXO J010049.8-731045</th>\n",
       "      <td>HMXB</td>\n",
       "      <td>0.660</td>\n",
       "      <td>0.480</td>\n",
       "      <td>0.000</td>\n",
       "      <td>0.179</td>\n",
       "      <td>0.660</td>\n",
       "      <td>0.038</td>\n",
       "      <td>0.003</td>\n",
       "      <td>0.085</td>\n",
       "      <td>0.035</td>\n",
       "      <td>0.000</td>\n",
       "    </tr>\n",
       "    <tr>\n",
       "      <th>2CXO J010647.7-730940</th>\n",
       "      <td>STAR</td>\n",
       "      <td>0.639</td>\n",
       "      <td>0.286</td>\n",
       "      <td>0.000</td>\n",
       "      <td>0.001</td>\n",
       "      <td>0.008</td>\n",
       "      <td>0.000</td>\n",
       "      <td>0.352</td>\n",
       "      <td>0.639</td>\n",
       "      <td>0.000</td>\n",
       "      <td>0.000</td>\n",
       "    </tr>\n",
       "    <tr>\n",
       "      <th>...</th>\n",
       "      <td>...</td>\n",
       "      <td>...</td>\n",
       "      <td>...</td>\n",
       "      <td>...</td>\n",
       "      <td>...</td>\n",
       "      <td>...</td>\n",
       "      <td>...</td>\n",
       "      <td>...</td>\n",
       "      <td>...</td>\n",
       "      <td>...</td>\n",
       "      <td>...</td>\n",
       "    </tr>\n",
       "    <tr>\n",
       "      <th>2CXO J220433.1-495916</th>\n",
       "      <td>PULSAR</td>\n",
       "      <td>0.639</td>\n",
       "      <td>0.369</td>\n",
       "      <td>0.001</td>\n",
       "      <td>0.002</td>\n",
       "      <td>0.016</td>\n",
       "      <td>0.000</td>\n",
       "      <td>0.639</td>\n",
       "      <td>0.270</td>\n",
       "      <td>0.072</td>\n",
       "      <td>0.000</td>\n",
       "    </tr>\n",
       "    <tr>\n",
       "      <th>2CXO J220508.3-495935</th>\n",
       "      <td>AGN</td>\n",
       "      <td>0.355</td>\n",
       "      <td>0.008</td>\n",
       "      <td>0.355</td>\n",
       "      <td>0.347</td>\n",
       "      <td>0.173</td>\n",
       "      <td>0.004</td>\n",
       "      <td>0.031</td>\n",
       "      <td>0.030</td>\n",
       "      <td>0.061</td>\n",
       "      <td>0.000</td>\n",
       "    </tr>\n",
       "    <tr>\n",
       "      <th>2CXO J220544.0-495505</th>\n",
       "      <td>STAR</td>\n",
       "      <td>0.683</td>\n",
       "      <td>0.482</td>\n",
       "      <td>0.103</td>\n",
       "      <td>0.201</td>\n",
       "      <td>0.005</td>\n",
       "      <td>0.001</td>\n",
       "      <td>0.007</td>\n",
       "      <td>0.683</td>\n",
       "      <td>0.000</td>\n",
       "      <td>0.000</td>\n",
       "    </tr>\n",
       "    <tr>\n",
       "      <th>2CXO J220555.6-500837</th>\n",
       "      <td>ULX</td>\n",
       "      <td>0.852</td>\n",
       "      <td>0.766</td>\n",
       "      <td>0.087</td>\n",
       "      <td>0.027</td>\n",
       "      <td>0.019</td>\n",
       "      <td>0.000</td>\n",
       "      <td>0.003</td>\n",
       "      <td>0.012</td>\n",
       "      <td>0.852</td>\n",
       "      <td>0.000</td>\n",
       "    </tr>\n",
       "    <tr>\n",
       "      <th>2CXO J220603.1-500911</th>\n",
       "      <td>STAR</td>\n",
       "      <td>0.993</td>\n",
       "      <td>0.988</td>\n",
       "      <td>0.001</td>\n",
       "      <td>0.005</td>\n",
       "      <td>0.001</td>\n",
       "      <td>0.000</td>\n",
       "      <td>0.000</td>\n",
       "      <td>0.993</td>\n",
       "      <td>0.000</td>\n",
       "      <td>0.000</td>\n",
       "    </tr>\n",
       "  </tbody>\n",
       "</table>\n",
       "<p>39893 rows × 11 columns</p>\n",
       "</div>"
      ],
      "text/plain": [
       "                        class  prob  prob_margin  prob_AGN  prob_CV  \\\n",
       "name                                                                  \n",
       "2CXO J004829.5-732959      CV 0.664        0.377     0.000    0.664   \n",
       "2CXO J005449.0-725128    HMXB 0.594        0.216     0.000    0.378   \n",
       "2CXO J010049.1-731526  PULSAR 0.844        0.729     0.000    0.000   \n",
       "2CXO J010049.8-731045    HMXB 0.660        0.480     0.000    0.179   \n",
       "2CXO J010647.7-730940    STAR 0.639        0.286     0.000    0.001   \n",
       "...                       ...   ...          ...       ...      ...   \n",
       "2CXO J220433.1-495916  PULSAR 0.639        0.369     0.001    0.002   \n",
       "2CXO J220508.3-495935     AGN 0.355        0.008     0.355    0.347   \n",
       "2CXO J220544.0-495505    STAR 0.683        0.482     0.103    0.201   \n",
       "2CXO J220555.6-500837     ULX 0.852        0.766     0.087    0.027   \n",
       "2CXO J220603.1-500911    STAR 0.993        0.988     0.001    0.005   \n",
       "\n",
       "                       prob_HMXB  prob_LMXB  prob_PULSAR  prob_STAR  prob_ULX  \\\n",
       "name                                                                            \n",
       "2CXO J004829.5-732959      0.287      0.000        0.000      0.045     0.004   \n",
       "2CXO J005449.0-725128      0.594      0.000        0.009      0.013     0.006   \n",
       "2CXO J010049.1-731526      0.010      0.000        0.844      0.115     0.031   \n",
       "2CXO J010049.8-731045      0.660      0.038        0.003      0.085     0.035   \n",
       "2CXO J010647.7-730940      0.008      0.000        0.352      0.639     0.000   \n",
       "...                          ...        ...          ...        ...       ...   \n",
       "2CXO J220433.1-495916      0.016      0.000        0.639      0.270     0.072   \n",
       "2CXO J220508.3-495935      0.173      0.004        0.031      0.030     0.061   \n",
       "2CXO J220544.0-495505      0.005      0.001        0.007      0.683     0.000   \n",
       "2CXO J220555.6-500837      0.019      0.000        0.003      0.012     0.852   \n",
       "2CXO J220603.1-500911      0.001      0.000        0.000      0.993     0.000   \n",
       "\n",
       "                       prob_YSO  \n",
       "name                             \n",
       "2CXO J004829.5-732959     0.000  \n",
       "2CXO J005449.0-725128     0.000  \n",
       "2CXO J010049.1-731526     0.000  \n",
       "2CXO J010049.8-731045     0.000  \n",
       "2CXO J010647.7-730940     0.000  \n",
       "...                         ...  \n",
       "2CXO J220433.1-495916     0.000  \n",
       "2CXO J220508.3-495935     0.000  \n",
       "2CXO J220544.0-495505     0.000  \n",
       "2CXO J220555.6-500837     0.000  \n",
       "2CXO J220603.1-500911     0.000  \n",
       "\n",
       "[39893 rows x 11 columns]"
      ]
     },
     "execution_count": 130,
     "metadata": {},
     "output_type": "execute_result"
    }
   ],
   "source": [
    "pd.options.display.float_format = '{:,.3f}'.format\n",
    "pred_prob_df = pd.DataFrame(pred_prob , columns=[f\"prob_{el}\" for el in res['clf'].classes_] ,)\n",
    "pred_prob_df.insert(0 , 'name' , u.index.to_list())\n",
    "pred_prob_df = pred_prob_df.set_index('name')\n",
    "pred_prob_df = pd.merge(u_df , pred_prob_df , left_index=True , right_index =True)\n",
    "pred_prob_df"
   ]
  },
  {
   "cell_type": "code",
   "execution_count": 96,
   "metadata": {},
   "outputs": [
    {
     "data": {
      "text/plain": [
       "name\n",
       "2CXO J004829.5-732959    1.0\n",
       "2CXO J005449.0-725128    1.0\n",
       "2CXO J010049.1-731526    1.0\n",
       "2CXO J010049.8-731045    1.0\n",
       "2CXO J010647.7-730940    1.0\n",
       "                        ... \n",
       "2CXO J220433.1-495916    1.0\n",
       "2CXO J220508.3-495935    1.0\n",
       "2CXO J220544.0-495505    1.0\n",
       "2CXO J220555.6-500837    1.0\n",
       "2CXO J220603.1-500911    1.0\n",
       "Length: 39893, dtype: float64"
      ]
     },
     "execution_count": 96,
     "metadata": {},
     "output_type": "execute_result"
    }
   ],
   "source": [
    "pred_prob_df.sum(axis=1)"
   ]
  },
  {
   "cell_type": "code",
   "execution_count": 112,
   "metadata": {},
   "outputs": [
    {
     "data": {
      "image/png": "[encoded data removed]",
      "text/plain": [
       "<Figure size 459.27x360 with 1 Axes>"
      ]
     },
     "metadata": {},
     "output_type": "display_data"
    }
   ],
   "source": [
    "sns.displot(\n",
    "    data = u_df ,\n",
    "    kind='ecdf' ,\n",
    "    x = 'prob' ,\n",
    "    hue = 'class'\n",
    ")\n",
    "plt.show()"
   ]
  }
 ],
 "metadata": {
  "interpreter": {
   "hash": "31f2aee4e71d21fbe5cf8b01ff0e069b9275f58929596ceb00d14d90e3e16cd6"
  },
  "kernelspec": {
   "display_name": "Python 3.6.9 64-bit",
   "language": "python",
   "name": "python3"
  },
  "language_info": {
   "codemirror_mode": {
    "name": "ipython",
    "version": 3
   },
   "file_extension": ".py",
   "mimetype": "text/x-python",
   "name": "python",
   "nbconvert_exporter": "python",
   "pygments_lexer": "ipython3",
   "version": "3.6.9"
  },
  "orig_nbformat": 4
 },
 "nbformat": 4,
 "nbformat_minor": 2
}
