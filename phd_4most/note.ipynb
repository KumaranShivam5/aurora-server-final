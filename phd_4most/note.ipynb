{
 "cells": [
  {
   "cell_type": "code",
   "execution_count": 1,
   "metadata": {},
   "outputs": [],
   "source": [
    "%load_ext autoreload\n",
    "%autoreload 2\n",
    "import numpy as np \n",
    "from matplotlib import pyplot as plt \n",
    "import pandas as pd \n",
    "import seaborn as sns\n",
    "import joblib\n"
   ]
  },
  {
   "cell_type": "code",
   "execution_count": null,
   "metadata": {},
   "outputs": [],
   "source": [
    "from utilities_v3 import train_model_leave_one_out\n",
    "from utilities_v3 import train_model_k_fold"
   ]
  },
  {
   "cell_type": "code",
   "execution_count": null,
   "metadata": {},
   "outputs": [],
   "source": [
    "from utilities_v3 import cumulative_cross_validation\n",
    "from utilities_v3 import get_validation_score"
   ]
  },
  {
   "cell_type": "code",
   "execution_count": null,
   "metadata": {},
   "outputs": [],
   "source": [
    "from sklearn.ensemble import RandomForestClassifier"
   ]
  },
  {
   "cell_type": "code",
   "execution_count": 7,
   "metadata": {},
   "outputs": [
    {
     "name": "stdout",
     "output_type": "stream",
     "text": [
      "offset:  \t0.000|9.999\n",
      "singinficance:  0.870|267.938\n",
      "offset:  \t0.000|2.010\n",
      "singinficance:  3.000|267.938\n"
     ]
    }
   ],
   "source": [
    "from choices import get_train_data"
   ]
  },
  {
   "cell_type": "code",
   "execution_count": 100,
   "metadata": {},
   "outputs": [
    {
     "name": "stdout",
     "output_type": "stream",
     "text": [
      "offset:  \t0.000|9.999\n",
      "singinficance:  0.870|267.938\n"
     ]
    },
    {
     "data": {
      "text/html": [
       "<div>\n",
       "<style scoped>\n",
       "    .dataframe tbody tr th:only-of-type {\n",
       "        vertical-align: middle;\n",
       "    }\n",
       "\n",
       "    .dataframe tbody tr th {\n",
       "        vertical-align: top;\n",
       "    }\n",
       "\n",
       "    .dataframe thead th {\n",
       "        text-align: right;\n",
       "    }\n",
       "</style>\n",
       "<table border=\"1\" class=\"dataframe\">\n",
       "  <thead>\n",
       "    <tr style=\"text-align: right;\">\n",
       "      <th></th>\n",
       "      <th>class</th>\n",
       "      <th>gal_l2</th>\n",
       "      <th>gal_b2</th>\n",
       "      <th>hard_hm</th>\n",
       "    </tr>\n",
       "    <tr>\n",
       "      <th>name</th>\n",
       "      <th></th>\n",
       "      <th></th>\n",
       "      <th></th>\n",
       "      <th></th>\n",
       "    </tr>\n",
       "  </thead>\n",
       "  <tbody>\n",
       "    <tr>\n",
       "      <th>2CXO J140644.9-001007</th>\n",
       "      <td>AGN</td>\n",
       "      <td>9.432062</td>\n",
       "      <td>8.193931</td>\n",
       "      <td>5.64375</td>\n",
       "    </tr>\n",
       "    <tr>\n",
       "      <th>2CXO J102827.8-581906</th>\n",
       "      <td>PULSAR</td>\n",
       "      <td>7.918477</td>\n",
       "      <td>4.968044</td>\n",
       "      <td>5.94375</td>\n",
       "    </tr>\n",
       "    <tr>\n",
       "      <th>2CXO J035752.3+320520</th>\n",
       "      <td>PULSAR</td>\n",
       "      <td>4.521122</td>\n",
       "      <td>4.101499</td>\n",
       "      <td>4.09375</td>\n",
       "    </tr>\n",
       "    <tr>\n",
       "      <th>2CXO J054021.9-685108</th>\n",
       "      <td>STAR</td>\n",
       "      <td>7.754337</td>\n",
       "      <td>3.233147</td>\n",
       "      <td>6.45625</td>\n",
       "    </tr>\n",
       "    <tr>\n",
       "      <th>2CXO J042154.3+325310</th>\n",
       "      <td>AGN</td>\n",
       "      <td>4.609034</td>\n",
       "      <td>4.331070</td>\n",
       "      <td>3.94375</td>\n",
       "    </tr>\n",
       "    <tr>\n",
       "      <th>...</th>\n",
       "      <td>...</td>\n",
       "      <td>...</td>\n",
       "      <td>...</td>\n",
       "      <td>...</td>\n",
       "    </tr>\n",
       "    <tr>\n",
       "      <th>2CXO J063316.8+043028</th>\n",
       "      <td>STAR</td>\n",
       "      <td>5.745773</td>\n",
       "      <td>4.885682</td>\n",
       "      <td>5.99375</td>\n",
       "    </tr>\n",
       "    <tr>\n",
       "      <th>2CXO J111136.6-611948</th>\n",
       "      <td>YSO</td>\n",
       "      <td>8.090336</td>\n",
       "      <td>4.954255</td>\n",
       "      <td>6.98750</td>\n",
       "    </tr>\n",
       "    <tr>\n",
       "      <th>2CXO J182956.8+011446</th>\n",
       "      <td>STAR</td>\n",
       "      <td>0.877477</td>\n",
       "      <td>5.294590</td>\n",
       "      <td>5.01250</td>\n",
       "    </tr>\n",
       "    <tr>\n",
       "      <th>2CXO J030417.7+002827</th>\n",
       "      <td>AGN</td>\n",
       "      <td>4.932277</td>\n",
       "      <td>2.325477</td>\n",
       "      <td>5.00000</td>\n",
       "    </tr>\n",
       "    <tr>\n",
       "      <th>2CXO J225525.0+623651</th>\n",
       "      <td>STAR</td>\n",
       "      <td>3.056385</td>\n",
       "      <td>5.145769</td>\n",
       "      <td>4.05000</td>\n",
       "    </tr>\n",
       "  </tbody>\n",
       "</table>\n",
       "<p>2775 rows × 4 columns</p>\n",
       "</div>"
      ],
      "text/plain": [
       "                        class    gal_l2    gal_b2  hard_hm\n",
       "name                                                      \n",
       "2CXO J140644.9-001007     AGN  9.432062  8.193931  5.64375\n",
       "2CXO J102827.8-581906  PULSAR  7.918477  4.968044  5.94375\n",
       "2CXO J035752.3+320520  PULSAR  4.521122  4.101499  4.09375\n",
       "2CXO J054021.9-685108    STAR  7.754337  3.233147  6.45625\n",
       "2CXO J042154.3+325310     AGN  4.609034  4.331070  3.94375\n",
       "...                       ...       ...       ...      ...\n",
       "2CXO J063316.8+043028    STAR  5.745773  4.885682  5.99375\n",
       "2CXO J111136.6-611948     YSO  8.090336  4.954255  6.98750\n",
       "2CXO J182956.8+011446    STAR  0.877477  5.294590  5.01250\n",
       "2CXO J030417.7+002827     AGN  4.932277  2.325477  5.00000\n",
       "2CXO J225525.0+623651    STAR  3.056385  5.145769  4.05000\n",
       "\n",
       "[2775 rows x 4 columns]"
      ]
     },
     "execution_count": 100,
     "metadata": {},
     "output_type": "execute_result"
    }
   ],
   "source": [
    "df = get_train_data()\n",
    "df = df.sample(frac=0.2)[['class' , 'gal_l2' , 'gal_b2' , 'hard_hm']]\n",
    "df"
   ]
  },
  {
   "cell_type": "code",
   "execution_count": 96,
   "metadata": {},
   "outputs": [
    {
     "data": {
      "text/plain": [
       "AGN       471\n",
       "STAR      457\n",
       "YSO       254\n",
       "HMXB       92\n",
       "CV         45\n",
       "ULX        29\n",
       "PULSAR     20\n",
       "LMXB       20\n",
       "Name: class, dtype: int64"
      ]
     },
     "execution_count": 96,
     "metadata": {},
     "output_type": "execute_result"
    }
   ],
   "source": [
    "df['class'].value_counts()"
   ]
  },
  {
   "cell_type": "code",
   "execution_count": 78,
   "metadata": {},
   "outputs": [],
   "source": [
    "from sklearn.ensemble import RandomForestClassifier\n",
    "clf = RandomForestClassifier(n_estimators=10)"
   ]
  },
  {
   "cell_type": "code",
   "execution_count": 79,
   "metadata": {},
   "outputs": [],
   "source": [
    "x = df.drop(columns=['class'])\n",
    "y = df['class']"
   ]
  },
  {
   "cell_type": "code",
   "execution_count": 80,
   "metadata": {},
   "outputs": [
    {
     "data": {
      "text/plain": [
       "<function utilities_v3.make_model.validate(self, k_fold=10, save_predictions=False, multiprocessing=True, score_average_type='weighted')>"
      ]
     },
     "execution_count": 80,
     "metadata": {},
     "output_type": "execute_result"
    }
   ],
   "source": [
    "from utilities_v3 import make_model\n",
    "make_model.validate"
   ]
  },
  {
   "cell_type": "code",
   "execution_count": 105,
   "metadata": {},
   "outputs": [
    {
     "name": "stdout",
     "output_type": "stream",
     "text": [
      "[INFO] >>> Doing LeaveOneOut cross-validation\n"
     ]
    },
    {
     "name": "stderr",
     "output_type": "stream",
     "text": [
      "100%|██████████| 694/694 [00:42<00:00, 16.22it/s]\n"
     ]
    },
    {
     "data": {
      "text/plain": [
       "<utilities_v3.make_model at 0x7f5707c38978>"
      ]
     },
     "execution_count": 105,
     "metadata": {},
     "output_type": "execute_result"
    }
   ],
   "source": [
    "from utilities_v3 import make_model\n",
    "model = make_model('test_model',clf , x , y)\n",
    "model.validate(save_predictions=True , multiprocessing=True  , k_fold=-1)"
   ]
  },
  {
   "cell_type": "code",
   "execution_count": 106,
   "metadata": {},
   "outputs": [
    {
     "data": {
      "text/html": [
       "<div>\n",
       "<style scoped>\n",
       "    .dataframe tbody tr th:only-of-type {\n",
       "        vertical-align: middle;\n",
       "    }\n",
       "\n",
       "    .dataframe tbody tr th {\n",
       "        vertical-align: top;\n",
       "    }\n",
       "\n",
       "    .dataframe thead th {\n",
       "        text-align: right;\n",
       "    }\n",
       "</style>\n",
       "<table border=\"1\" class=\"dataframe\">\n",
       "  <thead>\n",
       "    <tr style=\"text-align: right;\">\n",
       "      <th></th>\n",
       "      <th>true_class</th>\n",
       "      <th>pred_class</th>\n",
       "      <th>pred_prob</th>\n",
       "      <th>prob_AGN</th>\n",
       "      <th>prob_CV</th>\n",
       "      <th>prob_HMXB</th>\n",
       "      <th>prob_LMXB</th>\n",
       "      <th>prob_PULSAR</th>\n",
       "      <th>prob_STAR</th>\n",
       "      <th>prob_ULX</th>\n",
       "      <th>prob_YSO</th>\n",
       "    </tr>\n",
       "    <tr>\n",
       "      <th>name</th>\n",
       "      <th></th>\n",
       "      <th></th>\n",
       "      <th></th>\n",
       "      <th></th>\n",
       "      <th></th>\n",
       "      <th></th>\n",
       "      <th></th>\n",
       "      <th></th>\n",
       "      <th></th>\n",
       "      <th></th>\n",
       "      <th></th>\n",
       "    </tr>\n",
       "  </thead>\n",
       "  <tbody>\n",
       "    <tr>\n",
       "      <th>2CXO J021013.6-001159</th>\n",
       "      <td>AGN</td>\n",
       "      <td>HMXB</td>\n",
       "      <td>0.4</td>\n",
       "      <td>0.2</td>\n",
       "      <td>0.0</td>\n",
       "      <td>0.4</td>\n",
       "      <td>0.0</td>\n",
       "      <td>0.0</td>\n",
       "      <td>0.0</td>\n",
       "      <td>0.4</td>\n",
       "      <td>0.0</td>\n",
       "    </tr>\n",
       "    <tr>\n",
       "      <th>2CXO J005850.4-721713</th>\n",
       "      <td>STAR</td>\n",
       "      <td>STAR</td>\n",
       "      <td>0.9</td>\n",
       "      <td>0.0</td>\n",
       "      <td>0.1</td>\n",
       "      <td>0.0</td>\n",
       "      <td>0.0</td>\n",
       "      <td>0.0</td>\n",
       "      <td>0.9</td>\n",
       "      <td>0.0</td>\n",
       "      <td>0.0</td>\n",
       "    </tr>\n",
       "    <tr>\n",
       "      <th>2CXO J140208.6+541546</th>\n",
       "      <td>HMXB</td>\n",
       "      <td>HMXB</td>\n",
       "      <td>0.9</td>\n",
       "      <td>0.1</td>\n",
       "      <td>0.0</td>\n",
       "      <td>0.9</td>\n",
       "      <td>0.0</td>\n",
       "      <td>0.0</td>\n",
       "      <td>0.0</td>\n",
       "      <td>0.0</td>\n",
       "      <td>0.0</td>\n",
       "    </tr>\n",
       "    <tr>\n",
       "      <th>2CXO J192107.4+374756</th>\n",
       "      <td>CV</td>\n",
       "      <td>STAR</td>\n",
       "      <td>0.6</td>\n",
       "      <td>0.0</td>\n",
       "      <td>0.1</td>\n",
       "      <td>0.0</td>\n",
       "      <td>0.2</td>\n",
       "      <td>0.1</td>\n",
       "      <td>0.6</td>\n",
       "      <td>0.0</td>\n",
       "      <td>0.0</td>\n",
       "    </tr>\n",
       "    <tr>\n",
       "      <th>2CXO J043332.8+180043</th>\n",
       "      <td>STAR</td>\n",
       "      <td>STAR</td>\n",
       "      <td>1.0</td>\n",
       "      <td>0.0</td>\n",
       "      <td>0.0</td>\n",
       "      <td>0.0</td>\n",
       "      <td>0.0</td>\n",
       "      <td>0.0</td>\n",
       "      <td>1.0</td>\n",
       "      <td>0.0</td>\n",
       "      <td>0.0</td>\n",
       "    </tr>\n",
       "    <tr>\n",
       "      <th>...</th>\n",
       "      <td>...</td>\n",
       "      <td>...</td>\n",
       "      <td>...</td>\n",
       "      <td>...</td>\n",
       "      <td>...</td>\n",
       "      <td>...</td>\n",
       "      <td>...</td>\n",
       "      <td>...</td>\n",
       "      <td>...</td>\n",
       "      <td>...</td>\n",
       "      <td>...</td>\n",
       "    </tr>\n",
       "    <tr>\n",
       "      <th>2CXO J130905.6+113802</th>\n",
       "      <td>AGN</td>\n",
       "      <td>STAR</td>\n",
       "      <td>0.4</td>\n",
       "      <td>0.1</td>\n",
       "      <td>0.1</td>\n",
       "      <td>0.2</td>\n",
       "      <td>0.0</td>\n",
       "      <td>0.0</td>\n",
       "      <td>0.4</td>\n",
       "      <td>0.0</td>\n",
       "      <td>0.2</td>\n",
       "    </tr>\n",
       "    <tr>\n",
       "      <th>2CXO J053833.5-024413</th>\n",
       "      <td>STAR</td>\n",
       "      <td>STAR</td>\n",
       "      <td>1.0</td>\n",
       "      <td>0.0</td>\n",
       "      <td>0.0</td>\n",
       "      <td>0.0</td>\n",
       "      <td>0.0</td>\n",
       "      <td>0.0</td>\n",
       "      <td>1.0</td>\n",
       "      <td>0.0</td>\n",
       "      <td>0.0</td>\n",
       "    </tr>\n",
       "    <tr>\n",
       "      <th>2CXO J213745.1+572817</th>\n",
       "      <td>STAR</td>\n",
       "      <td>STAR</td>\n",
       "      <td>0.8</td>\n",
       "      <td>0.0</td>\n",
       "      <td>0.1</td>\n",
       "      <td>0.0</td>\n",
       "      <td>0.0</td>\n",
       "      <td>0.1</td>\n",
       "      <td>0.8</td>\n",
       "      <td>0.0</td>\n",
       "      <td>0.0</td>\n",
       "    </tr>\n",
       "    <tr>\n",
       "      <th>2CXO J080117.8+521034</th>\n",
       "      <td>AGN</td>\n",
       "      <td>AGN</td>\n",
       "      <td>0.6</td>\n",
       "      <td>0.6</td>\n",
       "      <td>0.1</td>\n",
       "      <td>0.1</td>\n",
       "      <td>0.0</td>\n",
       "      <td>0.0</td>\n",
       "      <td>0.2</td>\n",
       "      <td>0.0</td>\n",
       "      <td>0.0</td>\n",
       "    </tr>\n",
       "    <tr>\n",
       "      <th>2CXO J181908.5-133624</th>\n",
       "      <td>YSO</td>\n",
       "      <td>YSO</td>\n",
       "      <td>0.8</td>\n",
       "      <td>0.1</td>\n",
       "      <td>0.0</td>\n",
       "      <td>0.0</td>\n",
       "      <td>0.0</td>\n",
       "      <td>0.0</td>\n",
       "      <td>0.1</td>\n",
       "      <td>0.0</td>\n",
       "      <td>0.8</td>\n",
       "    </tr>\n",
       "  </tbody>\n",
       "</table>\n",
       "<p>694 rows × 11 columns</p>\n",
       "</div>"
      ],
      "text/plain": [
       "                      true_class pred_class  pred_prob  prob_AGN  prob_CV  \\\n",
       "name                                                                        \n",
       "2CXO J021013.6-001159        AGN       HMXB        0.4       0.2      0.0   \n",
       "2CXO J005850.4-721713       STAR       STAR        0.9       0.0      0.1   \n",
       "2CXO J140208.6+541546       HMXB       HMXB        0.9       0.1      0.0   \n",
       "2CXO J192107.4+374756         CV       STAR        0.6       0.0      0.1   \n",
       "2CXO J043332.8+180043       STAR       STAR        1.0       0.0      0.0   \n",
       "...                          ...        ...        ...       ...      ...   \n",
       "2CXO J130905.6+113802        AGN       STAR        0.4       0.1      0.1   \n",
       "2CXO J053833.5-024413       STAR       STAR        1.0       0.0      0.0   \n",
       "2CXO J213745.1+572817       STAR       STAR        0.8       0.0      0.1   \n",
       "2CXO J080117.8+521034        AGN        AGN        0.6       0.6      0.1   \n",
       "2CXO J181908.5-133624        YSO        YSO        0.8       0.1      0.0   \n",
       "\n",
       "                       prob_HMXB  prob_LMXB  prob_PULSAR  prob_STAR  prob_ULX  \\\n",
       "name                                                                            \n",
       "2CXO J021013.6-001159        0.4        0.0          0.0        0.0       0.4   \n",
       "2CXO J005850.4-721713        0.0        0.0          0.0        0.9       0.0   \n",
       "2CXO J140208.6+541546        0.9        0.0          0.0        0.0       0.0   \n",
       "2CXO J192107.4+374756        0.0        0.2          0.1        0.6       0.0   \n",
       "2CXO J043332.8+180043        0.0        0.0          0.0        1.0       0.0   \n",
       "...                          ...        ...          ...        ...       ...   \n",
       "2CXO J130905.6+113802        0.2        0.0          0.0        0.4       0.0   \n",
       "2CXO J053833.5-024413        0.0        0.0          0.0        1.0       0.0   \n",
       "2CXO J213745.1+572817        0.0        0.0          0.1        0.8       0.0   \n",
       "2CXO J080117.8+521034        0.1        0.0          0.0        0.2       0.0   \n",
       "2CXO J181908.5-133624        0.0        0.0          0.0        0.1       0.0   \n",
       "\n",
       "                       prob_YSO  \n",
       "name                             \n",
       "2CXO J021013.6-001159       0.0  \n",
       "2CXO J005850.4-721713       0.0  \n",
       "2CXO J140208.6+541546       0.0  \n",
       "2CXO J192107.4+374756       0.0  \n",
       "2CXO J043332.8+180043       0.0  \n",
       "...                         ...  \n",
       "2CXO J130905.6+113802       0.2  \n",
       "2CXO J053833.5-024413       0.0  \n",
       "2CXO J213745.1+572817       0.0  \n",
       "2CXO J080117.8+521034       0.0  \n",
       "2CXO J181908.5-133624       0.8  \n",
       "\n",
       "[694 rows x 11 columns]"
      ]
     },
     "execution_count": 106,
     "metadata": {},
     "output_type": "execute_result"
    }
   ],
   "source": [
    "model.validation_prediction"
   ]
  },
  {
   "cell_type": "code",
   "execution_count": 64,
   "metadata": {},
   "outputs": [
    {
     "data": {
      "text/plain": [
       "{'class_labels': ['AGN', 'CV', 'HMXB', 'LMXB', 'PULSAR', 'STAR', 'ULX', 'YSO'],\n",
       " 'confusion_matrix': array([[1781,   13,   60,    0,    5,   33,   36,    5],\n",
       "        [   8,   50,   15,    3,   15,   29,    6,   16],\n",
       "        [  17,   15,  247,    3,    1,   30,   25,    4],\n",
       "        [   2,    7,    2,   43,    2,   14,    4,   13],\n",
       "        [   3,   16,    4,    2,   16,   14,    2,   16],\n",
       "        [  45,   40,   59,   12,   28, 1524,   20,  130],\n",
       "        [  19,    4,   20,    4,    2,    4,   62,    0],\n",
       "        [   1,    8,    1,    4,   12,   82,    1,  891]]),\n",
       " 'overall_scores': {'balanced_accuracy': 0.6199373569138013,\n",
       "  'accuracy': 0.8313513513513513,\n",
       "  'precision': 0.8408961259085931,\n",
       "  'recall': 0.8313513513513513,\n",
       "  'f1': 0.8348392309550927,\n",
       "  'mcc': 0.7716882988129912},\n",
       " 'class_wise_scores':         recall_score  precision_score  f1_score\n",
       " class                                          \n",
       " AGN         0.921366         0.949360  0.935154\n",
       " CV          0.352113         0.326797  0.338983\n",
       " HMXB        0.722222         0.605392  0.658667\n",
       " LMXB        0.494253         0.605634  0.544304\n",
       " PULSAR      0.219178         0.197531  0.207792\n",
       " STAR        0.820237         0.880925  0.849498\n",
       " ULX         0.539130         0.397436  0.457565\n",
       " YSO         0.891000         0.828837  0.858795}"
      ]
     },
     "execution_count": 64,
     "metadata": {},
     "output_type": "execute_result"
    }
   ],
   "source": [
    "model.validation_score"
   ]
  }
 ],
 "metadata": {
  "interpreter": {
   "hash": "31f2aee4e71d21fbe5cf8b01ff0e069b9275f58929596ceb00d14d90e3e16cd6"
  },
  "kernelspec": {
   "display_name": "Python 3.6.9 64-bit",
   "language": "python",
   "name": "python3"
  },
  "language_info": {
   "codemirror_mode": {
    "name": "ipython",
    "version": 3
   },
   "file_extension": ".py",
   "mimetype": "text/x-python",
   "name": "python",
   "nbconvert_exporter": "python",
   "pygments_lexer": "ipython3",
   "version": "3.6.9"
  },
  "orig_nbformat": 4
 },
 "nbformat": 4,
 "nbformat_minor": 2
}
