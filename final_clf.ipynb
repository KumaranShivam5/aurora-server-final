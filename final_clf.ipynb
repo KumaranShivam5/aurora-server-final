{
 "cells": [
  {
   "cell_type": "code",
   "execution_count": 1,
   "metadata": {},
   "outputs": [],
   "source": [
    "import pandas as pd \n",
    "from matplotlib import pyplot as plt \n",
    "import numpy as np \n",
    "import seaborn as sns"
   ]
  },
  {
   "cell_type": "code",
   "execution_count": 22,
   "metadata": {},
   "outputs": [],
   "source": [
    "def get_data(offset , significance):\n",
    "    df = pd.read_csv('../not_on_git/mw_cat/chandra_filtered_sources.csv' , index_col = 'name')\n",
    "    df_id = pd.read_csv('compiled_data_v3/id_frame.csv' , index_col='name')[['offset' , 'class']]\n",
    "    off = offset + 0.1\n",
    "    df = pd.merge(df_id[df_id['offset']<off] , df , left_index=True , right_index =True , how='right')\n",
    "    sig = significance\n",
    "    df = df[df['significance']>sig]\n",
    "    df = df.drop(columns = ['significance'  , 'offset' , 'ra' , 'dec', 'var_inter_hard_flag' , 'likelihood'])\n",
    "    df = df.rename(columns = {\n",
    "        'flux_aper_b' : 'b-csc' , \n",
    "        'flux_aper_h' : 'h-csc' ,\n",
    "        'flux_aper_m': 'm-csc' ,\n",
    "        'flux_aper_s': 's-csc' ,\n",
    "        'flux_aper_u': 'u-csc' ,\n",
    "    })\n",
    "    df['class'] = df['class'].replace(np.nan , 'X')\n",
    "    df = pd.merge(\n",
    "        df , pd.read_csv('mw_cat/sdss.csv' , index_col='name') ,\n",
    "        left_index=True , \n",
    "        right_index = True , \n",
    "        how = 'left'\n",
    "    )\n",
    "    df = pd.merge(\n",
    "        df , pd.read_csv('mw_cat/2mass_v2.csv' , index_col='name') ,\n",
    "        left_index=True , \n",
    "        right_index = True , \n",
    "        how = 'left'\n",
    "    )\n",
    "    df = pd.merge(\n",
    "        df , pd.read_csv('mw_cat/wise_combined.csv' , index_col='name') ,\n",
    "        left_index=True , \n",
    "        right_index = True , \n",
    "        how = 'left'\n",
    "    )\n",
    "    df = pd.merge(\n",
    "        df , pd.read_csv('mw_cat/galex_combined.csv' , index_col='name') ,\n",
    "        left_index=True , \n",
    "        right_index = True , \n",
    "        how = 'left'\n",
    "    )\n",
    "    df = pd.merge(\n",
    "        df , pd.read_csv('mw_cat/gaia.csv' , index_col='name') ,\n",
    "        left_index=True , \n",
    "        right_index = True , \n",
    "        how = 'left'\n",
    "    )\n",
    "    df['B-R'] = df['bp_mag']-df['rp_mag']\n",
    "    df['G-J'] = df[ 'g_mag'] - df['Jmag']\n",
    "    df['G-W2'] = df['g_mag'] - df['W2mag']\n",
    "    df['Bp-H'] = df['bp_mag'] - df[ 'Hmag']\n",
    "    df['Bp-W3'] = df['bp_mag'] - df['W3mag']\n",
    "    df['Rp-K'] = df['rp_mag'] - df['Kmag']\n",
    "    df['J-H'] = df['Jmag'] - df['Hmag']\n",
    "    df['J-W1'] = df['Jmag'] - df['W1mag']\n",
    "    df['W1-W2'] = df['W1mag'] - df['W2mag']\n",
    "\n",
    "    return df"
   ]
  },
  {
   "cell_type": "code",
   "execution_count": 25,
   "metadata": {},
   "outputs": [
    {
     "name": "stdout",
     "output_type": "stream",
     "text": [
      "_____________________________________________________\n",
      "------------------------------\n",
      "Number of Objects : 277596\n",
      "Number of Columns : 45\n",
      "------------------------------\n"
     ]
    },
    {
     "data": {
      "text/plain": [
       "X         269486\n",
       "STAR        2853\n",
       "AGN         2667\n",
       "YSO         1200\n",
       "HMXB         759\n",
       "ULX          214\n",
       "CV           169\n",
       "LMXB         143\n",
       "PULSAR       105\n",
       "Name: class, dtype: int64"
      ]
     },
     "metadata": {},
     "output_type": "display_data"
    },
    {
     "name": "stdout",
     "output_type": "stream",
     "text": [
      "_____________________________________________________\n"
     ]
    }
   ],
   "source": [
    "from utilities import deets\n",
    "df = get_data(offset=1.0 , significance=0)\n",
    "deets(df , 1)"
   ]
  },
  {
   "cell_type": "code",
   "execution_count": 26,
   "metadata": {},
   "outputs": [],
   "source": [
    "x = df[df['class']!='X']\n",
    "y = x['class']\n",
    "x = x.drop(columns=['class' , 'var_flag'])\n",
    "u = df[df['class']!='X'].drop(columns = ['class' , 'var_flag'])"
   ]
  },
  {
   "cell_type": "code",
   "execution_count": 24,
   "metadata": {},
   "outputs": [
    {
     "name": "stdout",
     "output_type": "stream",
     "text": [
      "offset:  \t0.000|9.999\n",
      "singinficance:  0.870|267.938\n",
      "offset:  \t0.000|2.010\n",
      "singinficance:  3.000|267.938\n"
     ]
    },
    {
     "ename": "NameError",
     "evalue": "name 'y' is not defined",
     "output_type": "error",
     "traceback": [
      "\u001b[0;31m---------------------------------------------------------------------------\u001b[0m",
      "\u001b[0;31mNameError\u001b[0m                                 Traceback (most recent call last)",
      "\u001b[0;32m<ipython-input-24-3a7c719bbf3c>\u001b[0m in \u001b[0;36m<module>\u001b[0;34m\u001b[0m\n\u001b[1;32m      2\u001b[0m param = {\n\u001b[1;32m      3\u001b[0m     \u001b[0;34m'objective'\u001b[0m\u001b[0;34m:\u001b[0m \u001b[0;34m'binaryclass'\u001b[0m\u001b[0;34m,\u001b[0m\u001b[0;34m\u001b[0m\u001b[0;34m\u001b[0m\u001b[0m\n\u001b[0;32m----> 4\u001b[0;31m     \u001b[0;34m'num_class'\u001b[0m\u001b[0;34m:\u001b[0m\u001b[0mlen\u001b[0m\u001b[0;34m(\u001b[0m\u001b[0mnp\u001b[0m\u001b[0;34m.\u001b[0m\u001b[0munique\u001b[0m\u001b[0;34m(\u001b[0m\u001b[0my\u001b[0m\u001b[0;34m)\u001b[0m\u001b[0;34m)\u001b[0m\u001b[0;34m,\u001b[0m\u001b[0;34m\u001b[0m\u001b[0;34m\u001b[0m\u001b[0m\n\u001b[0m\u001b[1;32m      5\u001b[0m     \u001b[0;34m'metric'\u001b[0m\u001b[0;34m:\u001b[0m \u001b[0;34m[\u001b[0m\u001b[0;34m'auc_mu'\u001b[0m \u001b[0;34m,\u001b[0m \u001b[0;34m]\u001b[0m \u001b[0;34m,\u001b[0m\u001b[0;34m\u001b[0m\u001b[0;34m\u001b[0m\u001b[0m\n\u001b[1;32m      6\u001b[0m     \u001b[0;34m'verbosity'\u001b[0m \u001b[0;34m:\u001b[0m \u001b[0;36m2\u001b[0m \u001b[0;34m,\u001b[0m\u001b[0;34m\u001b[0m\u001b[0;34m\u001b[0m\u001b[0m\n",
      "\u001b[0;31mNameError\u001b[0m: name 'y' is not defined"
     ]
    }
   ],
   "source": [
    "from utilities import simple_cv\n",
    "param = {\n",
    "    'objective': 'binaryclass',\n",
    "    'num_class':len(np.unique(y)),\n",
    "    'metric': ['auc_mu' , ] , \n",
    "    'verbosity' : 2 , \n",
    "    'deterministic' : True  , \n",
    "    'early_stopping_round' : 20 , \n",
    "    'sparse' : True , \n",
    "    'is_unbalance' : True\n",
    "    }\n",
    "def calc_weight(gamma , y):\n",
    "    l = len(y)\n",
    "    cl_weight = {}\n",
    "    cl_dict = y.value_counts().to_dict()\n",
    "    for cl , val in zip(cl_dict.keys() , cl_dict.values()):\n",
    "        w = np.exp((l / val)*gamma)\n",
    "        cl_weight[cl] = w\n",
    "    #print(cl_weight)\n",
    "    return cl_weight"
   ]
  },
  {
   "cell_type": "code",
   "execution_count": null,
   "metadata": {},
   "outputs": [],
   "source": []
  }
 ],
 "metadata": {
  "interpreter": {
   "hash": "31f2aee4e71d21fbe5cf8b01ff0e069b9275f58929596ceb00d14d90e3e16cd6"
  },
  "kernelspec": {
   "display_name": "Python 3.6.9 64-bit",
   "language": "python",
   "name": "python3"
  },
  "language_info": {
   "codemirror_mode": {
    "name": "ipython",
    "version": 3
   },
   "file_extension": ".py",
   "mimetype": "text/x-python",
   "name": "python",
   "nbconvert_exporter": "python",
   "pygments_lexer": "ipython3",
   "version": "3.6.9"
  },
  "orig_nbformat": 4
 },
 "nbformat": 4,
 "nbformat_minor": 2
}
