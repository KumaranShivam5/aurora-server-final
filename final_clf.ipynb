{
 "cells": [
  {
   "cell_type": "code",
   "execution_count": 1,
   "metadata": {},
   "outputs": [],
   "source": [
    "import pandas as pd \n",
    "from matplotlib import pyplot as plt \n",
    "import numpy as np \n",
    "import seaborn as sns"
   ]
  },
  {
   "cell_type": "code",
   "execution_count": 11,
   "metadata": {},
   "outputs": [],
   "source": [
    "df = pd.read_csv('../not_on_git/mw_cat/chandra_filtered_sources.csv' , index_col = 'name')\n",
    "df_id = pd.read_csv('compiled_data_v3/id_frame.csv' , index_col='name')[['offset' , 'class']]\n",
    "off = 1.01 \n",
    "df = pd.merge(df_id[df_id['offset']<off] , df , left_index=True , right_index =True , how='right')\n",
    "df = df.drop(columns = ['significance'  , 'offset' , 'ra' , 'dec' , 'var_flag' , 'var_inter_hard_flag' , 'likelihood'])\n",
    "df = df.rename(columns = {\n",
    "    'flux_aper_b' : 'b-csc' , \n",
    "    'flux_aper_h' : 'h-csc' ,\n",
    "    'flux_aper_m': 'm-csc' ,\n",
    "    'flux_aper_s': 's-csc' ,\n",
    "    'flux_aper_u': 'u-csc' ,\n",
    "})\n",
    "df['class'] = df['class'].replace(np.nan , 'X')\n",
    "df = pd.merge(\n",
    "    df , pd.read_csv('mw_cat/sdss.csv' , index_col='name') ,\n",
    "    left_index=True , \n",
    "    right_index = True , \n",
    "    how = 'left'\n",
    ")\n",
    "df = pd.merge(\n",
    "    df , pd.read_csv('mw_cat/2mass_v2.csv' , index_col='name') ,\n",
    "    left_index=True , \n",
    "    right_index = True , \n",
    "    how = 'left'\n",
    ")\n",
    "df = pd.merge(\n",
    "    df , pd.read_csv('mw_cat/wise_combined.csv' , index_col='name') ,\n",
    "    left_index=True , \n",
    "    right_index = True , \n",
    "    how = 'left'\n",
    ")\n",
    "df = pd.merge(\n",
    "    df , pd.read_csv('mw_cat/galex_combined.csv' , index_col='name') ,\n",
    "    left_index=True , \n",
    "    right_index = True , \n",
    "    how = 'left'\n",
    ")\n",
    "df = pd.merge(\n",
    "    df , pd.read_csv('mw_cat/gaia.csv' , index_col='name') ,\n",
    "    left_index=True , \n",
    "    right_index = True , \n",
    "    how = 'left'\n",
    ")\n"
   ]
  },
  {
   "cell_type": "code",
   "execution_count": 12,
   "metadata": {},
   "outputs": [
    {
     "name": "stdout",
     "output_type": "stream",
     "text": [
      "['class', 'gal_l', 'gal_b', 'b-csc', 'h-csc', 'm-csc', 's-csc', 'u-csc', 'hard_hm', 'hard_hs', 'hard_ms', 'var_intra_index_b', 'var_intra_prob_b', 'ks_intra_prob_b', 'kp_intra_prob_b', 'var_inter_index_b', 'var_inter_prob_b', 'var_inter_sigma_b', 'umag', 'gmag', 'rmag', 'imag', 'zmag', 'Jmag', 'Hmag', 'Kmag', 'W1mag', 'W2mag', 'W3mag', 'W4mag', 'fuv_mag', 'nuv_mag', 'g_mag', 'bp_mag', 'rp_mag']\n"
     ]
    }
   ],
   "source": [
    "print(df.columns.to_list())"
   ]
  },
  {
   "cell_type": "code",
   "execution_count": 13,
   "metadata": {},
   "outputs": [],
   "source": [
    "df['B-R'] = df['bp_mag']-df['rp_mag']\n",
    "df['G-J'] = df[ 'g_mag'] - df['Jmag']\n",
    "df['G-W2'] = df['g_mag'] - df['W2mag']\n",
    "df['Bp-H'] = df['bp_mag'] - df[ 'Hmag']\n",
    "df['Bp-W3'] = df['bp_mag'] - df['W3mag']\n",
    "df['Rp-K'] = df['rp_mag'] - df['Kmag']\n",
    "df['J-H'] = df['Jmag'] - df['Hmag']\n",
    "df['J-W1'] = df['Jmag'] - df['W1mag']\n",
    "df['W1-W2'] = df['W1mag'] - df['W2mag']"
   ]
  },
  {
   "cell_type": "code",
   "execution_count": 14,
   "metadata": {},
   "outputs": [
    {
     "data": {
      "text/plain": [
       "['class',\n",
       " 'gal_l',\n",
       " 'gal_b',\n",
       " 'b-csc',\n",
       " 'h-csc',\n",
       " 'm-csc',\n",
       " 's-csc',\n",
       " 'u-csc',\n",
       " 'hard_hm',\n",
       " 'hard_hs',\n",
       " 'hard_ms',\n",
       " 'var_intra_index_b',\n",
       " 'var_intra_prob_b',\n",
       " 'ks_intra_prob_b',\n",
       " 'kp_intra_prob_b',\n",
       " 'var_inter_index_b',\n",
       " 'var_inter_prob_b',\n",
       " 'var_inter_sigma_b',\n",
       " 'umag',\n",
       " 'gmag',\n",
       " 'rmag',\n",
       " 'imag',\n",
       " 'zmag',\n",
       " 'Jmag',\n",
       " 'Hmag',\n",
       " 'Kmag',\n",
       " 'W1mag',\n",
       " 'W2mag',\n",
       " 'W3mag',\n",
       " 'W4mag',\n",
       " 'fuv_mag',\n",
       " 'nuv_mag',\n",
       " 'g_mag',\n",
       " 'bp_mag',\n",
       " 'rp_mag',\n",
       " 'B-R',\n",
       " 'G-J',\n",
       " 'G-W2',\n",
       " 'Bp-H',\n",
       " 'Bp-W3',\n",
       " 'Rp-K',\n",
       " 'J-H',\n",
       " 'J-W1',\n",
       " 'W1-W2']"
      ]
     },
     "execution_count": 14,
     "metadata": {},
     "output_type": "execute_result"
    }
   ],
   "source": [
    "df.columns.to_list()"
   ]
  }
 ],
 "metadata": {
  "interpreter": {
   "hash": "31f2aee4e71d21fbe5cf8b01ff0e069b9275f58929596ceb00d14d90e3e16cd6"
  },
  "kernelspec": {
   "display_name": "Python 3.6.9 64-bit",
   "language": "python",
   "name": "python3"
  },
  "language_info": {
   "codemirror_mode": {
    "name": "ipython",
    "version": 3
   },
   "file_extension": ".py",
   "mimetype": "text/x-python",
   "name": "python",
   "nbconvert_exporter": "python",
   "pygments_lexer": "ipython3",
   "version": "3.6.9"
  },
  "orig_nbformat": 4
 },
 "nbformat": 4,
 "nbformat_minor": 2
}
