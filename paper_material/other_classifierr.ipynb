{
 "cells": [
  {
   "cell_type": "code",
   "execution_count": 87,
   "metadata": {},
   "outputs": [],
   "source": [
    "import pandas as pd\n",
    "import numpy as np \n",
    "from matplotlib import pyplot as plt \n",
    "from IPython.display import display\n",
    "from tqdm import tqdm_notebook\n",
    "import tqdm\n",
    "import seaborn as sns\n",
    "from choices import param_dict\n",
    "from sklearn.experimental import enable_iterative_imputer\n",
    "from sklearn.impute import  IterativeImputer \n",
    "from sklearn.impute import SimpleImputer , KNNImputer\n",
    "from sklearn.preprocessing import Normalizer\n",
    "from sklearn.ensemble import GradientBoostingClassifier\n",
    "sns.set(font_scale=1.3, rc={'axes.facecolor':'white', 'figure.facecolor':'white' , 'axes.grid':True} , style=\"whitegrid\")\n",
    "# \n",
    "%load_ext autoreload\n",
    "%autoreload 2\n",
    "import time \n",
    "tstart = time.time()\n",
    "feat_to_drop = param_dict['hardness']+param_dict['IRAC']"
   ]
  },
  {
   "cell_type": "code",
   "execution_count": 88,
   "metadata": {},
   "outputs": [],
   "source": [
    "\n",
    "from utilities import deets\n",
    "from choices import get_train_data , param_dict\n",
    "classes = ['AGN' ,'STAR' , 'YSO' ,  'CV' , 'LMXB' , 'HMXB' ,'ULX','PULSAR']\n",
    "flag = {\n",
    "    'conf_flag' : 0 , \n",
    "    'streak_src_flag' : 0 , \n",
    "    'extent_flag' : 0 , \n",
    "    'pileup_flag' : 0 , \n",
    "    }\n",
    "ret_dict= {\n",
    "    'clf': False,\n",
    " 'prob_table': True,\n",
    " 'acc': True,\n",
    " 'pr_score': True,\n",
    " 'precision': True,\n",
    " 'recall': True , \n",
    " 'roc_auc_score' : False\n",
    " }\n",
    "\n"
   ]
  },
  {
   "cell_type": "code",
   "execution_count": 89,
   "metadata": {},
   "outputs": [
    {
     "name": "stdout",
     "output_type": "stream",
     "text": [
      "_____________________________________________________\n",
      "------------------------------\n",
      "Number of Objects : 7703\n",
      "Number of Columns : 42\n",
      "_____________________________________________________\n"
     ]
    }
   ],
   "source": [
    "\n",
    "file = f'../compiled_data_v3/imputed_data_v2/x_phot_minmax_modeimp.csv'\n",
    "data = get_train_data(flags = flag, classes= classes , offset = 1, file=file)\n",
    "data = data.drop(columns = feat_to_drop)\n",
    "deets(data,0)\n"
   ]
  },
  {
   "cell_type": "code",
   "execution_count": 90,
   "metadata": {},
   "outputs": [
    {
     "name": "stdout",
     "output_type": "stream",
     "text": [
      "-------------------------------------\n",
      "DOING 0th Iteration\n",
      "Doing 20 fold cross-validation\n"
     ]
    },
    {
     "name": "stderr",
     "output_type": "stream",
     "text": [
      "100%|██████████| 20/20 [02:06<00:00,  6.32s/it]\n"
     ]
    },
    {
     "name": "stdout",
     "output_type": "stream",
     "text": [
      "[RESULT] Overall Accuracy : 0.91\n",
      "[INFO] Validation probability table is available as ['prob_table'] in response\n",
      "-------------------------------------\n",
      "DOING 1th Iteration\n",
      "Doing 20 fold cross-validation\n"
     ]
    },
    {
     "name": "stderr",
     "output_type": "stream",
     "text": [
      "100%|██████████| 20/20 [02:06<00:00,  6.33s/it]\n"
     ]
    },
    {
     "name": "stdout",
     "output_type": "stream",
     "text": [
      "[RESULT] Overall Accuracy : 0.91\n",
      "[INFO] Validation probability table is available as ['prob_table'] in response\n",
      "-------------------------------------\n",
      "DOING 2th Iteration\n",
      "Doing 20 fold cross-validation\n"
     ]
    },
    {
     "name": "stderr",
     "output_type": "stream",
     "text": [
      "100%|██████████| 20/20 [02:05<00:00,  6.29s/it]\n"
     ]
    },
    {
     "name": "stdout",
     "output_type": "stream",
     "text": [
      "[RESULT] Overall Accuracy : 0.91\n",
      "[INFO] Validation probability table is available as ['prob_table'] in response\n",
      "-------------------------------------\n",
      "DOING 3th Iteration\n",
      "Doing 20 fold cross-validation\n"
     ]
    },
    {
     "name": "stderr",
     "output_type": "stream",
     "text": [
      "100%|██████████| 20/20 [02:02<00:00,  6.10s/it]\n"
     ]
    },
    {
     "name": "stdout",
     "output_type": "stream",
     "text": [
      "[RESULT] Overall Accuracy : 0.91\n",
      "[INFO] Validation probability table is available as ['prob_table'] in response\n",
      "-------------------------------------\n",
      "DOING 4th Iteration\n",
      "Doing 20 fold cross-validation\n"
     ]
    },
    {
     "name": "stderr",
     "output_type": "stream",
     "text": [
      "100%|██████████| 20/20 [02:05<00:00,  6.25s/it]\n"
     ]
    },
    {
     "name": "stdout",
     "output_type": "stream",
     "text": [
      "[RESULT] Overall Accuracy : 0.91\n",
      "[INFO] Validation probability table is available as ['prob_table'] in response\n"
     ]
    }
   ],
   "source": [
    "import joblib\n",
    "from tqdm import tqdm\n",
    "from utilities import cv , get_score\n",
    "from sklearn.ensemble import GradientBoostingClassifier , RandomForestClassifier\n",
    "\n",
    "# {'max_depth': 30, 'n_estimators': 400} for MODE imputation\n",
    "# {'max_depth': 180, 'n_estimators': 400} for RF imputation\n",
    "for i in (range(5)):\n",
    "    print('-------------------------------------')\n",
    "    print(f'DOING {i}th Iteration')\n",
    "    rf = RandomForestClassifier(n_estimators=400 , max_depth=30 , n_jobs=-1 , random_state=np.random.randint(0,999999))\n",
    "    res_final  = cv(\n",
    "        {'data' : data , 'name' : f'data_10iter_rfimp_tuned'},   \n",
    "        {'model' : rf , 'name' :'GB'} , ## CHANGE HERE########################################################\n",
    "        k = 20 , return_dict = ret_dict, save_df= False , multiprocessing = False)\n",
    "    score = get_score([res_final['prob_table']])\n",
    "    joblib.dump(score , f'result/classifier_scores/rf_mode_{i}.pkl')\n",
    "    joblib.dump(score , f'result/prob_table/rf_mode_{i}.pkl' , compress=3)"
   ]
  },
  {
   "cell_type": "code",
   "execution_count": 100,
   "metadata": {},
   "outputs": [
    {
     "name": "stdout",
     "output_type": "stream",
     "text": [
      "-------------------------------------\n",
      "DOING 0th Iteration\n",
      "Doing 20 fold cross-validation\n",
      "[RESULT] Overall Accuracy : 0.92\n",
      "[INFO] Validation probability table is available as ['prob_table'] in response\n",
      "-------------------------------------\n",
      "DOING 1th Iteration\n",
      "Doing 20 fold cross-validation\n",
      "[RESULT] Overall Accuracy : 0.92\n",
      "[INFO] Validation probability table is available as ['prob_table'] in response\n",
      "-------------------------------------\n",
      "DOING 2th Iteration\n",
      "Doing 20 fold cross-validation\n",
      "[RESULT] Overall Accuracy : 0.92\n",
      "[INFO] Validation probability table is available as ['prob_table'] in response\n",
      "-------------------------------------\n",
      "DOING 3th Iteration\n",
      "Doing 20 fold cross-validation\n",
      "[RESULT] Overall Accuracy : 0.92\n",
      "[INFO] Validation probability table is available as ['prob_table'] in response\n",
      "-------------------------------------\n",
      "DOING 4th Iteration\n",
      "Doing 20 fold cross-validation\n",
      "[RESULT] Overall Accuracy : 0.92\n",
      "[INFO] Validation probability table is available as ['prob_table'] in response\n"
     ]
    }
   ],
   "source": [
    "import joblib\n",
    "from tqdm import tqdm\n",
    "from utilities import cv , get_score\n",
    "from sklearn.ensemble import GradientBoostingClassifier , RandomForestClassifier\n",
    "\n",
    "# {'max_depth': 30, 'n_estimators': 400} for MODE imputation\n",
    "# {'max_depth': 180, 'n_estimators': 400} for RF imputation\n",
    "for i in (range(5)):\n",
    "    print('-------------------------------------')\n",
    "    print(f'DOING {i}th Iteration')\n",
    "    # rf = RandomForestClassifier(n_estimators=400 , max_depth=30 , n_jobs=-1 , random_state=np.random.randint(0,999999))\n",
    "    gb = GradientBoostingClassifier(random_state=np.random.randint(0,999999))\n",
    "    res_final  = cv(\n",
    "        {'data' : data , 'name' : f'data_10iter_rfimp_tuned'},   \n",
    "        {'model' : gb, 'name' :'GB'} , ## CHANGE HERE########################################################\n",
    "        k = 20 , return_dict = ret_dict, save_df= False , multiprocessing = True)\n",
    "    score = get_score([res_final['prob_table']])\n",
    "    joblib.dump(score , f'result/classifier_scores/gb_mode_{i}.pkl')\n",
    "    joblib.dump(score , f'result/prob_table/gb_mode_{i}.pkl' , compress=3)"
   ]
  },
  {
   "cell_type": "code",
   "execution_count": 91,
   "metadata": {},
   "outputs": [],
   "source": [
    "def score_mean(file):\n",
    "    labels = ['AGN' ,'STAR' , 'YSO' , 'HMXB' , 'LMXB' , 'ULX' , 'CV' , 'PULSAR']\n",
    "    scores = ['precision' , 'recall' , 'f1_score']\n",
    "    all_feat = {\n",
    "        'AGN' : {\n",
    "            'precision' : [] , \n",
    "            'recall' : [],\n",
    "            'f1_score' : []\n",
    "        } ,\n",
    "        'YSO' :{\n",
    "            'precision' : [] , \n",
    "            'recall' : [],\n",
    "            'f1_score' : []\n",
    "        },\n",
    "        'STAR' :{\n",
    "            'precision' : [] , \n",
    "            'recall' : [],\n",
    "            'f1_score' : []\n",
    "        },\n",
    "        'HMXB' :{\n",
    "            'precision' : [] , \n",
    "            'recall' : [],\n",
    "            'f1_score' : []\n",
    "        },\n",
    "        'LMXB' :{\n",
    "            'precision' : [] , \n",
    "            'recall' : [],\n",
    "            'f1_score' : []\n",
    "        } , \n",
    "        'ULX' :{\n",
    "            'precision' : [] , \n",
    "            'recall' : [],\n",
    "            'f1_score' : []\n",
    "        },\n",
    "        'CV':{\n",
    "            'precision' : [] , \n",
    "            'recall' : [],\n",
    "            'f1_score' : []\n",
    "        },\n",
    "        'PULSAR' :{\n",
    "            'precision' : [] , \n",
    "            'recall' : [],\n",
    "            'f1_score' : []\n",
    "        }\n",
    "    }\n",
    "    for l in labels:\n",
    "        for i in range(5):\n",
    "            model = joblib.load(f'result/classifier_scores/{file}_{i}.pkl')\n",
    "            all_feat[l]['precision'].append(model['class_scores']['precision_score'][l])\n",
    "            all_feat[l]['recall'].append(model['class_scores']['recall_score'][l])\n",
    "            all_feat[l]['f1_score'].append(model['class_scores']['f1_score'][l])\n",
    "    all_mean = {}\n",
    "    for l in labels:\n",
    "        all_mean[l] = {}\n",
    "        for s in scores:\n",
    "            all_mean[l][s] = np.mean(all_feat[l][s])*100\n",
    "    all_std = {}\n",
    "    for l in labels:\n",
    "        all_std[l] = {}\n",
    "        for s in scores:\n",
    "            all_std[l][s] = np.std(all_feat[l][s])*100\n",
    "    mean_df = pd.DataFrame(all_mean)\n",
    "    std_df = pd.DataFrame(all_std)\n",
    "    return mean_df , std_df"
   ]
  },
  {
   "cell_type": "code",
   "execution_count": 97,
   "metadata": {},
   "outputs": [],
   "source": [
    "score = score_mean('gb_mode')"
   ]
  },
  {
   "cell_type": "code",
   "execution_count": 98,
   "metadata": {},
   "outputs": [
    {
     "data": {
      "text/html": [
       "<div>\n",
       "<style scoped>\n",
       "    .dataframe tbody tr th:only-of-type {\n",
       "        vertical-align: middle;\n",
       "    }\n",
       "\n",
       "    .dataframe tbody tr th {\n",
       "        vertical-align: top;\n",
       "    }\n",
       "\n",
       "    .dataframe thead th {\n",
       "        text-align: right;\n",
       "    }\n",
       "</style>\n",
       "<table border=\"1\" class=\"dataframe\">\n",
       "  <thead>\n",
       "    <tr style=\"text-align: right;\">\n",
       "      <th></th>\n",
       "      <th>precision</th>\n",
       "      <th>recall</th>\n",
       "      <th>f1_score</th>\n",
       "    </tr>\n",
       "  </thead>\n",
       "  <tbody>\n",
       "    <tr>\n",
       "      <th>AGN</th>\n",
       "      <td>95.264631</td>\n",
       "      <td>96.926931</td>\n",
       "      <td>96.088499</td>\n",
       "    </tr>\n",
       "    <tr>\n",
       "      <th>STAR</th>\n",
       "      <td>93.765180</td>\n",
       "      <td>95.189964</td>\n",
       "      <td>94.472156</td>\n",
       "    </tr>\n",
       "    <tr>\n",
       "      <th>YSO</th>\n",
       "      <td>90.668556</td>\n",
       "      <td>95.387293</td>\n",
       "      <td>92.967925</td>\n",
       "    </tr>\n",
       "    <tr>\n",
       "      <th>HMXB</th>\n",
       "      <td>89.124721</td>\n",
       "      <td>90.000000</td>\n",
       "      <td>89.558416</td>\n",
       "    </tr>\n",
       "    <tr>\n",
       "      <th>LMXB</th>\n",
       "      <td>92.513994</td>\n",
       "      <td>79.160839</td>\n",
       "      <td>85.311594</td>\n",
       "    </tr>\n",
       "    <tr>\n",
       "      <th>ULX</th>\n",
       "      <td>75.915068</td>\n",
       "      <td>59.336493</td>\n",
       "      <td>66.586785</td>\n",
       "    </tr>\n",
       "    <tr>\n",
       "      <th>CV</th>\n",
       "      <td>63.642046</td>\n",
       "      <td>48.915663</td>\n",
       "      <td>55.311027</td>\n",
       "    </tr>\n",
       "    <tr>\n",
       "      <th>PULSAR</th>\n",
       "      <td>38.565547</td>\n",
       "      <td>20.792079</td>\n",
       "      <td>26.987193</td>\n",
       "    </tr>\n",
       "  </tbody>\n",
       "</table>\n",
       "</div>"
      ],
      "text/plain": [
       "        precision     recall   f1_score\n",
       "AGN     95.264631  96.926931  96.088499\n",
       "STAR    93.765180  95.189964  94.472156\n",
       "YSO     90.668556  95.387293  92.967925\n",
       "HMXB    89.124721  90.000000  89.558416\n",
       "LMXB    92.513994  79.160839  85.311594\n",
       "ULX     75.915068  59.336493  66.586785\n",
       "CV      63.642046  48.915663  55.311027\n",
       "PULSAR  38.565547  20.792079  26.987193"
      ]
     },
     "execution_count": 98,
     "metadata": {},
     "output_type": "execute_result"
    }
   ],
   "source": [
    "score[0].T"
   ]
  },
  {
   "cell_type": "code",
   "execution_count": 99,
   "metadata": {},
   "outputs": [
    {
     "data": {
      "text/html": [
       "<div>\n",
       "<style scoped>\n",
       "    .dataframe tbody tr th:only-of-type {\n",
       "        vertical-align: middle;\n",
       "    }\n",
       "\n",
       "    .dataframe tbody tr th {\n",
       "        vertical-align: top;\n",
       "    }\n",
       "\n",
       "    .dataframe thead th {\n",
       "        text-align: right;\n",
       "    }\n",
       "</style>\n",
       "<table border=\"1\" class=\"dataframe\">\n",
       "  <thead>\n",
       "    <tr style=\"text-align: right;\">\n",
       "      <th></th>\n",
       "      <th>precision</th>\n",
       "      <th>recall</th>\n",
       "      <th>f1_score</th>\n",
       "    </tr>\n",
       "  </thead>\n",
       "  <tbody>\n",
       "    <tr>\n",
       "      <th>AGN</th>\n",
       "      <td>0.205249</td>\n",
       "      <td>0.104301</td>\n",
       "      <td>0.134160</td>\n",
       "    </tr>\n",
       "    <tr>\n",
       "      <th>STAR</th>\n",
       "      <td>0.159507</td>\n",
       "      <td>0.097238</td>\n",
       "      <td>0.115999</td>\n",
       "    </tr>\n",
       "    <tr>\n",
       "      <th>YSO</th>\n",
       "      <td>0.160266</td>\n",
       "      <td>0.258179</td>\n",
       "      <td>0.172223</td>\n",
       "    </tr>\n",
       "    <tr>\n",
       "      <th>HMXB</th>\n",
       "      <td>0.728563</td>\n",
       "      <td>0.196483</td>\n",
       "      <td>0.356804</td>\n",
       "    </tr>\n",
       "    <tr>\n",
       "      <th>LMXB</th>\n",
       "      <td>1.750823</td>\n",
       "      <td>0.279720</td>\n",
       "      <td>0.838017</td>\n",
       "    </tr>\n",
       "    <tr>\n",
       "      <th>ULX</th>\n",
       "      <td>1.342122</td>\n",
       "      <td>1.625254</td>\n",
       "      <td>0.982248</td>\n",
       "    </tr>\n",
       "    <tr>\n",
       "      <th>CV</th>\n",
       "      <td>1.205104</td>\n",
       "      <td>1.104235</td>\n",
       "      <td>1.060149</td>\n",
       "    </tr>\n",
       "    <tr>\n",
       "      <th>PULSAR</th>\n",
       "      <td>1.834673</td>\n",
       "      <td>0.885571</td>\n",
       "      <td>0.773063</td>\n",
       "    </tr>\n",
       "  </tbody>\n",
       "</table>\n",
       "</div>"
      ],
      "text/plain": [
       "        precision    recall  f1_score\n",
       "AGN      0.205249  0.104301  0.134160\n",
       "STAR     0.159507  0.097238  0.115999\n",
       "YSO      0.160266  0.258179  0.172223\n",
       "HMXB     0.728563  0.196483  0.356804\n",
       "LMXB     1.750823  0.279720  0.838017\n",
       "ULX      1.342122  1.625254  0.982248\n",
       "CV       1.205104  1.104235  1.060149\n",
       "PULSAR   1.834673  0.885571  0.773063"
      ]
     },
     "execution_count": 99,
     "metadata": {},
     "output_type": "execute_result"
    }
   ],
   "source": [
    "score[1].T"
   ]
  },
  {
   "cell_type": "code",
   "execution_count": 72,
   "metadata": {},
   "outputs": [
    {
     "data": {
      "text/html": [
       "<div>\n",
       "<style scoped>\n",
       "    .dataframe tbody tr th:only-of-type {\n",
       "        vertical-align: middle;\n",
       "    }\n",
       "\n",
       "    .dataframe tbody tr th {\n",
       "        vertical-align: top;\n",
       "    }\n",
       "\n",
       "    .dataframe thead th {\n",
       "        text-align: right;\n",
       "    }\n",
       "</style>\n",
       "<table border=\"1\" class=\"dataframe\">\n",
       "  <thead>\n",
       "    <tr style=\"text-align: right;\">\n",
       "      <th></th>\n",
       "      <th>AGN</th>\n",
       "      <th>STAR</th>\n",
       "      <th>YSO</th>\n",
       "      <th>HMXB</th>\n",
       "      <th>LMXB</th>\n",
       "      <th>ULX</th>\n",
       "      <th>CV</th>\n",
       "      <th>PULSAR</th>\n",
       "    </tr>\n",
       "  </thead>\n",
       "  <tbody>\n",
       "    <tr>\n",
       "      <th>precision</th>\n",
       "      <td>0.153113</td>\n",
       "      <td>0.156210</td>\n",
       "      <td>0.210555</td>\n",
       "      <td>0.315574</td>\n",
       "      <td>0.448078</td>\n",
       "      <td>0.889318</td>\n",
       "      <td>1.970650</td>\n",
       "      <td>2.410174</td>\n",
       "    </tr>\n",
       "    <tr>\n",
       "      <th>recall</th>\n",
       "      <td>0.159759</td>\n",
       "      <td>0.017559</td>\n",
       "      <td>0.170548</td>\n",
       "      <td>0.181346</td>\n",
       "      <td>0.342586</td>\n",
       "      <td>0.975889</td>\n",
       "      <td>0.851936</td>\n",
       "      <td>1.154644</td>\n",
       "    </tr>\n",
       "    <tr>\n",
       "      <th>f1_score</th>\n",
       "      <td>0.073306</td>\n",
       "      <td>0.080487</td>\n",
       "      <td>0.088599</td>\n",
       "      <td>0.189966</td>\n",
       "      <td>0.300596</td>\n",
       "      <td>0.856258</td>\n",
       "      <td>1.065672</td>\n",
       "      <td>1.421311</td>\n",
       "    </tr>\n",
       "  </tbody>\n",
       "</table>\n",
       "</div>"
      ],
      "text/plain": [
       "                AGN      STAR       YSO      HMXB      LMXB       ULX  \\\n",
       "precision  0.153113  0.156210  0.210555  0.315574  0.448078  0.889318   \n",
       "recall     0.159759  0.017559  0.170548  0.181346  0.342586  0.975889   \n",
       "f1_score   0.073306  0.080487  0.088599  0.189966  0.300596  0.856258   \n",
       "\n",
       "                 CV    PULSAR  \n",
       "precision  1.970650  2.410174  \n",
       "recall     0.851936  1.154644  \n",
       "f1_score   1.065672  1.421311  "
      ]
     },
     "execution_count": 72,
     "metadata": {},
     "output_type": "execute_result"
    }
   ],
   "source": [
    "score[1]"
   ]
  }
 ],
 "metadata": {
  "kernelspec": {
   "display_name": "Python 3.6.9 64-bit",
   "language": "python",
   "name": "python3"
  },
  "language_info": {
   "codemirror_mode": {
    "name": "ipython",
    "version": 3
   },
   "file_extension": ".py",
   "mimetype": "text/x-python",
   "name": "python",
   "nbconvert_exporter": "python",
   "pygments_lexer": "ipython3",
   "version": "3.6.9"
  },
  "orig_nbformat": 4,
  "vscode": {
   "interpreter": {
    "hash": "31f2aee4e71d21fbe5cf8b01ff0e069b9275f58929596ceb00d14d90e3e16cd6"
   }
  }
 },
 "nbformat": 4,
 "nbformat_minor": 2
}
