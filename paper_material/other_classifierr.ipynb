{
 "cells": [
  {
   "cell_type": "code",
   "execution_count": 1,
   "metadata": {},
   "outputs": [],
   "source": [
    "import pandas as pd\n",
    "import numpy as np \n",
    "from matplotlib import pyplot as plt \n",
    "from IPython.display import display\n",
    "from tqdm import tqdm_notebook\n",
    "import tqdm\n",
    "import seaborn as sns\n",
    "from choices import param_dict\n",
    "from sklearn.experimental import enable_iterative_imputer\n",
    "from sklearn.impute import  IterativeImputer \n",
    "from sklearn.impute import SimpleImputer , KNNImputer\n",
    "from sklearn.preprocessing import Normalizer\n",
    "from sklearn.ensemble import GradientBoostingClassifier\n",
    "sns.set(font_scale=1.3, rc={'axes.facecolor':'white', 'figure.facecolor':'white' , 'axes.grid':True} , style=\"whitegrid\")\n",
    "# \n",
    "import time \n",
    "tstart = time.time()\n",
    "feat_to_drop = param_dict['hardness']+param_dict['IRAC']"
   ]
  },
  {
   "cell_type": "code",
   "execution_count": 2,
   "metadata": {},
   "outputs": [],
   "source": [
    "\n",
    "from utilities import deets\n",
    "from choices import get_train_data , param_dict\n",
    "classes = ['AGN' ,'STAR' , 'YSO' ,  'CV' , 'LMXB' , 'HMXB' ,'ULX','PULSAR']\n",
    "flag = {\n",
    "    'conf_flag' : 0 , \n",
    "    'streak_src_flag' : 0 , \n",
    "    'extent_flag' : 0 , \n",
    "    'pileup_flag' : 0 , \n",
    "    }\n",
    "ret_dict= {\n",
    "    'clf': True,\n",
    " 'prob_table': True,\n",
    " 'acc': True,\n",
    " 'pr_score': True,\n",
    " 'precision': True,\n",
    " 'recall': True , \n",
    " 'roc_auc_score' : True\n",
    " }\n",
    "\n"
   ]
  },
  {
   "cell_type": "code",
   "execution_count": 6,
   "metadata": {},
   "outputs": [
    {
     "name": "stdout",
     "output_type": "stream",
     "text": [
      "_____________________________________________________\n",
      "------------------------------\n",
      "Number of Objects : 7703\n",
      "Number of Columns : 42\n",
      "_____________________________________________________\n",
      "Doing 20 fold cross-validation\n"
     ]
    },
    {
     "name": "stderr",
     "output_type": "stream",
     "text": [
      "100%|██████████| 20/20 [02:23<00:00,  7.15s/it]\n"
     ]
    },
    {
     "name": "stdout",
     "output_type": "stream",
     "text": [
      "[RESULT] Overall Accuracy : 0.91\n",
      "[INFO] Validation probability table is available as ['prob_table'] in response\n",
      ">>> Training the final classifier RandomForestClassifier(max_depth=30, n_estimators=400, n_jobs=-1)\n",
      "[DONE] Classifier is trained | acces via ['clf'] in the response\n"
     ]
    }
   ],
   "source": [
    "\n",
    "file = f'../compiled_data_v3/imputed_data_v2/x_phot_minmax_modeimp.csv'\n",
    "data = get_train_data(flags = flag, classes= classes , offset = 1, file=file)\n",
    "data = data.drop(columns = feat_to_drop)\n",
    "deets(data,0)\n",
    "\n",
    "from utilities import cv\n",
    "from sklearn.ensemble import GradientBoostingClassifier , RandomForestClassifier\n",
    "\n",
    "# {'max_depth': 30, 'n_estimators': 400} for MODE imputation\n",
    "# {'max_depth': 180, 'n_estimators': 400} for RF imputation\n",
    "rf = RandomForestClassifier(n_estimators=400 , max_depth=30 , n_jobs=-1)\n",
    "res_final  = cv(\n",
    "    {'data' : data , 'name' : f'data_10iter_rfimp_tuned'},   \n",
    "    {'model' : rf , 'name' :'GB'} , ## CHANGE HERE########################################################\n",
    "    k=20 , return_dict = ret_dict, save_df= f'' , multiprocessing = False)"
   ]
  },
  {
   "cell_type": "code",
   "execution_count": 9,
   "metadata": {},
   "outputs": [
    {
     "data": {
      "text/html": [
       "<div>\n",
       "<style scoped>\n",
       "    .dataframe tbody tr th:only-of-type {\n",
       "        vertical-align: middle;\n",
       "    }\n",
       "\n",
       "    .dataframe tbody tr th {\n",
       "        vertical-align: top;\n",
       "    }\n",
       "\n",
       "    .dataframe thead th {\n",
       "        text-align: right;\n",
       "    }\n",
       "</style>\n",
       "<table border=\"1\" class=\"dataframe\">\n",
       "  <thead>\n",
       "    <tr style=\"text-align: right;\">\n",
       "      <th></th>\n",
       "      <th>class</th>\n",
       "      <th>precision</th>\n",
       "      <th>recall</th>\n",
       "    </tr>\n",
       "  </thead>\n",
       "  <tbody>\n",
       "    <tr>\n",
       "      <th>0</th>\n",
       "      <td>HMXB</td>\n",
       "      <td>0.854278</td>\n",
       "      <td>0.804786</td>\n",
       "    </tr>\n",
       "    <tr>\n",
       "      <th>1</th>\n",
       "      <td>AGN</td>\n",
       "      <td>0.967432</td>\n",
       "      <td>0.942636</td>\n",
       "    </tr>\n",
       "    <tr>\n",
       "      <th>2</th>\n",
       "      <td>YSO</td>\n",
       "      <td>0.937337</td>\n",
       "      <td>0.898998</td>\n",
       "    </tr>\n",
       "    <tr>\n",
       "      <th>3</th>\n",
       "      <td>STAR</td>\n",
       "      <td>0.953405</td>\n",
       "      <td>0.938603</td>\n",
       "    </tr>\n",
       "    <tr>\n",
       "      <th>4</th>\n",
       "      <td>LMXB</td>\n",
       "      <td>0.741259</td>\n",
       "      <td>1.000000</td>\n",
       "    </tr>\n",
       "    <tr>\n",
       "      <th>5</th>\n",
       "      <td>ULX</td>\n",
       "      <td>0.540284</td>\n",
       "      <td>0.712500</td>\n",
       "    </tr>\n",
       "    <tr>\n",
       "      <th>6</th>\n",
       "      <td>CV</td>\n",
       "      <td>0.415663</td>\n",
       "      <td>0.644860</td>\n",
       "    </tr>\n",
       "    <tr>\n",
       "      <th>7</th>\n",
       "      <td>PULSAR</td>\n",
       "      <td>0.198020</td>\n",
       "      <td>0.434783</td>\n",
       "    </tr>\n",
       "  </tbody>\n",
       "</table>\n",
       "</div>"
      ],
      "text/plain": [
       "    class  precision    recall\n",
       "0    HMXB   0.854278  0.804786\n",
       "1     AGN   0.967432  0.942636\n",
       "2     YSO   0.937337  0.898998\n",
       "3    STAR   0.953405  0.938603\n",
       "4    LMXB   0.741259  1.000000\n",
       "5     ULX   0.540284  0.712500\n",
       "6      CV   0.415663  0.644860\n",
       "7  PULSAR   0.198020  0.434783"
      ]
     },
     "execution_count": 9,
     "metadata": {},
     "output_type": "execute_result"
    }
   ],
   "source": [
    "res_final['pr_score']"
   ]
  }
 ],
 "metadata": {
  "kernelspec": {
   "display_name": "Python 3.6.9 64-bit",
   "language": "python",
   "name": "python3"
  },
  "language_info": {
   "codemirror_mode": {
    "name": "ipython",
    "version": 3
   },
   "file_extension": ".py",
   "mimetype": "text/x-python",
   "name": "python",
   "nbconvert_exporter": "python",
   "pygments_lexer": "ipython3",
   "version": "3.6.9"
  },
  "orig_nbformat": 4,
  "vscode": {
   "interpreter": {
    "hash": "31f2aee4e71d21fbe5cf8b01ff0e069b9275f58929596ceb00d14d90e3e16cd6"
   }
  }
 },
 "nbformat": 4,
 "nbformat_minor": 2
}
