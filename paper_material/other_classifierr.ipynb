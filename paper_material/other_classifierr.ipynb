{
 "cells": [
  {
   "cell_type": "code",
   "execution_count": 1,
   "metadata": {},
   "outputs": [],
   "source": [
    "import pandas as pd\n",
    "import numpy as np \n",
    "from matplotlib import pyplot as plt \n",
    "from IPython.display import display\n",
    "from tqdm import tqdm_notebook\n",
    "import tqdm\n",
    "import seaborn as sns\n",
    "from choices import param_dict\n",
    "from sklearn.experimental import enable_iterative_imputer\n",
    "from sklearn.impute import  IterativeImputer \n",
    "from sklearn.impute import SimpleImputer , KNNImputer\n",
    "from sklearn.preprocessing import Normalizer\n",
    "from sklearn.ensemble import GradientBoostingClassifier\n",
    "sns.set(font_scale=1.3, rc={'axes.facecolor':'white', 'figure.facecolor':'white' , 'axes.grid':True} , style=\"whitegrid\")\n",
    "# \n",
    "import time \n",
    "tstart = time.time()\n",
    "feat_to_drop = param_dict['hardness']+param_dict['IRAC']"
   ]
  },
  {
   "cell_type": "code",
   "execution_count": 26,
   "metadata": {},
   "outputs": [],
   "source": [
    "\n",
    "from utilities import deets\n",
    "from choices import get_train_data , param_dict\n",
    "classes = ['AGN' ,'STAR' , 'YSO' ,  'CV' , 'LMXB' , 'HMXB' ,'ULX','PULSAR']\n",
    "flag = {\n",
    "    'conf_flag' : 0 , \n",
    "    'streak_src_flag' : 0 , \n",
    "    'extent_flag' : 0 , \n",
    "    'pileup_flag' : 0 , \n",
    "    }\n",
    "ret_dict= {\n",
    "    'clf': False,\n",
    " 'prob_table': True,\n",
    " 'acc': True,\n",
    " 'pr_score': True,\n",
    " 'precision': True,\n",
    " 'recall': True , \n",
    " 'roc_auc_score' : False\n",
    " }\n",
    "\n"
   ]
  },
  {
   "cell_type": "code",
   "execution_count": 14,
   "metadata": {},
   "outputs": [
    {
     "name": "stdout",
     "output_type": "stream",
     "text": [
      "_____________________________________________________\n",
      "------------------------------\n",
      "Number of Objects : 7703\n",
      "Number of Columns : 42\n",
      "_____________________________________________________\n"
     ]
    }
   ],
   "source": [
    "\n",
    "file = f'../compiled_data_v3/imputed_data_v2/x_phot_minmax_modeimp.csv'\n",
    "data = get_train_data(flags = flag, classes= classes , offset = 1, file=file)\n",
    "data = data.drop(columns = feat_to_drop)\n",
    "deets(data,0)\n"
   ]
  },
  {
   "cell_type": "code",
   "execution_count": 58,
   "metadata": {},
   "outputs": [
    {
     "name": "stdout",
     "output_type": "stream",
     "text": [
      "-------------------------------------\n",
      "DOING 0th Iteration\n",
      "Doing 20 fold cross-validation\n"
     ]
    },
    {
     "name": "stderr",
     "output_type": "stream",
     "text": [
      "100%|██████████| 20/20 [02:26<00:00,  7.34s/it]\n"
     ]
    },
    {
     "name": "stdout",
     "output_type": "stream",
     "text": [
      "[RESULT] Overall Accuracy : 0.91\n",
      "[INFO] Validation probability table is available as ['prob_table'] in response\n",
      "-------------------------------------\n",
      "DOING 1th Iteration\n",
      "Doing 20 fold cross-validation\n"
     ]
    },
    {
     "name": "stderr",
     "output_type": "stream",
     "text": [
      "100%|██████████| 20/20 [02:24<00:00,  7.25s/it]\n"
     ]
    },
    {
     "name": "stdout",
     "output_type": "stream",
     "text": [
      "[RESULT] Overall Accuracy : 0.91\n",
      "[INFO] Validation probability table is available as ['prob_table'] in response\n",
      "-------------------------------------\n",
      "DOING 2th Iteration\n",
      "Doing 20 fold cross-validation\n"
     ]
    },
    {
     "name": "stderr",
     "output_type": "stream",
     "text": [
      "100%|██████████| 20/20 [02:27<00:00,  7.37s/it]\n"
     ]
    },
    {
     "name": "stdout",
     "output_type": "stream",
     "text": [
      "[RESULT] Overall Accuracy : 0.91\n",
      "[INFO] Validation probability table is available as ['prob_table'] in response\n",
      "-------------------------------------\n",
      "DOING 3th Iteration\n",
      "Doing 20 fold cross-validation\n"
     ]
    },
    {
     "name": "stderr",
     "output_type": "stream",
     "text": [
      "100%|██████████| 20/20 [02:25<00:00,  7.28s/it]\n"
     ]
    },
    {
     "name": "stdout",
     "output_type": "stream",
     "text": [
      "[RESULT] Overall Accuracy : 0.91\n",
      "[INFO] Validation probability table is available as ['prob_table'] in response\n",
      "-------------------------------------\n",
      "DOING 4th Iteration\n",
      "Doing 20 fold cross-validation\n"
     ]
    },
    {
     "name": "stderr",
     "output_type": "stream",
     "text": [
      "100%|██████████| 20/20 [02:25<00:00,  7.25s/it]\n"
     ]
    },
    {
     "name": "stdout",
     "output_type": "stream",
     "text": [
      "[RESULT] Overall Accuracy : 0.91\n",
      "[INFO] Validation probability table is available as ['prob_table'] in response\n"
     ]
    }
   ],
   "source": [
    "import joblib\n",
    "from tqdm import tqdm\n",
    "from utilities import cv , get_score\n",
    "from sklearn.ensemble import GradientBoostingClassifier , RandomForestClassifier\n",
    "\n",
    "# {'max_depth': 30, 'n_estimators': 400} for MODE imputation\n",
    "# {'max_depth': 180, 'n_estimators': 400} for RF imputation\n",
    "for i in (range(5)):\n",
    "    print('-------------------------------------')\n",
    "    print(f'DOING {i}th Iteration')\n",
    "    rf = RandomForestClassifier(n_estimators=400 , max_depth=30 , n_jobs=-1 , random_state=np.random.randint(0,999999))\n",
    "    res_final  = cv(\n",
    "        {'data' : data , 'name' : f'data_10iter_rfimp_tuned'},   \n",
    "        {'model' : rf , 'name' :'GB'} , ## CHANGE HERE########################################################\n",
    "        k = 20 , return_dict = ret_dict, save_df= False , multiprocessing = False)\n",
    "    score = get_score([res_final['prob_table']])\n",
    "    joblib.dump(score , f'result/classifier_scores/rf_mode_{i}.pkl')\n",
    "    joblib.dump(score , f'result/prob_table/rf_mode_{i}.pkl' , compress=3)"
   ]
  },
  {
   "cell_type": "code",
   "execution_count": 69,
   "metadata": {},
   "outputs": [],
   "source": [
    "def score_mean(file):\n",
    "    labels = ['AGN' ,'STAR' , 'YSO' , 'HMXB' , 'LMXB' , 'ULX' , 'CV' , 'PULSAR']\n",
    "    scores = ['precision' , 'recall' , 'f1_score']\n",
    "    all_feat = {\n",
    "        'AGN' : {\n",
    "            'precision' : [] , \n",
    "            'recall' : [],\n",
    "            'f1_score' : []\n",
    "        } ,\n",
    "        'YSO' :{\n",
    "            'precision' : [] , \n",
    "            'recall' : [],\n",
    "            'f1_score' : []\n",
    "        },\n",
    "        'STAR' :{\n",
    "            'precision' : [] , \n",
    "            'recall' : [],\n",
    "            'f1_score' : []\n",
    "        },\n",
    "        'HMXB' :{\n",
    "            'precision' : [] , \n",
    "            'recall' : [],\n",
    "            'f1_score' : []\n",
    "        },\n",
    "        'LMXB' :{\n",
    "            'precision' : [] , \n",
    "            'recall' : [],\n",
    "            'f1_score' : []\n",
    "        } , \n",
    "        'ULX' :{\n",
    "            'precision' : [] , \n",
    "            'recall' : [],\n",
    "            'f1_score' : []\n",
    "        },\n",
    "        'CV':{\n",
    "            'precision' : [] , \n",
    "            'recall' : [],\n",
    "            'f1_score' : []\n",
    "        },\n",
    "        'PULSAR' :{\n",
    "            'precision' : [] , \n",
    "            'recall' : [],\n",
    "            'f1_score' : []\n",
    "        }\n",
    "    }\n",
    "    for l in labels:\n",
    "        for i in range(5):\n",
    "            model = joblib.load(f'result/classifier_scores/{file}_{i}.pkl')\n",
    "            all_feat[l]['precision'].append(model['class_scores']['precision_score'][l])\n",
    "            all_feat[l]['recall'].append(model['class_scores']['recall_score'][l])\n",
    "            all_feat[l]['f1_score'].append(model['class_scores']['f1_score'][l])\n",
    "    all_mean = {}\n",
    "    for l in labels:\n",
    "        all_mean[l] = {}\n",
    "        for s in scores:\n",
    "            all_mean[l][s] = np.mean(all_feat[l][s])*100\n",
    "    all_std = {}\n",
    "    for l in labels:\n",
    "        all_std[l] = {}\n",
    "        for s in scores:\n",
    "            all_std[l][s] = np.std(all_feat[l][s])*100\n",
    "    mean_df = pd.DataFrame(all_mean)\n",
    "    std_df = pd.DataFrame(all_std)\n",
    "    return mean_df , std_df"
   ]
  },
  {
   "cell_type": "code",
   "execution_count": 70,
   "metadata": {},
   "outputs": [],
   "source": [
    "score = score_mean('rf_mode')"
   ]
  },
  {
   "cell_type": "code",
   "execution_count": 71,
   "metadata": {},
   "outputs": [
    {
     "data": {
      "text/html": [
       "<div>\n",
       "<style scoped>\n",
       "    .dataframe tbody tr th:only-of-type {\n",
       "        vertical-align: middle;\n",
       "    }\n",
       "\n",
       "    .dataframe tbody tr th {\n",
       "        vertical-align: top;\n",
       "    }\n",
       "\n",
       "    .dataframe thead th {\n",
       "        text-align: right;\n",
       "    }\n",
       "</style>\n",
       "<table border=\"1\" class=\"dataframe\">\n",
       "  <thead>\n",
       "    <tr style=\"text-align: right;\">\n",
       "      <th></th>\n",
       "      <th>AGN</th>\n",
       "      <th>STAR</th>\n",
       "      <th>YSO</th>\n",
       "      <th>HMXB</th>\n",
       "      <th>LMXB</th>\n",
       "      <th>ULX</th>\n",
       "      <th>CV</th>\n",
       "      <th>PULSAR</th>\n",
       "    </tr>\n",
       "  </thead>\n",
       "  <tbody>\n",
       "    <tr>\n",
       "      <th>precision</th>\n",
       "      <td>94.249617</td>\n",
       "      <td>93.877233</td>\n",
       "      <td>90.200723</td>\n",
       "      <td>80.413590</td>\n",
       "      <td>98.705371</td>\n",
       "      <td>69.668572</td>\n",
       "      <td>66.965003</td>\n",
       "      <td>45.920965</td>\n",
       "    </tr>\n",
       "    <tr>\n",
       "      <th>recall</th>\n",
       "      <td>96.759916</td>\n",
       "      <td>95.397849</td>\n",
       "      <td>94.203655</td>\n",
       "      <td>85.508021</td>\n",
       "      <td>74.545455</td>\n",
       "      <td>51.374408</td>\n",
       "      <td>40.963855</td>\n",
       "      <td>21.980198</td>\n",
       "    </tr>\n",
       "    <tr>\n",
       "      <th>f1_score</th>\n",
       "      <td>95.488072</td>\n",
       "      <td>94.631368</td>\n",
       "      <td>92.158424</td>\n",
       "      <td>82.882194</td>\n",
       "      <td>84.940143</td>\n",
       "      <td>59.135056</td>\n",
       "      <td>50.824630</td>\n",
       "      <td>29.715399</td>\n",
       "    </tr>\n",
       "  </tbody>\n",
       "</table>\n",
       "</div>"
      ],
      "text/plain": [
       "                 AGN       STAR        YSO       HMXB       LMXB        ULX  \\\n",
       "precision  94.249617  93.877233  90.200723  80.413590  98.705371  69.668572   \n",
       "recall     96.759916  95.397849  94.203655  85.508021  74.545455  51.374408   \n",
       "f1_score   95.488072  94.631368  92.158424  82.882194  84.940143  59.135056   \n",
       "\n",
       "                  CV     PULSAR  \n",
       "precision  66.965003  45.920965  \n",
       "recall     40.963855  21.980198  \n",
       "f1_score   50.824630  29.715399  "
      ]
     },
     "execution_count": 71,
     "metadata": {},
     "output_type": "execute_result"
    }
   ],
   "source": [
    "score[0]"
   ]
  },
  {
   "cell_type": "code",
   "execution_count": 72,
   "metadata": {},
   "outputs": [
    {
     "data": {
      "text/html": [
       "<div>\n",
       "<style scoped>\n",
       "    .dataframe tbody tr th:only-of-type {\n",
       "        vertical-align: middle;\n",
       "    }\n",
       "\n",
       "    .dataframe tbody tr th {\n",
       "        vertical-align: top;\n",
       "    }\n",
       "\n",
       "    .dataframe thead th {\n",
       "        text-align: right;\n",
       "    }\n",
       "</style>\n",
       "<table border=\"1\" class=\"dataframe\">\n",
       "  <thead>\n",
       "    <tr style=\"text-align: right;\">\n",
       "      <th></th>\n",
       "      <th>AGN</th>\n",
       "      <th>STAR</th>\n",
       "      <th>YSO</th>\n",
       "      <th>HMXB</th>\n",
       "      <th>LMXB</th>\n",
       "      <th>ULX</th>\n",
       "      <th>CV</th>\n",
       "      <th>PULSAR</th>\n",
       "    </tr>\n",
       "  </thead>\n",
       "  <tbody>\n",
       "    <tr>\n",
       "      <th>precision</th>\n",
       "      <td>0.153113</td>\n",
       "      <td>0.156210</td>\n",
       "      <td>0.210555</td>\n",
       "      <td>0.315574</td>\n",
       "      <td>0.448078</td>\n",
       "      <td>0.889318</td>\n",
       "      <td>1.970650</td>\n",
       "      <td>2.410174</td>\n",
       "    </tr>\n",
       "    <tr>\n",
       "      <th>recall</th>\n",
       "      <td>0.159759</td>\n",
       "      <td>0.017559</td>\n",
       "      <td>0.170548</td>\n",
       "      <td>0.181346</td>\n",
       "      <td>0.342586</td>\n",
       "      <td>0.975889</td>\n",
       "      <td>0.851936</td>\n",
       "      <td>1.154644</td>\n",
       "    </tr>\n",
       "    <tr>\n",
       "      <th>f1_score</th>\n",
       "      <td>0.073306</td>\n",
       "      <td>0.080487</td>\n",
       "      <td>0.088599</td>\n",
       "      <td>0.189966</td>\n",
       "      <td>0.300596</td>\n",
       "      <td>0.856258</td>\n",
       "      <td>1.065672</td>\n",
       "      <td>1.421311</td>\n",
       "    </tr>\n",
       "  </tbody>\n",
       "</table>\n",
       "</div>"
      ],
      "text/plain": [
       "                AGN      STAR       YSO      HMXB      LMXB       ULX  \\\n",
       "precision  0.153113  0.156210  0.210555  0.315574  0.448078  0.889318   \n",
       "recall     0.159759  0.017559  0.170548  0.181346  0.342586  0.975889   \n",
       "f1_score   0.073306  0.080487  0.088599  0.189966  0.300596  0.856258   \n",
       "\n",
       "                 CV    PULSAR  \n",
       "precision  1.970650  2.410174  \n",
       "recall     0.851936  1.154644  \n",
       "f1_score   1.065672  1.421311  "
      ]
     },
     "execution_count": 72,
     "metadata": {},
     "output_type": "execute_result"
    }
   ],
   "source": [
    "score[1]"
   ]
  }
 ],
 "metadata": {
  "kernelspec": {
   "display_name": "Python 3.6.9 64-bit",
   "language": "python",
   "name": "python3"
  },
  "language_info": {
   "codemirror_mode": {
    "name": "ipython",
    "version": 3
   },
   "file_extension": ".py",
   "mimetype": "text/x-python",
   "name": "python",
   "nbconvert_exporter": "python",
   "pygments_lexer": "ipython3",
   "version": "3.6.9"
  },
  "orig_nbformat": 4,
  "vscode": {
   "interpreter": {
    "hash": "31f2aee4e71d21fbe5cf8b01ff0e069b9275f58929596ceb00d14d90e3e16cd6"
   }
  }
 },
 "nbformat": 4,
 "nbformat_minor": 2
}
