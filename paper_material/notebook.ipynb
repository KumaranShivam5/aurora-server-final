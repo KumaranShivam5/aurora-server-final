{
 "cells": [
  {
   "cell_type": "markdown",
   "metadata": {},
   "source": [
    "# Result Anaysis"
   ]
  },
  {
   "cell_type": "markdown",
   "metadata": {},
   "source": [
    "## Import "
   ]
  },
  {
   "cell_type": "code",
   "execution_count": 1,
   "metadata": {},
   "outputs": [],
   "source": [
    "import pandas as pd \n",
    "from matplotlib import pyplot as plt \n",
    "import seaborn as sns \n",
    "%load_ext autoreload\n",
    "%autoreload 2"
   ]
  },
  {
   "cell_type": "markdown",
   "metadata": {},
   "source": [
    "## Load Data"
   ]
  },
  {
   "cell_type": "code",
   "execution_count": 2,
   "metadata": {},
   "outputs": [
    {
     "data": {
      "text/html": [
       "<div>\n",
       "<style scoped>\n",
       "    .dataframe tbody tr th:only-of-type {\n",
       "        vertical-align: middle;\n",
       "    }\n",
       "\n",
       "    .dataframe tbody tr th {\n",
       "        vertical-align: top;\n",
       "    }\n",
       "\n",
       "    .dataframe thead th {\n",
       "        text-align: right;\n",
       "    }\n",
       "</style>\n",
       "<table border=\"1\" class=\"dataframe\">\n",
       "  <thead>\n",
       "    <tr style=\"text-align: right;\">\n",
       "      <th></th>\n",
       "      <th>ra</th>\n",
       "      <th>dec</th>\n",
       "      <th>class</th>\n",
       "      <th>prob</th>\n",
       "      <th>prob_margin</th>\n",
       "    </tr>\n",
       "    <tr>\n",
       "      <th>name</th>\n",
       "      <th></th>\n",
       "      <th></th>\n",
       "      <th></th>\n",
       "      <th></th>\n",
       "      <th></th>\n",
       "    </tr>\n",
       "  </thead>\n",
       "  <tbody>\n",
       "    <tr>\n",
       "      <th>2CXO J003935.9-732725</th>\n",
       "      <td>9.899767</td>\n",
       "      <td>-73.457136</td>\n",
       "      <td>STAR</td>\n",
       "      <td>0.777433</td>\n",
       "      <td>0.638933</td>\n",
       "    </tr>\n",
       "    <tr>\n",
       "      <th>2CXO J003936.7-731249</th>\n",
       "      <td>9.903193</td>\n",
       "      <td>-73.213742</td>\n",
       "      <td>PULSAR</td>\n",
       "      <td>0.608646</td>\n",
       "      <td>0.451597</td>\n",
       "    </tr>\n",
       "    <tr>\n",
       "      <th>2CXO J004028.7-731106</th>\n",
       "      <td>10.119748</td>\n",
       "      <td>-73.185171</td>\n",
       "      <td>AGN</td>\n",
       "      <td>0.446212</td>\n",
       "      <td>0.092019</td>\n",
       "    </tr>\n",
       "    <tr>\n",
       "      <th>2CXO J004506.3-730056</th>\n",
       "      <td>11.276413</td>\n",
       "      <td>-73.015666</td>\n",
       "      <td>PULSAR</td>\n",
       "      <td>0.598368</td>\n",
       "      <td>0.283901</td>\n",
       "    </tr>\n",
       "    <tr>\n",
       "      <th>2CXO J004659.0-731918</th>\n",
       "      <td>11.745895</td>\n",
       "      <td>-73.321890</td>\n",
       "      <td>STAR</td>\n",
       "      <td>0.821817</td>\n",
       "      <td>0.718309</td>\n",
       "    </tr>\n",
       "    <tr>\n",
       "      <th>...</th>\n",
       "      <td>...</td>\n",
       "      <td>...</td>\n",
       "      <td>...</td>\n",
       "      <td>...</td>\n",
       "      <td>...</td>\n",
       "    </tr>\n",
       "    <tr>\n",
       "      <th>2CXO J220433.1-495916</th>\n",
       "      <td>331.138121</td>\n",
       "      <td>-49.987838</td>\n",
       "      <td>HMXB</td>\n",
       "      <td>0.671695</td>\n",
       "      <td>0.438401</td>\n",
       "    </tr>\n",
       "    <tr>\n",
       "      <th>2CXO J220508.3-495935</th>\n",
       "      <td>331.284642</td>\n",
       "      <td>-49.993301</td>\n",
       "      <td>HMXB</td>\n",
       "      <td>0.913425</td>\n",
       "      <td>0.850303</td>\n",
       "    </tr>\n",
       "    <tr>\n",
       "      <th>2CXO J220544.0-495505</th>\n",
       "      <td>331.433541</td>\n",
       "      <td>-49.918280</td>\n",
       "      <td>HMXB</td>\n",
       "      <td>0.801407</td>\n",
       "      <td>0.710030</td>\n",
       "    </tr>\n",
       "    <tr>\n",
       "      <th>2CXO J220555.6-500837</th>\n",
       "      <td>331.481942</td>\n",
       "      <td>-50.143735</td>\n",
       "      <td>HMXB</td>\n",
       "      <td>0.926816</td>\n",
       "      <td>0.864189</td>\n",
       "    </tr>\n",
       "    <tr>\n",
       "      <th>2CXO J220603.1-500911</th>\n",
       "      <td>331.513060</td>\n",
       "      <td>-50.153192</td>\n",
       "      <td>STAR</td>\n",
       "      <td>0.985432</td>\n",
       "      <td>0.971931</td>\n",
       "    </tr>\n",
       "  </tbody>\n",
       "</table>\n",
       "<p>269366 rows × 5 columns</p>\n",
       "</div>"
      ],
      "text/plain": [
       "                               ra        dec   class      prob  prob_margin\n",
       "name                                                                       \n",
       "2CXO J003935.9-732725    9.899767 -73.457136    STAR  0.777433     0.638933\n",
       "2CXO J003936.7-731249    9.903193 -73.213742  PULSAR  0.608646     0.451597\n",
       "2CXO J004028.7-731106   10.119748 -73.185171     AGN  0.446212     0.092019\n",
       "2CXO J004506.3-730056   11.276413 -73.015666  PULSAR  0.598368     0.283901\n",
       "2CXO J004659.0-731918   11.745895 -73.321890    STAR  0.821817     0.718309\n",
       "...                           ...        ...     ...       ...          ...\n",
       "2CXO J220433.1-495916  331.138121 -49.987838    HMXB  0.671695     0.438401\n",
       "2CXO J220508.3-495935  331.284642 -49.993301    HMXB  0.913425     0.850303\n",
       "2CXO J220544.0-495505  331.433541 -49.918280    HMXB  0.801407     0.710030\n",
       "2CXO J220555.6-500837  331.481942 -50.143735    HMXB  0.926816     0.864189\n",
       "2CXO J220603.1-500911  331.513060 -50.153192    STAR  0.985432     0.971931\n",
       "\n",
       "[269366 rows x 5 columns]"
      ]
     },
     "execution_count": 2,
     "metadata": {},
     "output_type": "execute_result"
    }
   ],
   "source": [
    "df = pd.read_csv(\n",
    "    '../../not_on_git/final_classification/all_classified.csv' , \n",
    "    usecols=['name'  , 'ra' ,'dec' ,'prob', 'class' , 'prob_margin' ] , \n",
    "    index_col='name')\n",
    "df "
   ]
  },
  {
   "cell_type": "markdown",
   "metadata": {},
   "source": [
    "## Result data analysis"
   ]
  },
  {
   "cell_type": "code",
   "execution_count": 3,
   "metadata": {},
   "outputs": [],
   "source": [
    "from utilities import deets"
   ]
  },
  {
   "cell_type": "code",
   "execution_count": 9,
   "metadata": {},
   "outputs": [
    {
     "data": {
      "image/png": "[encoded data removed]",
      "text/plain": [
       "<Figure size 1152x576 with 8 Axes>"
      ]
     },
     "metadata": {
      "needs_background": "light"
     },
     "output_type": "display_data"
    }
   ],
   "source": [
    "fig,ax = plt.subplots(nrows=2 , ncols=4 , figsize=(16,8))\n",
    "for c , a in zip(df['class'].to_list() , ax.ravel()):\n",
    "    a.hist(df[df['class']==c]['prob'] ,  density =True , label = c)\n",
    "    a.legend()\n",
    "plt.show()\n"
   ]
  }
 ],
 "metadata": {
  "interpreter": {
   "hash": "31f2aee4e71d21fbe5cf8b01ff0e069b9275f58929596ceb00d14d90e3e16cd6"
  },
  "kernelspec": {
   "display_name": "Python 3.6.9 64-bit",
   "language": "python",
   "name": "python3"
  },
  "language_info": {
   "codemirror_mode": {
    "name": "ipython",
    "version": 3
   },
   "file_extension": ".py",
   "mimetype": "text/x-python",
   "name": "python",
   "nbconvert_exporter": "python",
   "pygments_lexer": "ipython3",
   "version": "3.6.9"
  },
  "orig_nbformat": 4
 },
 "nbformat": 4,
 "nbformat_minor": 2
}
