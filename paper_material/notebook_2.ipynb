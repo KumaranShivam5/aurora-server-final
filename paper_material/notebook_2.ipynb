{
 "cells": [
  {
   "cell_type": "code",
   "execution_count": 1,
   "metadata": {},
   "outputs": [],
   "source": [
    "import pandas as pd \n",
    "from matplotlib import pyplot as plt \n",
    "import numpy as np "
   ]
  },
  {
   "cell_type": "code",
   "execution_count": 5,
   "metadata": {},
   "outputs": [],
   "source": [
    "from utilities import make_model\n",
    "class feat_test_mdoel(make_model):\n",
    "    def __init__(self , name , clf , gamma ,x ,y , train_data_loc):\n",
    "        self.features = x.columns.to_list() \n",
    "        self.train_data_loc = train_data_loc\n",
    "        make_model.__init__(self , name , clf , gamma , x ,y)"
   ]
  },
  {
   "cell_type": "code",
   "execution_count": null,
   "metadata": {},
   "outputs": [],
   "source": [
    "labels = ['AGN' , 'STAR' , 'YSO' , 'HMXB' , 'LMXB' , 'ULX' , 'CV' , 'PULSAR']\n",
    "scores = ['precision' , 'recall' , 'f1_score']\n",
    "models = ['all_feat_v1_0' ,'no_color_0' , 'no_gal_coord_0' , 'no_IR_0' , 'no_mw_0' , 'no_optical_uv_0' ]\n",
    "for m in models:\n",
    "    model = joblib.load('models/no_color_0.pkl')"
   ]
  },
  {
   "cell_type": "code",
   "execution_count": 2,
   "metadata": {},
   "outputs": [],
   "source": [
    "labels = ['AGN' , 'STAR' , 'YSO' , 'HMXB' , 'LMXB' , 'ULX' , 'CV' , 'PULSAR']\n",
    "scores = ['rep']"
   ]
  },
  {
   "cell_type": "code",
   "execution_count": 44,
   "metadata": {},
   "outputs": [],
   "source": [
    "import joblib \n",
    "model = joblib.load('models/all_feat_v1_0.pkl')\n",
    "model.result['class_scores'].loc[labels].to_csv('temp.csv')"
   ]
  },
  {
   "cell_type": "code",
   "execution_count": 30,
   "metadata": {},
   "outputs": [
    {
     "data": {
      "text/plain": [
       "[0.9587843463780183,\n",
       " 0.9587843463780183,\n",
       " 0.9587843463780183,\n",
       " 0.9587843463780183,\n",
       " 0.9587843463780183]"
      ]
     },
     "execution_count": 30,
     "metadata": {},
     "output_type": "execute_result"
    }
   ],
   "source": [
    "all_feat = {\n",
    "    'AGN' : {\n",
    "        'precision' : [] , \n",
    "        'recall' : [],\n",
    "        'f1' : []\n",
    "    }\n",
    "}\n",
    "for i in range(5):\n",
    "    model = joblib.load('models/no_optical_uv_0.pkl')\n",
    "    all_feat['AGN']['precision'].append(model.result['class_scores']['precision_score']['AGN'])\n",
    "    all_feat['AGN']['recall'].append(model.result['class_scores']['recall_score']['AGN'])\n",
    "    all_feat['AGN']['f1'].append(model.result['class_scores']['f1_score']['AGN'])\n",
    "(all_feat['AGN']['precision'])"
   ]
  }
 ],
 "metadata": {
  "kernelspec": {
   "display_name": "Python 3.6.9 64-bit",
   "language": "python",
   "name": "python3"
  },
  "language_info": {
   "codemirror_mode": {
    "name": "ipython",
    "version": 3
   },
   "file_extension": ".py",
   "mimetype": "text/x-python",
   "name": "python",
   "nbconvert_exporter": "python",
   "pygments_lexer": "ipython3",
   "version": "3.6.9"
  },
  "orig_nbformat": 4,
  "vscode": {
   "interpreter": {
    "hash": "31f2aee4e71d21fbe5cf8b01ff0e069b9275f58929596ceb00d14d90e3e16cd6"
   }
  }
 },
 "nbformat": 4,
 "nbformat_minor": 2
}
