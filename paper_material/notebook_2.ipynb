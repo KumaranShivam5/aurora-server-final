{
 "cells": [
  {
   "cell_type": "code",
   "execution_count": 1,
   "metadata": {},
   "outputs": [],
   "source": [
    "import pandas as pd \n",
    "from matplotlib import pyplot as plt \n",
    "import numpy as np "
   ]
  },
  {
   "cell_type": "code",
   "execution_count": 2,
   "metadata": {},
   "outputs": [],
   "source": [
    "from utilities import make_model\n",
    "class feat_test_mdoel(make_model):\n",
    "    def __init__(self , name , clf , gamma ,x ,y , train_data_loc):\n",
    "        self.features = x.columns.to_list() \n",
    "        self.train_data_loc = train_data_loc\n",
    "        make_model.__init__(self , name , clf , gamma , x ,y)"
   ]
  },
  {
   "cell_type": "code",
   "execution_count": 3,
   "metadata": {},
   "outputs": [
    {
     "ename": "NameError",
     "evalue": "name 'joblib' is not defined",
     "output_type": "error",
     "traceback": [
      "\u001b[0;31m---------------------------------------------------------------------------\u001b[0m",
      "\u001b[0;31mNameError\u001b[0m                                 Traceback (most recent call last)",
      "\u001b[0;32m<ipython-input-3-01b0a67bc7b7>\u001b[0m in \u001b[0;36m<module>\u001b[0;34m\u001b[0m\n\u001b[1;32m      3\u001b[0m \u001b[0mmodels\u001b[0m \u001b[0;34m=\u001b[0m \u001b[0;34m[\u001b[0m\u001b[0;34m'all_feat_v1_0'\u001b[0m \u001b[0;34m,\u001b[0m\u001b[0;34m'no_color_0'\u001b[0m \u001b[0;34m,\u001b[0m \u001b[0;34m'no_gal_coord_0'\u001b[0m \u001b[0;34m,\u001b[0m \u001b[0;34m'no_IR_0'\u001b[0m \u001b[0;34m,\u001b[0m \u001b[0;34m'no_mw_0'\u001b[0m \u001b[0;34m,\u001b[0m \u001b[0;34m'no_optical_uv_0'\u001b[0m \u001b[0;34m]\u001b[0m\u001b[0;34m\u001b[0m\u001b[0;34m\u001b[0m\u001b[0m\n\u001b[1;32m      4\u001b[0m \u001b[0;32mfor\u001b[0m \u001b[0mm\u001b[0m \u001b[0;32min\u001b[0m \u001b[0mmodels\u001b[0m\u001b[0;34m:\u001b[0m\u001b[0;34m\u001b[0m\u001b[0;34m\u001b[0m\u001b[0m\n\u001b[0;32m----> 5\u001b[0;31m     \u001b[0mmodel\u001b[0m \u001b[0;34m=\u001b[0m \u001b[0mjoblib\u001b[0m\u001b[0;34m.\u001b[0m\u001b[0mload\u001b[0m\u001b[0;34m(\u001b[0m\u001b[0;34m'models/no_color_0.pkl'\u001b[0m\u001b[0;34m)\u001b[0m\u001b[0;34m\u001b[0m\u001b[0;34m\u001b[0m\u001b[0m\n\u001b[0m",
      "\u001b[0;31mNameError\u001b[0m: name 'joblib' is not defined"
     ]
    }
   ],
   "source": [
    "labels = ['AGN' , 'STAR' , 'YSO' , 'HMXB' , 'LMXB' , 'ULX' , 'CV' , 'PULSAR']\n",
    "scores = ['precision' , 'recall' , 'f1_score']\n",
    "models = ['all_feat_v1_0' ,'no_color_0' , 'no_gal_coord_0' , 'no_IR_0' , 'no_mw_0' , 'no_optical_uv_0' ]\n",
    "for m in models:\n",
    "    model = joblib.load('models/no_color_0.pkl')"
   ]
  },
  {
   "cell_type": "code",
   "execution_count": 2,
   "metadata": {},
   "outputs": [],
   "source": [
    "labels = ['AGN' , 'STAR' , 'YSO' , 'HMXB' , 'LMXB' , 'ULX' , 'CV' , 'PULSAR']\n",
    "scores = ['rep']"
   ]
  },
  {
   "cell_type": "code",
   "execution_count": 4,
   "metadata": {},
   "outputs": [],
   "source": [
    "import joblib \n",
    "model = joblib.load('models/all_feat_v1_0.pkl')\n",
    "model.result['class_scores'].loc[labels].to_csv('temp.csv')"
   ]
  },
  {
   "cell_type": "code",
   "execution_count": 15,
   "metadata": {},
   "outputs": [],
   "source": [
    "all_feat = {\n",
    "    'AGN' : {\n",
    "        'precision' : [] , \n",
    "        'recall' : [],\n",
    "        'f1_score' : []\n",
    "    } ,\n",
    "    'YSO' :{\n",
    "        'precision' : [] , \n",
    "        'recall' : [],\n",
    "        'f1_score' : []\n",
    "    },\n",
    "    'STAR' :{\n",
    "        'precision' : [] , \n",
    "        'recall' : [],\n",
    "        'f1_score' : []\n",
    "    },\n",
    "    'HMXB' :{\n",
    "        'precision' : [] , \n",
    "        'recall' : [],\n",
    "        'f1_score' : []\n",
    "    },\n",
    "    'LMXB' :{\n",
    "        'precision' : [] , \n",
    "        'recall' : [],\n",
    "        'f1_score' : []\n",
    "    } , \n",
    "    'ULX' :{\n",
    "        'precision' : [] , \n",
    "        'recall' : [],\n",
    "        'f1_score' : []\n",
    "    },\n",
    "    'CV':{\n",
    "        'precision' : [] , \n",
    "        'recall' : [],\n",
    "        'f1_score' : []\n",
    "    },\n",
    "    'PULSAR' :{\n",
    "        'precision' : [] , \n",
    "        'recall' : [],\n",
    "        'f1_score' : []\n",
    "    }\n",
    "}\n",
    "for i in range(5):\n",
    "    model = joblib.load(f'models/no_optical_uv_{i}.pkl')\n",
    "    all_feat['AGN']['precision'].append(model.result['class_scores']['precision_score']['AGN'])\n",
    "    all_feat['AGN']['recall'].append(model.result['class_scores']['recall_score']['AGN'])\n",
    "    all_feat['AGN']['f1_score'].append(model.result['class_scores']['f1_score']['AGN'])"
   ]
  },
  {
   "cell_type": "code",
   "execution_count": 16,
   "metadata": {},
   "outputs": [
    {
     "name": "stderr",
     "output_type": "stream",
     "text": [
      "/home/kumaran/.local/lib/python3.6/site-packages/numpy/core/fromnumeric.py:3373: RuntimeWarning: Mean of empty slice.\n",
      "  out=out, **kwargs)\n",
      "/home/kumaran/.local/lib/python3.6/site-packages/numpy/core/_methods.py:170: RuntimeWarning: invalid value encountered in double_scalars\n",
      "  ret = ret.dtype.type(ret / rcount)\n"
     ]
    },
    {
     "data": {
      "text/plain": [
       "{'AGN': {'f1_score': 0.9626410544584327},\n",
       " 'STAR': {'f1_score': nan},\n",
       " 'YSO': {'f1_score': nan},\n",
       " 'HMXB': {'f1_score': nan},\n",
       " 'LMXB': {'f1_score': nan},\n",
       " 'ULX': {'f1_score': nan},\n",
       " 'CV': {'f1_score': nan},\n",
       " 'PULSAR': {'f1_score': nan}}"
      ]
     },
     "execution_count": 16,
     "metadata": {},
     "output_type": "execute_result"
    }
   ],
   "source": [
    "all_mean = {}\n",
    "for l in labels:\n",
    "    for s in scores:\n",
    "        all_mean[l] = {}\n",
    "        all_mean[l][s] = np.mean(all_feat[l][s])\n",
    "all_mean"
   ]
  }
 ],
 "metadata": {
  "kernelspec": {
   "display_name": "Python 3.6.9 64-bit",
   "language": "python",
   "name": "python3"
  },
  "language_info": {
   "codemirror_mode": {
    "name": "ipython",
    "version": 3
   },
   "file_extension": ".py",
   "mimetype": "text/x-python",
   "name": "python",
   "nbconvert_exporter": "python",
   "pygments_lexer": "ipython3",
   "version": "3.6.9"
  },
  "orig_nbformat": 4,
  "vscode": {
   "interpreter": {
    "hash": "31f2aee4e71d21fbe5cf8b01ff0e069b9275f58929596ceb00d14d90e3e16cd6"
   }
  }
 },
 "nbformat": 4,
 "nbformat_minor": 2
}
