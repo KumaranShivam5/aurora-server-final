{
 "cells": [
  {
   "cell_type": "code",
   "execution_count": 1,
   "metadata": {},
   "outputs": [],
   "source": [
    "import pandas as pd \n",
    "from matplotlib import pyplot as plt \n",
    "import numpy as np "
   ]
  },
  {
   "cell_type": "code",
   "execution_count": 5,
   "metadata": {},
   "outputs": [],
   "source": [
    "from utilities import make_model\n",
    "class feat_test_mdoel(make_model):\n",
    "    def __init__(self , name , clf , gamma ,x ,y , train_data_loc):\n",
    "        self.features = x.columns.to_list() \n",
    "        self.train_data_loc = train_data_loc\n",
    "        make_model.__init__(self , name , clf , gamma , x ,y)"
   ]
  },
  {
   "cell_type": "code",
   "execution_count": 2,
   "metadata": {},
   "outputs": [],
   "source": [
    "labels = ['AGN' , 'STAR' , 'YSO' , 'HMXB' , 'LMXB' , 'ULX' , 'CV' , 'PULSAR']\n",
    "scores = ['precision' , 'recall' , 'f1_score']"
   ]
  },
  {
   "cell_type": "code",
   "execution_count": 7,
   "metadata": {},
   "outputs": [
    {
     "data": {
      "text/html": [
       "<div>\n",
       "<style scoped>\n",
       "    .dataframe tbody tr th:only-of-type {\n",
       "        vertical-align: middle;\n",
       "    }\n",
       "\n",
       "    .dataframe tbody tr th {\n",
       "        vertical-align: top;\n",
       "    }\n",
       "\n",
       "    .dataframe thead th {\n",
       "        text-align: right;\n",
       "    }\n",
       "</style>\n",
       "<table border=\"1\" class=\"dataframe\">\n",
       "  <thead>\n",
       "    <tr style=\"text-align: right;\">\n",
       "      <th></th>\n",
       "      <th>recall_score</th>\n",
       "      <th>precision_score</th>\n",
       "      <th>f1_score</th>\n",
       "    </tr>\n",
       "    <tr>\n",
       "      <th>class</th>\n",
       "      <th></th>\n",
       "      <th></th>\n",
       "      <th></th>\n",
       "    </tr>\n",
       "  </thead>\n",
       "  <tbody>\n",
       "    <tr>\n",
       "      <th>AGN</th>\n",
       "      <td>0.974530</td>\n",
       "      <td>0.968465</td>\n",
       "      <td>0.971488</td>\n",
       "    </tr>\n",
       "    <tr>\n",
       "      <th>CV</th>\n",
       "      <td>0.536145</td>\n",
       "      <td>0.593333</td>\n",
       "      <td>0.563291</td>\n",
       "    </tr>\n",
       "    <tr>\n",
       "      <th>HMXB</th>\n",
       "      <td>0.905080</td>\n",
       "      <td>0.916103</td>\n",
       "      <td>0.910558</td>\n",
       "    </tr>\n",
       "    <tr>\n",
       "      <th>LMXB</th>\n",
       "      <td>0.811189</td>\n",
       "      <td>0.943089</td>\n",
       "      <td>0.872180</td>\n",
       "    </tr>\n",
       "    <tr>\n",
       "      <th>PULSAR</th>\n",
       "      <td>0.455446</td>\n",
       "      <td>0.418182</td>\n",
       "      <td>0.436019</td>\n",
       "    </tr>\n",
       "    <tr>\n",
       "      <th>STAR</th>\n",
       "      <td>0.956272</td>\n",
       "      <td>0.959712</td>\n",
       "      <td>0.957989</td>\n",
       "    </tr>\n",
       "    <tr>\n",
       "      <th>ULX</th>\n",
       "      <td>0.706161</td>\n",
       "      <td>0.699531</td>\n",
       "      <td>0.702830</td>\n",
       "    </tr>\n",
       "    <tr>\n",
       "      <th>YSO</th>\n",
       "      <td>0.951262</td>\n",
       "      <td>0.927844</td>\n",
       "      <td>0.939407</td>\n",
       "    </tr>\n",
       "  </tbody>\n",
       "</table>\n",
       "</div>"
      ],
      "text/plain": [
       "        recall_score  precision_score  f1_score\n",
       "class                                          \n",
       "AGN         0.974530         0.968465  0.971488\n",
       "CV          0.536145         0.593333  0.563291\n",
       "HMXB        0.905080         0.916103  0.910558\n",
       "LMXB        0.811189         0.943089  0.872180\n",
       "PULSAR      0.455446         0.418182  0.436019\n",
       "STAR        0.956272         0.959712  0.957989\n",
       "ULX         0.706161         0.699531  0.702830\n",
       "YSO         0.951262         0.927844  0.939407"
      ]
     },
     "execution_count": 7,
     "metadata": {},
     "output_type": "execute_result"
    }
   ],
   "source": [
    "import joblib \n"
   ]
  },
  {
   "cell_type": "code",
   "execution_count": null,
   "metadata": {},
   "outputs": [],
   "source": [
    "all_feat = {\n",
    "    'AGN' : {\n",
    "        'precision' : [] , \n",
    "    'recall' : [],\n",
    "    'f1_score' : []\n",
    "    }\n",
    "}\n",
    "for i in range(5):\n",
    "    model = joblib.load('models/all_feat_v1_0.pkl')\n",
    "    all_feat['precision'].append(model.result['class_scores']['precision_score']['AGN']\n",
    "    "
   ]
  },
  {
   "cell_type": "code",
   "execution_count": 13,
   "metadata": {},
   "outputs": [
    {
     "data": {
      "text/plain": [
       "0.9684647302904564"
      ]
     },
     "execution_count": 13,
     "metadata": {},
     "output_type": "execute_result"
    }
   ],
   "source": [
    "model.result['class_scores']['precision_score']['AGN']"
   ]
  }
 ],
 "metadata": {
  "kernelspec": {
   "display_name": "Python 3.6.9 64-bit",
   "language": "python",
   "name": "python3"
  },
  "language_info": {
   "codemirror_mode": {
    "name": "ipython",
    "version": 3
   },
   "file_extension": ".py",
   "mimetype": "text/x-python",
   "name": "python",
   "nbconvert_exporter": "python",
   "pygments_lexer": "ipython3",
   "version": "3.6.9"
  },
  "orig_nbformat": 4,
  "vscode": {
   "interpreter": {
    "hash": "31f2aee4e71d21fbe5cf8b01ff0e069b9275f58929596ceb00d14d90e3e16cd6"
   }
  }
 },
 "nbformat": 4,
 "nbformat_minor": 2
}
