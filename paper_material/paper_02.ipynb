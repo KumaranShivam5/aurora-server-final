{
 "cells": [
  {
   "cell_type": "code",
   "execution_count": 16,
   "metadata": {},
   "outputs": [
    {
     "name": "stdout",
     "output_type": "stream",
     "text": [
      "The autoreload extension is already loaded. To reload it, use:\n",
      "  %reload_ext autoreload\n"
     ]
    }
   ],
   "source": [
    "import pandas as pd \n",
    "from matplotlib import pyplot as plt \n",
    "import numpy as np \n",
    "import seaborn as sns\n",
    "from utilities import deets\n",
    "%load_ext autoreload\n",
    "%autoreload 2"
   ]
  },
  {
   "cell_type": "code",
   "execution_count": 3,
   "metadata": {},
   "outputs": [],
   "source": [
    "from utilities import make_model\n",
    "class feat_test_mdoel(make_model):\n",
    "    def __init__(self , name , clf , gamma ,x ,y , train_data_loc):\n",
    "        self.features = x.columns.to_list() \n",
    "        self.train_data_loc = train_data_loc\n",
    "        make_model.__init__(self , name , clf , gamma , x ,y)"
   ]
  },
  {
   "cell_type": "code",
   "execution_count": 11,
   "metadata": {},
   "outputs": [
    {
     "data": {
      "text/html": [
       "<div>\n",
       "<style scoped>\n",
       "    .dataframe tbody tr th:only-of-type {\n",
       "        vertical-align: middle;\n",
       "    }\n",
       "\n",
       "    .dataframe tbody tr th {\n",
       "        vertical-align: top;\n",
       "    }\n",
       "\n",
       "    .dataframe thead th {\n",
       "        text-align: right;\n",
       "    }\n",
       "</style>\n",
       "<table border=\"1\" class=\"dataframe\">\n",
       "  <thead>\n",
       "    <tr style=\"text-align: right;\">\n",
       "      <th></th>\n",
       "      <th>significance</th>\n",
       "      <th>var_flag</th>\n",
       "      <th>streak_src_flag</th>\n",
       "      <th>pileup_flag</th>\n",
       "      <th>ra</th>\n",
       "      <th>dec</th>\n",
       "      <th>missing</th>\n",
       "      <th>sat_src_flag</th>\n",
       "      <th>extent_flag</th>\n",
       "      <th>conf_flag</th>\n",
       "      <th>...</th>\n",
       "      <th>G-J</th>\n",
       "      <th>G-W2</th>\n",
       "      <th>Bp-H</th>\n",
       "      <th>Bp-W3</th>\n",
       "      <th>Rp-K</th>\n",
       "      <th>J-H</th>\n",
       "      <th>J-W1</th>\n",
       "      <th>W1-W2</th>\n",
       "      <th>0p3_8_csc</th>\n",
       "      <th>24_microns_(MIPS)</th>\n",
       "    </tr>\n",
       "    <tr>\n",
       "      <th>name</th>\n",
       "      <th></th>\n",
       "      <th></th>\n",
       "      <th></th>\n",
       "      <th></th>\n",
       "      <th></th>\n",
       "      <th></th>\n",
       "      <th></th>\n",
       "      <th></th>\n",
       "      <th></th>\n",
       "      <th></th>\n",
       "      <th></th>\n",
       "      <th></th>\n",
       "      <th></th>\n",
       "      <th></th>\n",
       "      <th></th>\n",
       "      <th></th>\n",
       "      <th></th>\n",
       "      <th></th>\n",
       "      <th></th>\n",
       "      <th></th>\n",
       "      <th></th>\n",
       "    </tr>\n",
       "  </thead>\n",
       "  <tbody>\n",
       "    <tr>\n",
       "      <th>2CXO J010256.7-724811</th>\n",
       "      <td>3.473684</td>\n",
       "      <td>0</td>\n",
       "      <td>0</td>\n",
       "      <td>0</td>\n",
       "      <td>15.736332</td>\n",
       "      <td>-72.803305</td>\n",
       "      <td>0.305085</td>\n",
       "      <td>0</td>\n",
       "      <td>0</td>\n",
       "      <td>0</td>\n",
       "      <td>...</td>\n",
       "      <td>3.162366</td>\n",
       "      <td>2.666958</td>\n",
       "      <td>3.142501</td>\n",
       "      <td>8.446456</td>\n",
       "      <td>2.773556</td>\n",
       "      <td>3.397729</td>\n",
       "      <td>4.124210</td>\n",
       "      <td>5.156864</td>\n",
       "      <td>NaN</td>\n",
       "      <td>NaN</td>\n",
       "    </tr>\n",
       "    <tr>\n",
       "      <th>2CXO J010853.2-731439</th>\n",
       "      <td>2.307692</td>\n",
       "      <td>0</td>\n",
       "      <td>0</td>\n",
       "      <td>0</td>\n",
       "      <td>17.221964</td>\n",
       "      <td>-73.244442</td>\n",
       "      <td>0.355932</td>\n",
       "      <td>0</td>\n",
       "      <td>0</td>\n",
       "      <td>0</td>\n",
       "      <td>...</td>\n",
       "      <td>3.477093</td>\n",
       "      <td>NaN</td>\n",
       "      <td>3.400918</td>\n",
       "      <td>NaN</td>\n",
       "      <td>3.280334</td>\n",
       "      <td>3.522581</td>\n",
       "      <td>NaN</td>\n",
       "      <td>NaN</td>\n",
       "      <td>NaN</td>\n",
       "      <td>NaN</td>\n",
       "    </tr>\n",
       "    <tr>\n",
       "      <th>2CXO J010935.1-714415</th>\n",
       "      <td>4.000000</td>\n",
       "      <td>0</td>\n",
       "      <td>0</td>\n",
       "      <td>0</td>\n",
       "      <td>17.396491</td>\n",
       "      <td>-71.737602</td>\n",
       "      <td>0.338983</td>\n",
       "      <td>0</td>\n",
       "      <td>0</td>\n",
       "      <td>0</td>\n",
       "      <td>...</td>\n",
       "      <td>NaN</td>\n",
       "      <td>4.205817</td>\n",
       "      <td>NaN</td>\n",
       "      <td>8.809085</td>\n",
       "      <td>NaN</td>\n",
       "      <td>NaN</td>\n",
       "      <td>NaN</td>\n",
       "      <td>6.812482</td>\n",
       "      <td>NaN</td>\n",
       "      <td>NaN</td>\n",
       "    </tr>\n",
       "    <tr>\n",
       "      <th>2CXO J011655.5-734034</th>\n",
       "      <td>2.166667</td>\n",
       "      <td>0</td>\n",
       "      <td>0</td>\n",
       "      <td>0</td>\n",
       "      <td>19.231259</td>\n",
       "      <td>-73.676364</td>\n",
       "      <td>0.288136</td>\n",
       "      <td>0</td>\n",
       "      <td>0</td>\n",
       "      <td>0</td>\n",
       "      <td>...</td>\n",
       "      <td>3.188112</td>\n",
       "      <td>2.666612</td>\n",
       "      <td>3.150756</td>\n",
       "      <td>8.262702</td>\n",
       "      <td>3.222395</td>\n",
       "      <td>3.526692</td>\n",
       "      <td>3.800834</td>\n",
       "      <td>5.823164</td>\n",
       "      <td>NaN</td>\n",
       "      <td>NaN</td>\n",
       "    </tr>\n",
       "    <tr>\n",
       "      <th>2CXO J012125.0-725827</th>\n",
       "      <td>10.584334</td>\n",
       "      <td>0</td>\n",
       "      <td>0</td>\n",
       "      <td>0</td>\n",
       "      <td>20.354232</td>\n",
       "      <td>-72.974249</td>\n",
       "      <td>0.389831</td>\n",
       "      <td>0</td>\n",
       "      <td>0</td>\n",
       "      <td>0</td>\n",
       "      <td>...</td>\n",
       "      <td>NaN</td>\n",
       "      <td>NaN</td>\n",
       "      <td>NaN</td>\n",
       "      <td>NaN</td>\n",
       "      <td>NaN</td>\n",
       "      <td>3.250784</td>\n",
       "      <td>3.518963</td>\n",
       "      <td>5.990373</td>\n",
       "      <td>NaN</td>\n",
       "      <td>NaN</td>\n",
       "    </tr>\n",
       "    <tr>\n",
       "      <th>...</th>\n",
       "      <td>...</td>\n",
       "      <td>...</td>\n",
       "      <td>...</td>\n",
       "      <td>...</td>\n",
       "      <td>...</td>\n",
       "      <td>...</td>\n",
       "      <td>...</td>\n",
       "      <td>...</td>\n",
       "      <td>...</td>\n",
       "      <td>...</td>\n",
       "      <td>...</td>\n",
       "      <td>...</td>\n",
       "      <td>...</td>\n",
       "      <td>...</td>\n",
       "      <td>...</td>\n",
       "      <td>...</td>\n",
       "      <td>...</td>\n",
       "      <td>...</td>\n",
       "      <td>...</td>\n",
       "      <td>...</td>\n",
       "      <td>...</td>\n",
       "    </tr>\n",
       "    <tr>\n",
       "      <th>2CXO J094741.9+073307</th>\n",
       "      <td>13.728778</td>\n",
       "      <td>1</td>\n",
       "      <td>0</td>\n",
       "      <td>0</td>\n",
       "      <td>146.924694</td>\n",
       "      <td>7.551989</td>\n",
       "      <td>0.237288</td>\n",
       "      <td>0</td>\n",
       "      <td>0</td>\n",
       "      <td>0</td>\n",
       "      <td>...</td>\n",
       "      <td>NaN</td>\n",
       "      <td>3.889395</td>\n",
       "      <td>NaN</td>\n",
       "      <td>4.866196</td>\n",
       "      <td>NaN</td>\n",
       "      <td>NaN</td>\n",
       "      <td>NaN</td>\n",
       "      <td>6.208020</td>\n",
       "      <td>0.027493</td>\n",
       "      <td>NaN</td>\n",
       "    </tr>\n",
       "    <tr>\n",
       "      <th>2CXO J094748.1+073423</th>\n",
       "      <td>3.526316</td>\n",
       "      <td>1</td>\n",
       "      <td>0</td>\n",
       "      <td>0</td>\n",
       "      <td>146.950681</td>\n",
       "      <td>7.573088</td>\n",
       "      <td>0.305085</td>\n",
       "      <td>0</td>\n",
       "      <td>0</td>\n",
       "      <td>0</td>\n",
       "      <td>...</td>\n",
       "      <td>NaN</td>\n",
       "      <td>NaN</td>\n",
       "      <td>NaN</td>\n",
       "      <td>NaN</td>\n",
       "      <td>NaN</td>\n",
       "      <td>NaN</td>\n",
       "      <td>NaN</td>\n",
       "      <td>4.976942</td>\n",
       "      <td>0.006911</td>\n",
       "      <td>NaN</td>\n",
       "    </tr>\n",
       "    <tr>\n",
       "      <th>2CXO J060212.5-395227</th>\n",
       "      <td>3.736842</td>\n",
       "      <td>1</td>\n",
       "      <td>0</td>\n",
       "      <td>0</td>\n",
       "      <td>90.552354</td>\n",
       "      <td>-39.874428</td>\n",
       "      <td>0.474576</td>\n",
       "      <td>0</td>\n",
       "      <td>0</td>\n",
       "      <td>0</td>\n",
       "      <td>...</td>\n",
       "      <td>NaN</td>\n",
       "      <td>NaN</td>\n",
       "      <td>NaN</td>\n",
       "      <td>NaN</td>\n",
       "      <td>NaN</td>\n",
       "      <td>3.506049</td>\n",
       "      <td>NaN</td>\n",
       "      <td>NaN</td>\n",
       "      <td>NaN</td>\n",
       "      <td>NaN</td>\n",
       "    </tr>\n",
       "    <tr>\n",
       "      <th>2CXO J060228.9-400246</th>\n",
       "      <td>9.790011</td>\n",
       "      <td>1</td>\n",
       "      <td>0</td>\n",
       "      <td>0</td>\n",
       "      <td>90.620785</td>\n",
       "      <td>-40.046363</td>\n",
       "      <td>0.338983</td>\n",
       "      <td>0</td>\n",
       "      <td>0</td>\n",
       "      <td>0</td>\n",
       "      <td>...</td>\n",
       "      <td>3.811712</td>\n",
       "      <td>NaN</td>\n",
       "      <td>4.436957</td>\n",
       "      <td>NaN</td>\n",
       "      <td>9.863985</td>\n",
       "      <td>3.424970</td>\n",
       "      <td>NaN</td>\n",
       "      <td>NaN</td>\n",
       "      <td>0.008269</td>\n",
       "      <td>NaN</td>\n",
       "    </tr>\n",
       "    <tr>\n",
       "      <th>2CXO J060233.7-395610</th>\n",
       "      <td>9.295942</td>\n",
       "      <td>1</td>\n",
       "      <td>0</td>\n",
       "      <td>0</td>\n",
       "      <td>90.640635</td>\n",
       "      <td>-39.936182</td>\n",
       "      <td>0.338983</td>\n",
       "      <td>0</td>\n",
       "      <td>0</td>\n",
       "      <td>0</td>\n",
       "      <td>...</td>\n",
       "      <td>3.272828</td>\n",
       "      <td>NaN</td>\n",
       "      <td>3.749833</td>\n",
       "      <td>NaN</td>\n",
       "      <td>9.856465</td>\n",
       "      <td>3.511750</td>\n",
       "      <td>NaN</td>\n",
       "      <td>NaN</td>\n",
       "      <td>0.006413</td>\n",
       "      <td>NaN</td>\n",
       "    </tr>\n",
       "  </tbody>\n",
       "</table>\n",
       "<p>54770 rows × 64 columns</p>\n",
       "</div>"
      ],
      "text/plain": [
       "                       significance  var_flag  streak_src_flag  pileup_flag  \\\n",
       "name                                                                          \n",
       "2CXO J010256.7-724811      3.473684         0                0            0   \n",
       "2CXO J010853.2-731439      2.307692         0                0            0   \n",
       "2CXO J010935.1-714415      4.000000         0                0            0   \n",
       "2CXO J011655.5-734034      2.166667         0                0            0   \n",
       "2CXO J012125.0-725827     10.584334         0                0            0   \n",
       "...                             ...       ...              ...          ...   \n",
       "2CXO J094741.9+073307     13.728778         1                0            0   \n",
       "2CXO J094748.1+073423      3.526316         1                0            0   \n",
       "2CXO J060212.5-395227      3.736842         1                0            0   \n",
       "2CXO J060228.9-400246      9.790011         1                0            0   \n",
       "2CXO J060233.7-395610      9.295942         1                0            0   \n",
       "\n",
       "                               ra        dec   missing  sat_src_flag  \\\n",
       "name                                                                   \n",
       "2CXO J010256.7-724811   15.736332 -72.803305  0.305085             0   \n",
       "2CXO J010853.2-731439   17.221964 -73.244442  0.355932             0   \n",
       "2CXO J010935.1-714415   17.396491 -71.737602  0.338983             0   \n",
       "2CXO J011655.5-734034   19.231259 -73.676364  0.288136             0   \n",
       "2CXO J012125.0-725827   20.354232 -72.974249  0.389831             0   \n",
       "...                           ...        ...       ...           ...   \n",
       "2CXO J094741.9+073307  146.924694   7.551989  0.237288             0   \n",
       "2CXO J094748.1+073423  146.950681   7.573088  0.305085             0   \n",
       "2CXO J060212.5-395227   90.552354 -39.874428  0.474576             0   \n",
       "2CXO J060228.9-400246   90.620785 -40.046363  0.338983             0   \n",
       "2CXO J060233.7-395610   90.640635 -39.936182  0.338983             0   \n",
       "\n",
       "                       extent_flag  conf_flag  ...       G-J      G-W2  \\\n",
       "name                                           ...                       \n",
       "2CXO J010256.7-724811            0          0  ...  3.162366  2.666958   \n",
       "2CXO J010853.2-731439            0          0  ...  3.477093       NaN   \n",
       "2CXO J010935.1-714415            0          0  ...       NaN  4.205817   \n",
       "2CXO J011655.5-734034            0          0  ...  3.188112  2.666612   \n",
       "2CXO J012125.0-725827            0          0  ...       NaN       NaN   \n",
       "...                            ...        ...  ...       ...       ...   \n",
       "2CXO J094741.9+073307            0          0  ...       NaN  3.889395   \n",
       "2CXO J094748.1+073423            0          0  ...       NaN       NaN   \n",
       "2CXO J060212.5-395227            0          0  ...       NaN       NaN   \n",
       "2CXO J060228.9-400246            0          0  ...  3.811712       NaN   \n",
       "2CXO J060233.7-395610            0          0  ...  3.272828       NaN   \n",
       "\n",
       "                           Bp-H     Bp-W3      Rp-K       J-H      J-W1  \\\n",
       "name                                                                      \n",
       "2CXO J010256.7-724811  3.142501  8.446456  2.773556  3.397729  4.124210   \n",
       "2CXO J010853.2-731439  3.400918       NaN  3.280334  3.522581       NaN   \n",
       "2CXO J010935.1-714415       NaN  8.809085       NaN       NaN       NaN   \n",
       "2CXO J011655.5-734034  3.150756  8.262702  3.222395  3.526692  3.800834   \n",
       "2CXO J012125.0-725827       NaN       NaN       NaN  3.250784  3.518963   \n",
       "...                         ...       ...       ...       ...       ...   \n",
       "2CXO J094741.9+073307       NaN  4.866196       NaN       NaN       NaN   \n",
       "2CXO J094748.1+073423       NaN       NaN       NaN       NaN       NaN   \n",
       "2CXO J060212.5-395227       NaN       NaN       NaN  3.506049       NaN   \n",
       "2CXO J060228.9-400246  4.436957       NaN  9.863985  3.424970       NaN   \n",
       "2CXO J060233.7-395610  3.749833       NaN  9.856465  3.511750       NaN   \n",
       "\n",
       "                          W1-W2  0p3_8_csc  24_microns_(MIPS)  \n",
       "name                                                           \n",
       "2CXO J010256.7-724811  5.156864        NaN                NaN  \n",
       "2CXO J010853.2-731439       NaN        NaN                NaN  \n",
       "2CXO J010935.1-714415  6.812482        NaN                NaN  \n",
       "2CXO J011655.5-734034  5.823164        NaN                NaN  \n",
       "2CXO J012125.0-725827  5.990373        NaN                NaN  \n",
       "...                         ...        ...                ...  \n",
       "2CXO J094741.9+073307  6.208020   0.027493                NaN  \n",
       "2CXO J094748.1+073423  4.976942   0.006911                NaN  \n",
       "2CXO J060212.5-395227       NaN        NaN                NaN  \n",
       "2CXO J060228.9-400246       NaN   0.008269                NaN  \n",
       "2CXO J060233.7-395610       NaN   0.006413                NaN  \n",
       "\n",
       "[54770 rows x 64 columns]"
      ]
     },
     "execution_count": 11,
     "metadata": {},
     "output_type": "execute_result"
    }
   ],
   "source": [
    "df = (\n",
    "    pd.read_csv('../../not_on_git/final_classification/all_classified.csv')\n",
    "    .set_index('name')\n",
    "    .query('prob>.997')\n",
    "    )\n",
    "df"
   ]
  },
  {
   "cell_type": "code",
   "execution_count": 12,
   "metadata": {},
   "outputs": [
    {
     "name": "stdout",
     "output_type": "stream",
     "text": [
      "|        |   class |\n",
      "|:-------|--------:|\n",
      "| AGN    |   32600 |\n",
      "| STAR   |   16148 |\n",
      "| YSO    |    5184 |\n",
      "| HMXB   |     439 |\n",
      "| LMXB   |     197 |\n",
      "| CV     |      89 |\n",
      "| PULSAR |      63 |\n",
      "| ULX    |      50 |\n"
     ]
    }
   ],
   "source": [
    "print(df['class'].value_counts().to_markdown())"
   ]
  },
  {
   "cell_type": "code",
   "execution_count": 13,
   "metadata": {},
   "outputs": [],
   "source": [
    "from utilities import plot_feat_feat , get_true_data"
   ]
  },
  {
   "cell_type": "code",
   "execution_count": 14,
   "metadata": {},
   "outputs": [
    {
     "name": "stderr",
     "output_type": "stream",
     "text": [
      "/home/kumaran/.local/lib/python3.6/site-packages/ipykernel_launcher.py:26: SettingWithCopyWarning: \n",
      "A value is trying to be set on a copy of a slice from a DataFrame\n",
      "\n",
      "See the caveats in the documentation: https://pandas.pydata.org/pandas-docs/stable/user_guide/indexing.html#returning-a-view-versus-a-copy\n",
      "/home/kumaran/.local/lib/python3.6/site-packages/ipykernel_launcher.py:24: SettingWithCopyWarning: \n",
      "A value is trying to be set on a copy of a slice from a DataFrame\n",
      "\n",
      "See the caveats in the documentation: https://pandas.pydata.org/pandas-docs/stable/user_guide/indexing.html#returning-a-view-versus-a-copy\n"
     ]
    }
   ],
   "source": [
    "true_df = get_true_data(df[['prob' , 'class']])\n",
    "filters = ['b' , 'm' , 's' , 'h' , 'u']\n",
    "# for f in filters:\n",
    "#     true_df = true_df[true_df[f'{f}-csc']>0]\n",
    "for f in filters:\n",
    "    true_df[f'{f}-mag'] = [np.nan]*len(true_df)\n",
    "    true_df.loc[true_df[f'{f}-csc']>0 , f'{f}-mag'] = -np.log10(true_df.loc[true_df[f'{f}-csc']>0][f'{f}-csc'])\n",
    "true_df['h-m'] = true_df['h-mag'] - true_df['m-mag']\n",
    "true_df['h-s'] = true_df['h-mag'] - true_df['s-mag']\n",
    "true_df['m-s'] = true_df['m-mag'] - true_df['s-mag']\n",
    "\n",
    "true_df['hard_hm'] = np.nan\n",
    "true_df['hard_ms'] = np.nan\n",
    "true_df['hard_hs'] = np.nan\n",
    "\n",
    "true_df['hard_hm'] = (true_df['h-csc'] - true_df['m-csc']) / (true_df['h-csc'] + true_df['m-csc'])\n",
    "true_df['hard_ms'] = (true_df['m-csc'] - true_df['s-csc']) / (true_df['m-csc'] + true_df['s-csc'])\n",
    "true_df['hard_hs'] = (true_df['h-csc'] - true_df['s-csc']) / (true_df['h-csc'] + true_df['s-csc'])\n",
    "\n",
    "for i in range(len(true_df)):\n",
    "    for hd in (['hard_hm' , 'hard_ms' , 'hard_hs']):\n",
    "        h = true_df[hd][i]\n",
    "        if(h>0.99):\n",
    "            true_df[hd][i]=np.nan\n",
    "        if(h<-0.99):\n",
    "            true_df[hd][i]=np.nan\n",
    "true_df['fx/fo'] = true_df['b-mag'] - true_df['gmag']"
   ]
  },
  {
   "cell_type": "code",
   "execution_count": 18,
   "metadata": {},
   "outputs": [
    {
     "data": {
      "image/png": "[encoded data removed]",
      "text/plain": [
       "<Figure size 576x432 with 1 Axes>"
      ]
     },
     "metadata": {},
     "output_type": "display_data"
    }
   ],
   "source": [
    "from utilities import set_plot\n",
    "set_plot(font_size=1.3)\n",
    "plt.figure(figsize=(8,6))\n",
    "plt.hist(true_df[true_df['class']=='AGN']['hard_hs'] , label = 'AGN' , bins=30 , density=True , alpha=0.5)\n",
    "plt.hist(true_df[true_df['class']=='STAR']['hard_hs'] , label='STAR' , bins=20 , density=True , alpha=0.5)\n",
    "plt.hist(true_df[true_df['class']=='YSO']['hard_hs'] , label='YSO' , bins=20 , density=True , alpha=0.5)\n",
    "# plt.hist(true_df[true_df['class']=='HMXB']['hard_ms'] , label='YSO' , bins=20 , density=True , alpha=0.5)\n",
    "plt.ylabel('density')\n",
    "plt.xlabel(r'$\\frac{F_h-F_s}{F_h+F_s}$' , size=20)\n",
    "plt.savefig('result/plots/feature_sep/hard_hs.jpg')\n",
    "plt.legend()\n",
    "plt.show()"
   ]
  },
  {
   "cell_type": "code",
   "execution_count": 96,
   "metadata": {},
   "outputs": [],
   "source": [
    "def plot_hist(ax , feat , classes, bins , xlabel = ''):\n",
    "    for cl , bin in zip(classes , bins):\n",
    "        ax.hist(true_df[true_df['class']==cl][feat] , label = cl , bins=bin , density=True , alpha=0.5)\n",
    "    # ax.legend()\n",
    "    ax.set_xlabel(xlabel)\n",
    "    return ax"
   ]
  },
  {
   "cell_type": "code",
   "execution_count": 105,
   "metadata": {},
   "outputs": [
    {
     "data": {
      "image/png": "[encoded data removed]",
      "text/plain": [
       "<Figure size 1008x288 with 3 Axes>"
      ]
     },
     "metadata": {},
     "output_type": "display_data"
    }
   ],
   "source": [
    "from utilities import set_plot\n",
    "set_plot(font_size=1.3)\n",
    "fig , ax = plt.subplots(nrows = 1, ncols=3, figsize = (14,4))\n",
    "ax = np.ravel(ax)\n",
    "\n",
    "plot_hist(ax[0] , 'hard_ms' , classes=['AGN','STAR','YSO'], bins = [30,20,20])\n",
    "ax[0].set_xlabel(r'$\\frac{F_m-F_s}{F_m+F_s}$' , size=20)\n",
    "\n",
    "plot_hist(ax[1] , 'hard_hs' , classes=['AGN','STAR','YSO'], bins = [30,20,20])\n",
    "ax[1].set_xlabel(r'$\\frac{F_h-F_s}{F_h+F_s}$' , size=20)\n",
    "\n",
    "\n",
    "plot_hist(ax[2] , 'hard_hm' , classes=['AGN','STAR','YSO'], bins = [30,20,20])\n",
    "ax[2].set_xlabel(r'$\\frac{F_h-F_m}{F_h+F_m}$' , size=20)\n",
    "\n",
    "ax[0].set_ylabel('Density')\n",
    "plt.tight_layout()\n",
    "plt.show()\n"
   ]
  },
  {
   "cell_type": "code",
   "execution_count": 104,
   "metadata": {},
   "outputs": [
    {
     "data": {
      "image/png": "[encoded data removed]",
      "text/plain": [
       "<Figure size 1008x288 with 3 Axes>"
      ]
     },
     "metadata": {},
     "output_type": "display_data"
    }
   ],
   "source": [
    "fig , ax = plt.subplots(nrows = 1, ncols=3, figsize = (14,4))\n",
    "ax = np.ravel(ax)\n",
    "plot_hist(ax[0] ,'fx/fo' , classes = ['AGN','STAR','YSO'], bins = [30,50,30])\n",
    "ax[0].set_xlabel(r'$F_x/F_o$')\n",
    "plt.show()"
   ]
  },
  {
   "cell_type": "code",
   "execution_count": 19,
   "metadata": {},
   "outputs": [
    {
     "data": {
      "image/png": "[encoded data removed]",
      "text/plain": [
       "<Figure size 576x432 with 1 Axes>"
      ]
     },
     "metadata": {},
     "output_type": "display_data"
    }
   ],
   "source": [
    "from utilities import set_plot\n",
    "set_plot(font_size=1.3)\n",
    "fig , ax = plt.subplots(nrows = 3, ncols=3, figsize = (14,12))\n",
    "ax = np.ravel(ax)\n",
    "plot_hist(ax[0] , 'hard_ms' , classes=['AGN','STAR','YSO'], bins = [30,20,20])\n",
    "plt.hist(true_df[true_df['class']=='AGN']['hard_ms'] , label = 'AGN' , bins=30 , density=True , alpha=0.5)\n",
    "plt.hist(true_df[true_df['class']=='STAR']['hard_ms'] , label='STAR' , bins=20 , density=True , alpha=0.5)\n",
    "plt.hist(true_df[true_df['class']=='YSO']['hard_ms'] , label='YSO' , bins=20 , density=True , alpha=0.5)\n",
    "# plt.hist(true_df[true_df['class']=='HMXB']['hard_ms'] , label='YSO' , bins=20 , density=True , alpha=0.5)\n",
    "plt.ylabel('density')\n",
    "plt.xlabel(r'$\\frac{F_h-F_s}{F_h+F_s}$' , size=20)\n",
    "plt.savefig('result/plots/feature_sep/hard_ms.jpg')\n",
    "plt.legend()\n",
    "plt.show()"
   ]
  },
  {
   "cell_type": "markdown",
   "metadata": {},
   "source": [
    "## KS-TEST"
   ]
  },
  {
   "cell_type": "code",
   "execution_count": 20,
   "metadata": {},
   "outputs": [
    {
     "data": {
      "text/plain": [
       "name\n",
       "2CXO J010935.1-714415   -0.091813\n",
       "2CXO J143009.6+311418   -0.202756\n",
       "2CXO J143022.6+311158   -0.081822\n",
       "2CXO J143038.3+311055   -0.270221\n",
       "2CXO J143521.3+305719    0.029524\n",
       "                           ...   \n",
       "2CXO J221843.5-272751   -0.465783\n",
       "2CXO J094732.5+071827   -0.063660\n",
       "2CXO J094734.3+072440   -0.140998\n",
       "2CXO J094741.9+073307   -0.003242\n",
       "2CXO J094748.1+073423   -0.330704\n",
       "Name: hard_ms, Length: 32600, dtype: float64"
      ]
     },
     "execution_count": 20,
     "metadata": {},
     "output_type": "execute_result"
    }
   ],
   "source": [
    "true_df[true_df['class']=='AGN']['hard_ms']"
   ]
  },
  {
   "cell_type": "code",
   "execution_count": 61,
   "metadata": {},
   "outputs": [],
   "source": [
    "from scipy import stats\n",
    "from tqdm import tqdm \n",
    "\n",
    "def cdf(sample, x, sort = False):\n",
    "    # Sorts the sample, if unsorted\n",
    "    if sort:\n",
    "        sample.sort()\n",
    "    # Counts how many observations are below x\n",
    "    cdf = sum(sample <= x)\n",
    "    # Divides by the total number of observations\n",
    "    cdf = cdf / len(sample)\n",
    "    return cdf\n",
    "    \n",
    "def ks_2samp(sample1, sample2):\n",
    "    # Gets all observations\n",
    "    observations = np.concatenate((sample1, sample2))\n",
    "    observations.sort()\n",
    "    # Sorts the samples\n",
    "    sample1.sort()\n",
    "    sample2.sort()\n",
    "    # Evaluates the KS statistic\n",
    "    D_ks = [] # KS Statistic list\n",
    "    obs = np.linspace(np.nanmin(observations), np.nanmax(observations) , 200)\n",
    "    cdf_1, cdf_2 = [],[]\n",
    "    for x in tqdm(obs):\n",
    "        cdf_sample1 = cdf(sample = sample1, x  = x)\n",
    "        cdf_sample2 = cdf(sample = sample2, x  = x)\n",
    "        cdf_1.append(cdf_sample1)\n",
    "        cdf_2.append(cdf_sample2)\n",
    "        D_ks.append(abs(cdf_sample1 - cdf_sample2))\n",
    "    ks_stat = max(D_ks)\n",
    "    # Calculates the P-Value based on the two-sided test\n",
    "    # The P-Value comes from the KS Distribution Survival Function (SF = 1-CDF)\n",
    "    m, n = float(len(sample1)), float(len(sample2))\n",
    "    en = m * n / (m + n)\n",
    "    p_value = stats.kstwo.sf(ks_stat, np.round(en))\n",
    "    return {\"ks_stat\": ks_stat, \"p_value\" : p_value} , cdf_1 , cdf_2, obs"
   ]
  },
  {
   "cell_type": "code",
   "execution_count": 68,
   "metadata": {},
   "outputs": [
    {
     "name": "stderr",
     "output_type": "stream",
     "text": [
      "100%|██████████| 200/200 [00:18<00:00, 10.68it/s]\n"
     ]
    }
   ],
   "source": [
    "set_agn = true_df[true_df['class']=='AGN']['hard_ms'].to_list()\n",
    "set_yso = true_df[true_df['class']=='YSO']['hard_ms'].to_list()\n",
    "set_star = true_df[true_df['class']=='STAR']['hard_ms'].to_list()\n",
    "\n",
    "agn_yso , cdf_1 , cdf_2, obs = ks_2samp(set_agn, set_yso)"
   ]
  },
  {
   "cell_type": "code",
   "execution_count": 63,
   "metadata": {},
   "outputs": [
    {
     "name": "stdout",
     "output_type": "stream",
     "text": [
      "{'ks_stat': 0.42860808149662954, 'p_value': 0.0}\n"
     ]
    }
   ],
   "source": [
    "print(agn_yso)"
   ]
  },
  {
   "cell_type": "code",
   "execution_count": 67,
   "metadata": {},
   "outputs": [
    {
     "name": "stderr",
     "output_type": "stream",
     "text": [
      "/home/kumaran/.local/lib/python3.6/site-packages/seaborn/_decorators.py:43: FutureWarning: Pass the following variables as keyword args: x, y. From version 0.12, the only valid positional argument will be `data`, and passing other arguments without an explicit keyword will result in an error or misinterpretation.\n",
      "  FutureWarning\n"
     ]
    },
    {
     "data": {
      "image/png": "[encoded data removed]",
      "text/plain": [
       "<Figure size 432x288 with 1 Axes>"
      ]
     },
     "metadata": {},
     "output_type": "display_data"
    }
   ],
   "source": [
    "sns.lineplot(obs, cdf_1)\n",
    "# plt.plot(obs, cdf_2)\n",
    "plt.show()"
   ]
  },
  {
   "cell_type": "code",
   "execution_count": 40,
   "metadata": {},
   "outputs": [
    {
     "data": {
      "text/plain": [
       "{'ks_stat': 0.0, 'p_value': 1.0}"
      ]
     },
     "execution_count": 40,
     "metadata": {},
     "output_type": "execute_result"
    }
   ],
   "source": [
    "agn_yso"
   ]
  },
  {
   "cell_type": "code",
   "execution_count": 59,
   "metadata": {},
   "outputs": [
    {
     "name": "stderr",
     "output_type": "stream",
     "text": [
      "100%|██████████| 100/100 [00:07<00:00, 12.61it/s]\n",
      "100%|██████████| 100/100 [00:09<00:00, 10.28it/s]\n",
      "100%|██████████| 100/100 [00:04<00:00, 21.65it/s]\n"
     ]
    },
    {
     "ename": "TypeError",
     "evalue": "tuple indices must be integers or slices, not str",
     "output_type": "error",
     "traceback": [
      "\u001b[0;31m---------------------------------------------------------------------------\u001b[0m",
      "\u001b[0;31mTypeError\u001b[0m                                 Traceback (most recent call last)",
      "\u001b[0;32m<ipython-input-59-ceeec8faa3fa>\u001b[0m in \u001b[0;36m<module>\u001b[0;34m\u001b[0m\n\u001b[1;32m     13\u001b[0m         \u001b[0mks_scores\u001b[0m\u001b[0;34m[\u001b[0m\u001b[0mkey2\u001b[0m\u001b[0;34m]\u001b[0m \u001b[0;34m=\u001b[0m \u001b[0mks\u001b[0m\u001b[0;34m\u001b[0m\u001b[0;34m\u001b[0m\u001b[0m\n\u001b[1;32m     14\u001b[0m \u001b[0;31m# Prints the results\u001b[0m\u001b[0;34m\u001b[0m\u001b[0;34m\u001b[0m\u001b[0;34m\u001b[0m\u001b[0m\n\u001b[0;32m---> 15\u001b[0;31m \u001b[0mprint\u001b[0m\u001b[0;34m(\u001b[0m\u001b[0;34mf\"norm_a vs norm_b: ks = {ks_scores['norm_a_norm_b']['ks_stat']:.4f} (p-value = {ks_scores['norm_a_norm_b']['p_value']:.3e}, are equal = {ks_scores['norm_a_norm_b']['p_value'] > 0.05})\"\u001b[0m\u001b[0;34m)\u001b[0m\u001b[0;34m\u001b[0m\u001b[0;34m\u001b[0m\u001b[0m\n\u001b[0m\u001b[1;32m     16\u001b[0m \u001b[0mprint\u001b[0m\u001b[0;34m(\u001b[0m\u001b[0;34mf\"norm_a vs norm_c: ks = {ks_scores['norm_a_norm_c']['ks_stat']:.4f} (p-value = {ks_scores['norm_a_norm_c']['p_value']:.3e}, are equal = {ks_scores['norm_a_norm_c']['p_value'] > 0.05})\"\u001b[0m\u001b[0;34m)\u001b[0m\u001b[0;34m\u001b[0m\u001b[0;34m\u001b[0m\u001b[0m\n\u001b[1;32m     17\u001b[0m \u001b[0;31m# print(f\"norm_a vs f_a: ks = {ks_scores['norm_a_f_a']['ks_stat']:.4f} (p-value = {ks_scores['norm_a_f_a']['p_value']:.3e}, are equal = {ks_scores['norm_a_f_a']['p_value'] > 0.05})\")\u001b[0m\u001b[0;34m\u001b[0m\u001b[0;34m\u001b[0m\u001b[0;34m\u001b[0m\u001b[0m\n",
      "\u001b[0;31mTypeError\u001b[0m: tuple indices must be integers or slices, not str"
     ]
    }
   ],
   "source": [
    "\n",
    "set_c = true_df[true_df['class']=='STAR']['hard_ms'].to_list()\n",
    "sets = [set_a, set_b, set_c,]\n",
    "names = ['norm_a', 'norm_b', 'norm_c',]\n",
    "ks_scores = {}\n",
    "for _ in range(len(names)):\n",
    "    name1 = names.pop(0)\n",
    "    sample1 = sets.pop(0)\n",
    "    for name2, sample2 in zip(names, sets):\n",
    "        key1 = name1 + \"_\" +  name2\n",
    "        key2 = name2 + \"_\" +  name1\n",
    "        ks = ks_2samp(sample1, sample2)\n",
    "        ks_scores[key1] = ks\n",
    "        ks_scores[key2] = ks\n",
    "# Prints the results\n",
    "print(f\"norm_a vs norm_b: ks = {ks_scores['norm_a_norm_b']['ks_stat']:.4f} (p-value = {ks_scores['norm_a_norm_b']['p_value']:.3e}, are equal = {ks_scores['norm_a_norm_b']['p_value'] > 0.05})\")\n",
    "print(f\"norm_a vs norm_c: ks = {ks_scores['norm_a_norm_c']['ks_stat']:.4f} (p-value = {ks_scores['norm_a_norm_c']['p_value']:.3e}, are equal = {ks_scores['norm_a_norm_c']['p_value'] > 0.05})\")\n",
    "# print(f\"norm_a vs f_a: ks = {ks_scores['norm_a_f_a']['ks_stat']:.4f} (p-value = {ks_scores['norm_a_f_a']['p_value']:.3e}, are equal = {ks_scores['norm_a_f_a']['p_value'] > 0.05})\")\n",
    "print(f\"norm_b vs norm_c: ks = {ks_scores['norm_b_norm_c']['ks_stat']:.4f} (p-value = {ks_scores['norm_b_norm_c']['p_value']:.3e}, are equal = {ks_scores['norm_b_norm_c']['p_value'] > 0.05})\")\n",
    "# print(f\"norm_b vs f_a: ks = {ks_scores['norm_b_f_a']['ks_stat']:.4f} (p-value = {ks_scores['norm_b_f_a']['p_value']:.3e}, are equal = {ks_scores['norm_b_f_a']['p_value'] > 0.05})\")\n",
    "# print(f\"norm_c vs f_a: ks = {ks_scores['norm_c_f_a']['ks_stat']:.4f} (p-value = {ks_scores['norm_c_f_a']['p_value']:.3e}, are equal = {ks_scores['norm_c_f_a']['p_value'] > 0.05})\")\n"
   ]
  },
  {
   "cell_type": "code",
   "execution_count": 27,
   "metadata": {},
   "outputs": [],
   "source": [
    "from scipy import stats"
   ]
  },
  {
   "cell_type": "code",
   "execution_count": 69,
   "metadata": {},
   "outputs": [
    {
     "name": "stdout",
     "output_type": "stream",
     "text": [
      "KstestResult(statistic=0.4289230667272589, pvalue=0.0)\n",
      "KstestResult(statistic=0.21528845905436064, pvalue=0.0)\n",
      "KstestResult(statistic=0.44498076434951994, pvalue=0.0)\n"
     ]
    }
   ],
   "source": [
    "print(stats.ks_2samp(set_agn, set_yso))\n",
    "print(stats.ks_2samp(set_agn, set_star))\n",
    "print(stats.ks_2samp(set_yso, set_star))"
   ]
  },
  {
   "cell_type": "code",
   "execution_count": 31,
   "metadata": {},
   "outputs": [],
   "source": [
    "def cdf(sample, x, sort = False):\n",
    "    # Sorts the sample, if unsorted\n",
    "    if sort:\n",
    "        sample.sort()\n",
    "    # Counts how many observations are below x\n",
    "    cdf = sum(sample <= x)\n",
    "    # Divides by the total number of observations\n",
    "    cdf = cdf / len(sample)\n",
    "    return cdf"
   ]
  },
  {
   "cell_type": "code",
   "execution_count": null,
   "metadata": {},
   "outputs": [],
   "source": [
    "cdf()"
   ]
  }
 ],
 "metadata": {
  "kernelspec": {
   "display_name": "Python 3.6.9 64-bit",
   "language": "python",
   "name": "python3"
  },
  "language_info": {
   "codemirror_mode": {
    "name": "ipython",
    "version": 3
   },
   "file_extension": ".py",
   "mimetype": "text/x-python",
   "name": "python",
   "nbconvert_exporter": "python",
   "pygments_lexer": "ipython3",
   "version": "3.6.9"
  },
  "orig_nbformat": 4,
  "vscode": {
   "interpreter": {
    "hash": "31f2aee4e71d21fbe5cf8b01ff0e069b9275f58929596ceb00d14d90e3e16cd6"
   }
  }
 },
 "nbformat": 4,
 "nbformat_minor": 2
}
