{
 "cells": [
  {
   "cell_type": "code",
   "execution_count": 1,
   "metadata": {},
   "outputs": [],
   "source": [
    "import pandas as pd\n",
    "import numpy as np \n",
    "from matplotlib import pyplot as plt "
   ]
  },
  {
   "cell_type": "code",
   "execution_count": 3,
   "metadata": {},
   "outputs": [
    {
     "data": {
      "text/html": [
       "<div>\n",
       "<style scoped>\n",
       "    .dataframe tbody tr th:only-of-type {\n",
       "        vertical-align: middle;\n",
       "    }\n",
       "\n",
       "    .dataframe tbody tr th {\n",
       "        vertical-align: top;\n",
       "    }\n",
       "\n",
       "    .dataframe thead th {\n",
       "        text-align: right;\n",
       "    }\n",
       "</style>\n",
       "<table border=\"1\" class=\"dataframe\">\n",
       "  <thead>\n",
       "    <tr style=\"text-align: right;\">\n",
       "      <th></th>\n",
       "      <th>class</th>\n",
       "      <th>prob</th>\n",
       "    </tr>\n",
       "    <tr>\n",
       "      <th>name</th>\n",
       "      <th></th>\n",
       "      <th></th>\n",
       "    </tr>\n",
       "  </thead>\n",
       "  <tbody>\n",
       "    <tr>\n",
       "      <th>2CXO J003935.9-732725</th>\n",
       "      <td>STAR</td>\n",
       "      <td>0.777433</td>\n",
       "    </tr>\n",
       "    <tr>\n",
       "      <th>2CXO J003936.7-731249</th>\n",
       "      <td>PULSAR</td>\n",
       "      <td>0.608646</td>\n",
       "    </tr>\n",
       "    <tr>\n",
       "      <th>2CXO J004028.7-731106</th>\n",
       "      <td>AGN</td>\n",
       "      <td>0.446212</td>\n",
       "    </tr>\n",
       "    <tr>\n",
       "      <th>2CXO J004506.3-730056</th>\n",
       "      <td>PULSAR</td>\n",
       "      <td>0.598368</td>\n",
       "    </tr>\n",
       "    <tr>\n",
       "      <th>2CXO J004659.0-731918</th>\n",
       "      <td>STAR</td>\n",
       "      <td>0.821817</td>\n",
       "    </tr>\n",
       "    <tr>\n",
       "      <th>...</th>\n",
       "      <td>...</td>\n",
       "      <td>...</td>\n",
       "    </tr>\n",
       "    <tr>\n",
       "      <th>2CXO J220433.1-495916</th>\n",
       "      <td>HMXB</td>\n",
       "      <td>0.671695</td>\n",
       "    </tr>\n",
       "    <tr>\n",
       "      <th>2CXO J220508.3-495935</th>\n",
       "      <td>HMXB</td>\n",
       "      <td>0.913425</td>\n",
       "    </tr>\n",
       "    <tr>\n",
       "      <th>2CXO J220544.0-495505</th>\n",
       "      <td>HMXB</td>\n",
       "      <td>0.801407</td>\n",
       "    </tr>\n",
       "    <tr>\n",
       "      <th>2CXO J220555.6-500837</th>\n",
       "      <td>HMXB</td>\n",
       "      <td>0.926816</td>\n",
       "    </tr>\n",
       "    <tr>\n",
       "      <th>2CXO J220603.1-500911</th>\n",
       "      <td>STAR</td>\n",
       "      <td>0.985432</td>\n",
       "    </tr>\n",
       "  </tbody>\n",
       "</table>\n",
       "<p>269366 rows × 2 columns</p>\n",
       "</div>"
      ],
      "text/plain": [
       "                        class      prob\n",
       "name                                   \n",
       "2CXO J003935.9-732725    STAR  0.777433\n",
       "2CXO J003936.7-731249  PULSAR  0.608646\n",
       "2CXO J004028.7-731106     AGN  0.446212\n",
       "2CXO J004506.3-730056  PULSAR  0.598368\n",
       "2CXO J004659.0-731918    STAR  0.821817\n",
       "...                       ...       ...\n",
       "2CXO J220433.1-495916    HMXB  0.671695\n",
       "2CXO J220508.3-495935    HMXB  0.913425\n",
       "2CXO J220544.0-495505    HMXB  0.801407\n",
       "2CXO J220555.6-500837    HMXB  0.926816\n",
       "2CXO J220603.1-500911    STAR  0.985432\n",
       "\n",
       "[269366 rows x 2 columns]"
      ]
     },
     "execution_count": 3,
     "metadata": {},
     "output_type": "execute_result"
    }
   ],
   "source": [
    "df_clf = pd.read_csv('../../not_on_git/final_classification/all_classified.csv' , usecols=['name' , 'prob' , 'class'], index_col='name')\n",
    "df_clf"
   ]
  }
 ],
 "metadata": {
  "kernelspec": {
   "display_name": "Python 3.6.9 64-bit",
   "language": "python",
   "name": "python3"
  },
  "language_info": {
   "codemirror_mode": {
    "name": "ipython",
    "version": 3
   },
   "file_extension": ".py",
   "mimetype": "text/x-python",
   "name": "python",
   "nbconvert_exporter": "python",
   "pygments_lexer": "ipython3",
   "version": "3.6.9"
  },
  "orig_nbformat": 4,
  "vscode": {
   "interpreter": {
    "hash": "31f2aee4e71d21fbe5cf8b01ff0e069b9275f58929596ceb00d14d90e3e16cd6"
   }
  }
 },
 "nbformat": 4,
 "nbformat_minor": 2
}
