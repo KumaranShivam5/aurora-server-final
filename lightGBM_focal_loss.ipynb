{
 "cells": [
  {
   "cell_type": "markdown",
   "metadata": {},
   "source": [
    "# Import Libraries"
   ]
  },
  {
   "cell_type": "code",
   "execution_count": 42,
   "metadata": {},
   "outputs": [
    {
     "name": "stdout",
     "output_type": "stream",
     "text": [
      "The autoreload extension is already loaded. To reload it, use:\n",
      "  %reload_ext autoreload\n"
     ]
    }
   ],
   "source": [
    "import pandas as pd \n",
    "from matplotlib import pyplot as plt \n",
    "import numpy as np \n",
    "import seaborn as sns \n",
    "import lightgbm as lgb \n",
    "%load_ext autoreload\n",
    "%autoreload 2"
   ]
  },
  {
   "cell_type": "code",
   "execution_count": 43,
   "metadata": {},
   "outputs": [],
   "source": [
    "from choices import param_dict \n",
    "from utilities import deets"
   ]
  },
  {
   "cell_type": "markdown",
   "metadata": {},
   "source": [
    "# Load data"
   ]
  },
  {
   "cell_type": "code",
   "execution_count": 44,
   "metadata": {},
   "outputs": [
    {
     "name": "stdout",
     "output_type": "stream",
     "text": [
      "_____________________________________________________\n",
      "------------------------------\n",
      "Number of Objects : 7703\n",
      "Number of Columns : 73\n",
      "------------------------------\n"
     ]
    },
    {
     "data": {
      "text/plain": [
       "STAR      2790\n",
       "AGN       2395\n",
       "YSO       1149\n",
       "HMXB       748\n",
       "ULX        211\n",
       "CV         166\n",
       "LMXB       143\n",
       "PULSAR     101\n",
       "Name: class, dtype: int64"
      ]
     },
     "metadata": {},
     "output_type": "display_data"
    },
    {
     "name": "stdout",
     "output_type": "stream",
     "text": [
      "_____________________________________________________\n",
      "_____________________________________________________\n",
      "------------------------------\n",
      "Number of Objects : 7703\n",
      "Number of Columns : 41\n",
      "_____________________________________________________\n",
      "_____________________________________________________\n",
      "------------------------------\n",
      "Number of Objects : 39893\n",
      "Number of Columns : 41\n",
      "_____________________________________________________\n"
     ]
    }
   ],
   "source": [
    "x = pd.read_csv('compiled_data_v3/x_phot_minmax.csv' , index_col='name')\n",
    "x_col = x.columns.to_list()\n",
    "i = pd.read_csv('compiled_data_v3/id_frame.csv' , index_col='name')\n",
    "df = pd.merge(i,x , left_index =True , right_index =True )\n",
    "df = df[df['offset']<1.01]\n",
    "feat_to_drop = np.unique(param_dict['hardness'] + param_dict['IRAC']+[\n",
    "    '0p5_2csc' , '2-10 keV (XMM)' , '1_2_csc' , '0p5_8_csc'\n",
    "]+['var_inter_hard_prob_hs', 'ks_intra_prob_b', 'var_inter_hard_sigma_hm', 'var_inter_hard_prob_ms', 'var_inter_hard_prob_hm',] )\n",
    "\n",
    "\n",
    "classes = ['AGN' ,'STAR' ,'YSO' ,'HMXB' , 'LMXB' , 'ULX' ,'CV' , 'PULSAR']\n",
    "df = df[df['class'].isin(classes)]\n",
    "#from sklearn.preprocessing import LabelEncoder\n",
    "#y_int = LabelEncoder().fit_transform(df['class'])\n",
    "deets(df,1)\n",
    "u = pd.read_csv('compiled_data_v3/x_phot_minmax-unid-var-src.csv' , index_col='name')\n",
    "u = u.drop(columns=feat_to_drop)\n",
    "u.columns = u.columns.str.replace(' ' ,'_' , regex=False)\n",
    "x = df[x_col]\n",
    "x = x.drop(columns=feat_to_drop)\n",
    "x.columns = x.columns.str.replace(' ' ,'_' , regex=False)\n",
    "y = df['class']\n",
    "deets(x)\n",
    "deets(u)"
   ]
  },
  {
   "cell_type": "markdown",
   "metadata": {},
   "source": [
    "## Loss Function"
   ]
  },
  {
   "cell_type": "code",
   "execution_count": 26,
   "metadata": {},
   "outputs": [],
   "source": [
    "from scipy.misc import derivative"
   ]
  },
  {
   "cell_type": "code",
   "execution_count": 27,
   "metadata": {},
   "outputs": [],
   "source": [
    "def focal_loss_lgb(y_pred, dtrain, alpha, gamma):\n",
    "\ta,g = alpha, gamma\n",
    "\ty_true = dtrain.label\n",
    "\tdef fl(x,t):\n",
    "\t\tp = 1/(1+np.exp(-x))\n",
    "\t\treturn -( a*t + (1-a)*(1-t) ) * (( 1 - ( t*p + (1-t)*(1-p)) )**g) * ( t*np.log(p)+(1-t)*np.log(1-p) )\n",
    "\tpartial_fl = lambda x: fl(x, y_true)\n",
    "\tgrad = derivative(partial_fl, y_pred, n=1, dx=1e-6)\n",
    "\thess = derivative(partial_fl, y_pred, n=2, dx=1e-6)\n",
    "\treturn grad, hess"
   ]
  },
  {
   "cell_type": "code",
   "execution_count": 28,
   "metadata": {},
   "outputs": [],
   "source": [
    "def focal_loss_lgb_eval_error(y_pred, dtrain, alpha, gamma):\n",
    "\ta,g = alpha, gamma\n",
    "\ty_true = dtrain.label\n",
    "\tp = 1/(1+np.exp(-y_pred))\n",
    "\tloss = -( a*y_true + (1-a)*(1-y_true) ) * (( 1 - ( y_true*p + (1-y_true)*(1-p)) )**g) * ( y_true*np.log(p)+(1-y_true)*np.log(1-p) )\n",
    "\treturn 'focal_loss', np.mean(loss), False"
   ]
  },
  {
   "cell_type": "code",
   "execution_count": 29,
   "metadata": {},
   "outputs": [],
   "source": [
    "from sklearn.model_selection import train_test_split\n",
    "from sklearn.preprocessing import LabelEncoder\n",
    "y_int = LabelEncoder().fit_transform(y)"
   ]
  },
  {
   "cell_type": "code",
   "execution_count": 35,
   "metadata": {},
   "outputs": [
    {
     "name": "stdout",
     "output_type": "stream",
     "text": [
      "[LightGBM] [Warning] Using self-defined objective function\n",
      "[LightGBM] [Warning] Auto-choosing col-wise multi-threading, the overhead of testing was 0.001198 seconds.\n",
      "You can set `force_col_wise=true` to remove the overhead.\n",
      "[LightGBM] [Info] Total Bins 9965\n",
      "[LightGBM] [Info] Number of data points in the train set: 6162, number of used features: 41\n",
      "[LightGBM] [Warning] Using self-defined objective function\n",
      "[LightGBM] [Warning] No further splits with positive gain, best gain: -inf\n",
      "[LightGBM] [Warning] Stopped training because there are no more leaves that meet the split requirements\n",
      "[1]\tvalid_0's focal_loss: -0.319417\n",
      "[LightGBM] [Warning] No further splits with positive gain, best gain: -inf\n",
      "[LightGBM] [Warning] Stopped training because there are no more leaves that meet the split requirements\n",
      "[2]\tvalid_0's focal_loss: -0.319417\n",
      "[LightGBM] [Warning] No further splits with positive gain, best gain: -inf\n",
      "[LightGBM] [Warning] Stopped training because there are no more leaves that meet the split requirements\n",
      "[3]\tvalid_0's focal_loss: -0.319417\n",
      "[LightGBM] [Warning] No further splits with positive gain, best gain: -inf\n",
      "[LightGBM] [Warning] Stopped training because there are no more leaves that meet the split requirements\n",
      "[4]\tvalid_0's focal_loss: -0.319417\n",
      "[LightGBM] [Warning] No further splits with positive gain, best gain: -inf\n",
      "[LightGBM] [Warning] Stopped training because there are no more leaves that meet the split requirements\n",
      "[5]\tvalid_0's focal_loss: -0.319417\n",
      "[LightGBM] [Warning] No further splits with positive gain, best gain: -inf\n",
      "[LightGBM] [Warning] Stopped training because there are no more leaves that meet the split requirements\n",
      "[6]\tvalid_0's focal_loss: -0.319417\n",
      "[LightGBM] [Warning] No further splits with positive gain, best gain: -inf\n",
      "[LightGBM] [Warning] Stopped training because there are no more leaves that meet the split requirements\n",
      "[7]\tvalid_0's focal_loss: -0.319417\n",
      "[LightGBM] [Warning] No further splits with positive gain, best gain: -inf\n",
      "[LightGBM] [Warning] Stopped training because there are no more leaves that meet the split requirements\n",
      "[8]\tvalid_0's focal_loss: -0.319417\n",
      "[LightGBM] [Warning] No further splits with positive gain, best gain: -inf\n",
      "[LightGBM] [Warning] Stopped training because there are no more leaves that meet the split requirements\n",
      "[9]\tvalid_0's focal_loss: -0.319417\n",
      "[LightGBM] [Warning] No further splits with positive gain, best gain: -inf\n",
      "[LightGBM] [Warning] Stopped training because there are no more leaves that meet the split requirements\n",
      "[10]\tvalid_0's focal_loss: -0.319417\n"
     ]
    },
    {
     "name": "stderr",
     "output_type": "stream",
     "text": [
      "/home/kumaran/.local/lib/python3.6/site-packages/lightgbm/engine.py:177: UserWarning: Found `num_boost_round` in params. Will use it instead of argument\n",
      "  _log_warning(f\"Found `{alias}` in params. Will use it instead of argument\")\n"
     ]
    }
   ],
   "source": [
    "x_train,x_test , y_train , y_test = train_test_split(x,y_int , test_size = 0.2 , stratify=y)\n",
    "\n",
    "focal_loss = lambda x,y: focal_loss_lgb(x, y, 0.25, 1.)\n",
    "eval_error = lambda x,y: focal_loss_lgb_eval_error(x, y, 0.25, 1.)\n",
    "lgbtrain = lgb.Dataset(x_train, y_train)\n",
    "lgbeval = lgb.Dataset(x_test, y_test)\n",
    "params  = {'learning_rate':0.1, 'num_boost_round':10}\n",
    "model = lgb.train(params, lgbtrain, valid_sets=[lgbeval], fobj=focal_loss, feval=eval_error )\n",
    "\n",
    "#model = lgb.LGBMClassifier(n_estimators=100 , objective= 'multiclass', sparse=True , is_unbalance=True , metric=['auc_mu'] ,verbosity = 0 , random_state=42 , num_class=len(np.unique(y)) ,force_col_wise=True)\n",
    "#model.train()"
   ]
  },
  {
   "cell_type": "code",
   "execution_count": 36,
   "metadata": {},
   "outputs": [],
   "source": [
    "import numpy as np\n",
    "from scipy import optimize\n",
    "from scipy import special\n",
    "\n",
    "class FocalLoss:\n",
    "\n",
    "    def __init__(self, gamma, alpha=None):\n",
    "        self.alpha = alpha\n",
    "        self.gamma = gamma\n",
    "\n",
    "    def at(self, y):\n",
    "        if self.alpha is None:\n",
    "            return np.ones_like(y)\n",
    "        return np.where(y, self.alpha, 1 - self.alpha)\n",
    "\n",
    "    def pt(self, y, p):\n",
    "        p = np.clip(p, 1e-15, 1 - 1e-15)\n",
    "        return np.where(y, p, 1 - p)\n",
    "\n",
    "    def __call__(self, y_true, y_pred):\n",
    "        at = self.at(y_true)\n",
    "        pt = self.pt(y_true, y_pred)\n",
    "        return -at * (1 - pt) ** self.gamma * np.log(pt)\n",
    "\n",
    "    def grad(self, y_true, y_pred):\n",
    "        y = 2 * y_true - 1  # {0, 1} -> {-1, 1}\n",
    "        at = self.at(y_true)\n",
    "        pt = self.pt(y_true, y_pred)\n",
    "        g = self.gamma\n",
    "        return at * y * (1 - pt) ** g * (g * pt * np.log(pt) + pt - 1)\n",
    "\n",
    "    def hess(self, y_true, y_pred):\n",
    "        y = 2 * y_true - 1  # {0, 1} -> {-1, 1}\n",
    "        at = self.at(y_true)\n",
    "        pt = self.pt(y_true, y_pred)\n",
    "        g = self.gamma\n",
    "\n",
    "        u = at * y * (1 - pt) ** g\n",
    "        du = -at * y * g * (1 - pt) ** (g - 1)\n",
    "        v = g * pt * np.log(pt) + pt - 1\n",
    "        dv = g * np.log(pt) + g + 1\n",
    "\n",
    "        return (du * v + u * dv) * y * (pt * (1 - pt))\n",
    "\n",
    "    def init_score(self, y_true):\n",
    "        res = optimize.minimize_scalar(\n",
    "            lambda p: self(y_true, p).sum(),\n",
    "            bounds=(0, 1),\n",
    "            method='bounded'\n",
    "        )\n",
    "        p = res.x\n",
    "        log_odds = np.log(p / (1 - p))\n",
    "        return log_odds\n",
    "\n",
    "    def lgb_obj(self, preds, train_data):\n",
    "        y = train_data.get_label()\n",
    "        p = special.expit(preds)\n",
    "        return self.grad(y, p), self.hess(y, p)\n",
    "\n",
    "    def lgb_eval(self, preds, train_data):\n",
    "        y = train_data.get_label()\n",
    "        p = special.expit(preds)\n",
    "        is_higher_better = False\n",
    "        return 'focal_loss', self(y, p).mean(), is_higher_better"
   ]
  },
  {
   "cell_type": "code",
   "execution_count": 37,
   "metadata": {},
   "outputs": [
    {
     "data": {
      "image/png": "[encoded data removed]",
      "text/plain": [
       "<Figure size 720x504 with 1 Axes>"
      ]
     },
     "metadata": {
      "needs_background": "light"
     },
     "output_type": "display_data"
    }
   ],
   "source": [
    "import matplotlib\n",
    "import matplotlib.pyplot as plt\n",
    "from scipy import special\n",
    "\n",
    "fig, ax = plt.subplots(figsize=(10, 7))\n",
    "matplotlib.rc('font', size=14)\n",
    "\n",
    "np.random.seed(10)\n",
    "y = np.random.randint(2, size=500)  # random 0s and 1s\n",
    "\n",
    "for alpha in [.1, .5, .9]:\n",
    "    for gamma in [1, 3]:\n",
    "        fl = FocalLoss(alpha=alpha, gamma=gamma)\n",
    "        ps = np.linspace(5e-2, 1 - 5e-2, 100)\n",
    "        ls = [fl(y, p).sum() for p in ps]\n",
    "\n",
    "        curve = ax.plot(ps, ls, label=r'$\\alpha$ = %s, $\\gamma$ = %s' % (alpha, gamma))[0]\n",
    "        p = special.expit(fl.init_score(y))\n",
    "        ax.axvline(p, color=curve.get_color(), linestyle='--')\n",
    "\n",
    "ax.legend()\n",
    "ax.grid()\n",
    "ax.set_title('Obtained initialization constants')\n",
    "ax.set_xlabel(r'$p$')\n",
    "ax.set_ylabel('Focal loss value')\n",
    "fig.savefig('focal_loss_min.png')"
   ]
  },
  {
   "cell_type": "code",
   "execution_count": 41,
   "metadata": {},
   "outputs": [
    {
     "data": {
      "text/plain": [
       "array([1, 1, 0, 1, 0, 1, 1, 0, 1, 1, 0, 1, 1, 0, 0, 1, 0, 0, 0, 0, 0, 1,\n",
       "       0, 0, 1, 1, 0, 0, 1, 0, 0, 1, 0, 0, 0, 1, 1, 0, 1, 1, 1, 1, 1, 0,\n",
       "       1, 0, 0, 0, 0, 1, 0, 1, 1, 1, 0, 1, 0, 1, 1, 0, 1, 0, 0, 1, 0, 0,\n",
       "       0, 1, 1, 0, 0, 0, 1, 0, 1, 1, 0, 1, 1, 0, 1, 0, 0, 0, 0, 0, 1, 0,\n",
       "       1, 0, 0, 0, 0, 0, 0, 0, 1, 1, 0, 1, 1, 0, 0, 1, 0, 0, 1, 0, 0, 0,\n",
       "       0, 0, 0, 1, 1, 1, 0, 0, 0, 1, 1, 1, 1, 0, 1, 0, 1, 1, 1, 0, 0, 1,\n",
       "       1, 1, 0, 0, 0, 0, 0, 1, 1, 1, 1, 0, 1, 1, 0, 0, 0, 1, 0, 1, 1, 0,\n",
       "       1, 0, 0, 0, 0, 1, 1, 0, 0, 0, 1, 1, 1, 0, 0, 0, 0, 0, 0, 0, 0, 1,\n",
       "       0, 1, 1, 1, 0, 0, 0, 1, 0, 1, 0, 1, 1, 1, 1, 1, 1, 0, 1, 1, 1, 1,\n",
       "       1, 1, 0, 0, 1, 1, 0, 1, 1, 1, 0, 1, 0, 1, 0, 0, 1, 1, 0, 1, 1, 1,\n",
       "       0, 1, 1, 0, 1, 1, 1, 0, 1, 0, 0, 1, 1, 1, 1, 1, 0, 0, 1, 1, 0, 0,\n",
       "       0, 0, 0, 0, 0, 0, 0, 0, 1, 0, 1, 0, 1, 0, 1, 0, 1, 1, 0, 1, 1, 1,\n",
       "       0, 0, 0, 0, 0, 0, 0, 0, 1, 0, 0, 0, 1, 0, 1, 0, 0, 0, 0, 1, 1, 1,\n",
       "       1, 0, 1, 1, 1, 1, 0, 1, 1, 1, 0, 0, 1, 0, 0, 0, 0, 0, 1, 1, 0, 0,\n",
       "       0, 1, 0, 0, 1, 0, 0, 0, 0, 1, 0, 0, 1, 1, 0, 1, 1, 1, 1, 1, 1, 0,\n",
       "       0, 1, 1, 1, 0, 0, 0, 1, 0, 1, 1, 0, 1, 1, 1, 1, 0, 1, 0, 1, 1, 0,\n",
       "       0, 1, 0, 0, 0, 0, 0, 0, 1, 1, 1, 1, 0, 1, 0, 1, 1, 0, 0, 1, 1, 1,\n",
       "       1, 0, 0, 0, 1, 0, 0, 1, 0, 0, 0, 1, 0, 1, 1, 0, 0, 1, 0, 0, 0, 1,\n",
       "       1, 1, 1, 0, 1, 1, 0, 0, 0, 1, 1, 0, 1, 0, 0, 1, 1, 0, 1, 0, 1, 0,\n",
       "       1, 0, 1, 1, 0, 1, 1, 1, 0, 1, 1, 0, 0, 0, 0, 0, 0, 0, 1, 0, 1, 0,\n",
       "       1, 0, 1, 1, 1, 1, 1, 0, 1, 0, 1, 1, 0, 0, 1, 0, 0, 0, 1, 1, 1, 0,\n",
       "       1, 0, 1, 1, 0, 0, 1, 0, 1, 0, 1, 1, 1, 0, 0, 1, 0, 1, 1, 0, 1, 0,\n",
       "       1, 1, 0, 1, 0, 1, 0, 0, 1, 0, 0, 0, 1, 1, 0, 1])"
      ]
     },
     "execution_count": 41,
     "metadata": {},
     "output_type": "execute_result"
    }
   ],
   "source": [
    "y"
   ]
  },
  {
   "cell_type": "code",
   "execution_count": 47,
   "metadata": {},
   "outputs": [
    {
     "data": {
      "text/plain": [
       "array([0, 1, 2, 3, 4, 5, 6, 7])"
      ]
     },
     "execution_count": 47,
     "metadata": {},
     "output_type": "execute_result"
    }
   ],
   "source": [
    "np.unique(y_int)"
   ]
  },
  {
   "cell_type": "code",
   "execution_count": 50,
   "metadata": {},
   "outputs": [
    {
     "name": "stderr",
     "output_type": "stream",
     "text": [
      "/home/kumaran/.local/lib/python3.6/site-packages/lightgbm/engine.py:181: UserWarning: 'early_stopping_rounds' argument is deprecated and will be removed in a future release of LightGBM. Pass 'early_stopping()' callback via 'callbacks' argument instead.\n",
      "  _log_warning(\"'early_stopping_rounds' argument is deprecated and will be removed in a future release of LightGBM. \"\n",
      "/home/kumaran/.local/lib/python3.6/site-packages/lightgbm/engine.py:239: UserWarning: 'verbose_eval' argument is deprecated and will be removed in a future release of LightGBM. Pass 'log_evaluation()' callback via 'callbacks' argument instead.\n",
      "  _log_warning(\"'verbose_eval' argument is deprecated and will be removed in a future release of LightGBM. \"\n"
     ]
    },
    {
     "name": "stdout",
     "output_type": "stream",
     "text": [
      "[LightGBM] [Warning] Using self-defined objective function\n",
      "[LightGBM] [Warning] Auto-choosing col-wise multi-threading, the overhead of testing was 0.001012 seconds.\n",
      "You can set `force_col_wise=true` to remove the overhead.\n",
      "[LightGBM] [Info] Total Bins 9965\n",
      "[LightGBM] [Info] Number of data points in the train set: 4621, number of used features: 41\n",
      "[LightGBM] [Warning] Using self-defined objective function\n",
      "Training until validation scores don't improve for 20 rounds\n",
      "[100]\tfit's focal_loss: 0.3822\tval's focal_loss: 0.393179\n",
      "[200]\tfit's focal_loss: 0.307381\tval's focal_loss: 0.327342\n",
      "[300]\tfit's focal_loss: 0.262547\tval's focal_loss: 0.288734\n",
      "[400]\tfit's focal_loss: 0.233831\tval's focal_loss: 0.265599\n",
      "[500]\tfit's focal_loss: 0.211047\tval's focal_loss: 0.246634\n",
      "[600]\tfit's focal_loss: 0.186276\tval's focal_loss: 0.22818\n",
      "[700]\tfit's focal_loss: 0.16885\tval's focal_loss: 0.214393\n",
      "[800]\tfit's focal_loss: 0.154037\tval's focal_loss: 0.202318\n",
      "[900]\tfit's focal_loss: 0.140003\tval's focal_loss: 0.191942\n",
      "[1000]\tfit's focal_loss: 0.127957\tval's focal_loss: 0.181568\n",
      "[1100]\tfit's focal_loss: 0.117259\tval's focal_loss: 0.172465\n",
      "[1200]\tfit's focal_loss: 0.106416\tval's focal_loss: 0.164381\n",
      "[1300]\tfit's focal_loss: 0.0959136\tval's focal_loss: 0.156086\n",
      "[1400]\tfit's focal_loss: 0.0869774\tval's focal_loss: 0.149064\n",
      "[1500]\tfit's focal_loss: 0.0794398\tval's focal_loss: 0.143613\n",
      "[1600]\tfit's focal_loss: 0.0731333\tval's focal_loss: 0.139142\n",
      "[1700]\tfit's focal_loss: 0.0674927\tval's focal_loss: 0.135401\n",
      "[1800]\tfit's focal_loss: 0.0620025\tval's focal_loss: 0.131751\n",
      "[1900]\tfit's focal_loss: 0.0568486\tval's focal_loss: 0.128897\n",
      "[2000]\tfit's focal_loss: 0.051804\tval's focal_loss: 0.126968\n",
      "[2100]\tfit's focal_loss: 0.0478687\tval's focal_loss: 0.125163\n",
      "[2200]\tfit's focal_loss: 0.0442581\tval's focal_loss: 0.123293\n",
      "[2300]\tfit's focal_loss: 0.0408556\tval's focal_loss: 0.121914\n",
      "[2400]\tfit's focal_loss: 0.0377922\tval's focal_loss: 0.119843\n",
      "[2500]\tfit's focal_loss: 0.0352311\tval's focal_loss: 0.118388\n",
      "[2600]\tfit's focal_loss: 0.0325336\tval's focal_loss: 0.117472\n",
      "Early stopping, best iteration is:\n",
      "[2608]\tfit's focal_loss: 0.0323389\tval's focal_loss: 0.117445\n",
      "\n"
     ]
    }
   ],
   "source": [
    "import lightgbm\n",
    "import numpy as np\n",
    "import pandas as pd\n",
    "from scipy import optimize\n",
    "from scipy import special\n",
    "from sklearn import metrics\n",
    "from sklearn import model_selection\n",
    "\n",
    "\n",
    "X = x.copy()\n",
    "\n",
    "fl = FocalLoss(alpha=None, gamma=0)\n",
    "\n",
    "X_train, X_test, y_train, y_test = model_selection.train_test_split(\n",
    "    X, y_int,\n",
    "    random_state=42 , test_size=0.2\n",
    ")\n",
    "\n",
    "X_fit, X_val, y_fit, y_val = model_selection.train_test_split(\n",
    "    X_train, y_train,\n",
    "    random_state=42\n",
    ")\n",
    "\n",
    "fit = lightgbm.Dataset(\n",
    "    X_fit, y_fit,\n",
    "    init_score=np.full_like(y_fit, fl.init_score(y_fit), dtype=float)\n",
    ")\n",
    "\n",
    "val = lightgbm.Dataset(\n",
    "    X_val, y_val,\n",
    "    init_score=np.full_like(y_val, fl.init_score(y_fit), dtype=float),\n",
    "    reference=fit\n",
    ")\n",
    "\n",
    "model = lightgbm.train(\n",
    "    params={'learning_rate': 0.01},\n",
    "    train_set=fit,\n",
    "    num_boost_round=10000,\n",
    "    valid_sets=(fit, val),\n",
    "    valid_names=('fit', 'val'),\n",
    "    early_stopping_rounds=20,\n",
    "    verbose_eval=100,\n",
    "    fobj=fl.lgb_obj,\n",
    "    feval=fl.lgb_eval\n",
    ")\n",
    "\n",
    "y_pred = special.expit(fl.init_score(y_fit) + model.predict(X_test))\n",
    "\n",
    "print()\n",
    "#print(f\"Test's ROC AUC: {metrics.roc_auc_score(y_test, y_pred , multi_class='ovr' , average='none'):.5f}\")\n",
    "#print(f\"Test's logloss: {metrics.log_loss(y_test, y_pred , multi_class='ovr' , average='none'):.5f}\")"
   ]
  },
  {
   "cell_type": "code",
   "execution_count": 52,
   "metadata": {},
   "outputs": [
    {
     "data": {
      "text/plain": [
       "array([0., 1.])"
      ]
     },
     "execution_count": 52,
     "metadata": {},
     "output_type": "execute_result"
    }
   ],
   "source": [
    "y_pred_int = np.rint(y_pred)\n",
    "np.unique(y_pred_int)"
   ]
  },
  {
   "cell_type": "code",
   "execution_count": 53,
   "metadata": {},
   "outputs": [],
   "source": [
    "import numpy as np\n",
    "from joblib import Parallel, delayed\n",
    "from sklearn.multiclass import _ConstantPredictor\n",
    "from sklearn.preprocessing import LabelBinarizer\n",
    "from scipy import special\n",
    "import lightgbm as lgb\n",
    "\n",
    "\n",
    "class OneVsRestLightGBMWithCustomizedLoss:\n",
    "\n",
    "    def __init__(self, loss, n_jobs=3):\n",
    "        self.loss = loss\n",
    "        self.n_jobs = n_jobs\n",
    "\n",
    "    def fit(self, X, y, **fit_params):\n",
    "\n",
    "        self.label_binarizer_ = LabelBinarizer(sparse_output=True)\n",
    "        Y = self.label_binarizer_.fit_transform(y)\n",
    "        Y = Y.tocsc()\n",
    "        self.classes_ = self.label_binarizer_.classes_\n",
    "        columns = (col.toarray().ravel() for col in Y.T)\n",
    "        if 'eval_set' in fit_params:\n",
    "            # use eval_set for early stopping\n",
    "            X_val, y_val = fit_params['eval_set'][0]\n",
    "            Y_val = self.label_binarizer_.transform(y_val)\n",
    "            Y_val = Y_val.tocsc()\n",
    "            columns_val = (col.toarray().ravel() for col in Y_val.T)\n",
    "            self.results_ = Parallel(n_jobs=self.n_jobs)(delayed(self._fit_binary)\n",
    "                                                         (X, column, X_val, column_val, **fit_params) for\n",
    "                                                         i, (column, column_val) in\n",
    "                                                         enumerate(zip(columns, columns_val)))\n",
    "        else:\n",
    "            # eval set not available\n",
    "            self.results_ = Parallel(n_jobs=self.n_jobs)(delayed(self._fit_binary)\n",
    "                                                         (X, column, None, None, **fit_params) for i, column\n",
    "                                                         in enumerate(columns))\n",
    "\n",
    "        return self\n",
    "\n",
    "    def _fit_binary(self, X, y, X_val, y_val, **fit_params):\n",
    "        unique_y = np.unique(y)\n",
    "        init_score_value = self.loss.init_score(y)\n",
    "        if len(unique_y) == 1:\n",
    "            estimator = _ConstantPredictor().fit(X, unique_y)\n",
    "        else:\n",
    "            fit = lgb.Dataset(X, y, init_score=np.full_like(y, init_score_value, dtype=float))\n",
    "            if 'eval_set' in fit_params:\n",
    "                val = lgb.Dataset(X_val, y_val, init_score=np.full_like(y_val, init_score_value, dtype=float),\n",
    "                                  reference=fit)\n",
    "\n",
    "                estimator = lgb.train(params=fit_params,\n",
    "                                      train_set=fit,\n",
    "                                      valid_sets=(fit, val),\n",
    "                                      valid_names=('fit', 'val'),\n",
    "                                      early_stopping_rounds=10,\n",
    "                                      fobj=self.loss.lgb_obj,\n",
    "                                      feval=self.loss.lgb_eval,\n",
    "                                      verbose_eval=10)\n",
    "            else:\n",
    "                estimator = lgb.train(params=fit_params,\n",
    "                                      train_set=fit,\n",
    "                                      fobj=self.loss.lgb_obj,\n",
    "                                      feval=self.loss.lgb_eval,\n",
    "                                      verbose_eval=10)\n",
    "\n",
    "        return estimator, init_score_value\n",
    "\n",
    "    def predict(self, X):\n",
    "\n",
    "        n_samples = X.shape[0]\n",
    "        maxima = np.empty(n_samples, dtype=float)\n",
    "        maxima.fill(-np.inf)\n",
    "        argmaxima = np.zeros(n_samples, dtype=int)\n",
    "\n",
    "        for i, (e, init_score) in enumerate(self.results_):\n",
    "            margins = e.predict(X, raw_score=True)\n",
    "            prob = special.expit(margins + init_score)\n",
    "            np.maximum(maxima, prob, out=maxima)\n",
    "            argmaxima[maxima == prob] = i\n",
    "\n",
    "        return argmaxima\n",
    "\n",
    "    def predict_proba(self, X):\n",
    "        y = np.zeros((X.shape[0], len(self.results_)))\n",
    "        for i, (e, init_score) in enumerate(self.results_):\n",
    "            margins = e.predict(X, raw_score=True)\n",
    "            y[:, i] = special.expit(margins + init_score)\n",
    "        y /= np.sum(y, axis=1)[:, np.newaxis]\n",
    "        return y"
   ]
  },
  {
   "cell_type": "code",
   "execution_count": 56,
   "metadata": {},
   "outputs": [
    {
     "name": "stdout",
     "output_type": "stream",
     "text": [
      "['Class 0', 'Class 1', 'Class 2', 'Class 3', 'Class 4', 'Class 5', 'Class 6', 'Class 7']\n"
     ]
    }
   ],
   "source": [
    "\n",
    "le = LabelEncoder()\n",
    "X = x.copy()\n",
    "y_label = le.fit_transform(y)\n",
    "X_train, X_test, y_train, y_test = train_test_split(X, y_label, test_size=0.30, random_state=42)\n",
    "\n",
    "classes =[]\n",
    "labeles=np.unique(y_label)\n",
    "for v in labeles:\n",
    "    classes.append('Class '+ str(v))\n",
    "print(classes)"
   ]
  },
  {
   "cell_type": "code",
   "execution_count": 59,
   "metadata": {},
   "outputs": [
    {
     "name": "stdout",
     "output_type": "stream",
     "text": [
      "Prediction accuracy 0.9294677628732151  recall  0.7314442123274739\n"
     ]
    }
   ],
   "source": [
    "import lightgbm as lgb\n",
    "from sklearn.metrics import accuracy_score , recall_score , confusion_matrix , plot_confusion_matrix\n",
    "clf = lgb.LGBMClassifier()\n",
    "clf.fit(X_train, y_train)\n",
    "\n",
    "y_test_pred = clf.predict(X_test)\n",
    "pred_accuracy_score = accuracy_score(y_test, y_test_pred)\n",
    "pred_recall_score = recall_score(y_test, y_test_pred, average='macro')\n",
    "print('Prediction accuracy', pred_accuracy_score,' recall ', pred_recall_score)\n",
    "\n",
    "cnf_matrix = confusion_matrix(y_test, y_test_pred, labels=labeles)\n",
    "#plot_confusion_matrix(cnf_matrix, labels=classes,normalize=True,  title='Confusion matrix')\n"
   ]
  },
  {
   "cell_type": "code",
   "execution_count": 62,
   "metadata": {},
   "outputs": [
    {
     "data": {
      "text/plain": [
       "array([[0.97503467, 0.        , 0.01386963, 0.        , 0.00138696,\n",
       "        0.00277393, 0.00693481, 0.        ],\n",
       "       [0.14285714, 0.42857143, 0.06122449, 0.        , 0.08163265,\n",
       "        0.18367347, 0.04081633, 0.06122449],\n",
       "       [0.03139013, 0.        , 0.91479821, 0.        , 0.        ,\n",
       "        0.03139013, 0.01793722, 0.0044843 ],\n",
       "       [0.02272727, 0.09090909, 0.        , 0.79545455, 0.        ,\n",
       "        0.02272727, 0.04545455, 0.02272727],\n",
       "       [0.06451613, 0.19354839, 0.        , 0.        , 0.25806452,\n",
       "        0.16129032, 0.06451613, 0.25806452],\n",
       "       [0.00468933, 0.00820633, 0.003517  , 0.        , 0.00117233,\n",
       "        0.96600234, 0.        , 0.01641266],\n",
       "       [0.21311475, 0.01639344, 0.16393443, 0.01639344, 0.        ,\n",
       "        0.04918033, 0.54098361, 0.        ],\n",
       "       [0.        , 0.        , 0.00303951, 0.        , 0.        ,\n",
       "        0.02431611, 0.        , 0.97264438]])"
      ]
     },
     "execution_count": 62,
     "metadata": {},
     "output_type": "execute_result"
    }
   ],
   "source": [
    "cnf_matrix = confusion_matrix(y_test, y_test_pred, labels=labeles , normalize='true')\n",
    "cnf_matrix"
   ]
  }
 ],
 "metadata": {
  "interpreter": {
   "hash": "31f2aee4e71d21fbe5cf8b01ff0e069b9275f58929596ceb00d14d90e3e16cd6"
  },
  "kernelspec": {
   "display_name": "Python 3.6.9 64-bit",
   "language": "python",
   "name": "python3"
  },
  "language_info": {
   "codemirror_mode": {
    "name": "ipython",
    "version": 3
   },
   "file_extension": ".py",
   "mimetype": "text/x-python",
   "name": "python",
   "nbconvert_exporter": "python",
   "pygments_lexer": "ipython3",
   "version": "3.6.9"
  },
  "orig_nbformat": 4
 },
 "nbformat": 4,
 "nbformat_minor": 2
}
